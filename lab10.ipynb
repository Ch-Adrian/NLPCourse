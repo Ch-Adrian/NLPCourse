{
 "cells": [
  {
   "cell_type": "markdown",
   "metadata": {},
   "source": [
    "# RAG-based Question Answering"
   ]
  },
  {
   "cell_type": "markdown",
   "metadata": {},
   "source": [
    "## Objectives (8 points):"
   ]
  },
  {
   "cell_type": "code",
   "execution_count": 1,
   "metadata": {},
   "outputs": [
    {
     "name": "stdout",
     "output_type": "stream",
     "text": [
      "Python 3.10.16\n"
     ]
    }
   ],
   "source": [
    "!python --version"
   ]
  },
  {
   "cell_type": "markdown",
   "metadata": {},
   "source": [
    "1. Set up the QA environment:\n",
    "   * Install OLLAMA and select an appropriate LLM\n",
    "   * Configure [Qdrant](https://qdrant.tech/) vector database (or vector DB of your choosing)\n",
    "   * Install necessary Python packages for embedding generation"
   ]
  },
  {
   "cell_type": "code",
   "execution_count": 2,
   "metadata": {},
   "outputs": [],
   "source": [
    "from qdrant_client import models, QdrantClient\n",
    "\n",
    "client = QdrantClient(url=\"http://localhost:6333\")"
   ]
  },
  {
   "cell_type": "code",
   "execution_count": 48,
   "metadata": {},
   "outputs": [
    {
     "data": {
      "text/plain": [
       "True"
      ]
     },
     "execution_count": 48,
     "metadata": {},
     "output_type": "execute_result"
    }
   ],
   "source": [
    "client.create_collection(\n",
    "    collection_name=\"pdf3\",\n",
    "    vectors_config=models.VectorParams(\n",
    "        size=4096,\n",
    "        distance=models.Distance.COSINE,\n",
    "    ),\n",
    ")"
   ]
  },
  {
   "cell_type": "markdown",
   "metadata": {},
   "source": [
    "2. Find PDF file of your choosing. Example - some publication or CV file:"
   ]
  },
  {
   "cell_type": "markdown",
   "metadata": {},
   "source": [
    "3. Write next procedures necessary for RAG pipeline. Use [LangChain](https://python.langchain.com/docs/introduction/) library:\n",
    " \n",
    "   * Load PDF file using `PyPDFLoader`.  \n",
    "   * Split documents into appropriate chunks using `RecursiveCharacterTextSplitter`.\n",
    "   * Generate and store embeddings in Qdrant database"
   ]
  },
  {
   "cell_type": "code",
   "execution_count": 4,
   "metadata": {},
   "outputs": [],
   "source": [
    "from langchain_community.document_loaders import PyPDFLoader\n",
    "from langchain_text_splitters import RecursiveCharacterTextSplitter"
   ]
  },
  {
   "cell_type": "code",
   "execution_count": 5,
   "metadata": {},
   "outputs": [
    {
     "name": "stderr",
     "output_type": "stream",
     "text": [
      "USER_AGENT environment variable not set, consider setting it to identify your requests.\n"
     ]
    }
   ],
   "source": [
    "import bs4\n",
    "from langchain import hub\n",
    "from langchain_community.document_loaders import WebBaseLoader\n",
    "from langchain_core.documents import Document\n",
    "from langchain_text_splitters import RecursiveCharacterTextSplitter\n",
    "from langgraph.graph import START, StateGraph\n",
    "from typing_extensions import List, TypedDict"
   ]
  },
  {
   "cell_type": "code",
   "execution_count": 49,
   "metadata": {},
   "outputs": [],
   "source": [
    "loader = PyPDFLoader(\"terminology.pdf\")\n",
    "pages = loader.load_and_split()\n",
    "page_content = list(map(lambda x: x.page_content, pages))"
   ]
  },
  {
   "cell_type": "code",
   "execution_count": 50,
   "metadata": {},
   "outputs": [
    {
     "name": "stdout",
     "output_type": "stream",
     "text": [
      "4\n",
      "John Colet SchoolEnglish DepartmentKey Subject Terminology\n",
      "Key term Definition Example\n",
      "Adjective Describes a noun, gives more informationabout it\n",
      "Beautiful, stunning, disgraceful,angry\n",
      "Adverb Describes a verb, gives more informationabout it.\n",
      "Angrily, happily, joyfully.\n",
      "Allegory A type of writing in which the settings,characters, or events stand for other, oftenlarger ideas\n",
      "The novelAnimal Farmappears tobe about a group of animals, butthey represent larger ideas aboutrevolution and politics\n",
      "Alliteration The same letter or sound at the beginningof words close to each other.\n",
      "Brilliant birdsSlithering snakeSweet birds sang\n",
      "Allusion Making reference to people, places,events, literary works, myths, or works ofart\n",
      "‘Don’t be such a Scrooge’‘Is there a good Samaritan who canhelp me?’\n",
      "Anaphora Repetition of a word or phrase at thebeginning of successive sentences, phrasesor clauses\n",
      "‘It was the best of times, it was theworst of times’\n",
      "Antithesis A person or thing that is the directopposite of someone or something else\n",
      "Love is the antithesis of hate\n",
      "Assonance When two or more words close to oneanother repeat the same vowel sound butstart with different consonant sounds.\n",
      "We light fire on the mountain.I feel depressed and restless.\n",
      "Caesura A break or pause in the middle of a line ofverse/poetry\n",
      "‘To be or nor to be, that is thequestion’\n",
      "CharacterisationHow a character is introduced anddeveloped, through what the writerinforms us about them\n",
      "‘the noble Harry Potter’‘good Harry Potter’\n",
      "Cliché A phrase or opinion that is overused andshows a lack of original thought.\n",
      "Time heals all woundsFrightened to death\n",
      "ColloquialismThe use of informal words, phrases or evenslang.\n",
      "WannaGonnaGo nuts\n"
     ]
    }
   ],
   "source": [
    "print(len(pages))\n",
    "print(pages[0].page_content)"
   ]
  },
  {
   "cell_type": "code",
   "execution_count": 53,
   "metadata": {},
   "outputs": [],
   "source": [
    "text_splitter = RecursiveCharacterTextSplitter(\n",
    "    chunk_size=500,\n",
    "    chunk_overlap=150,\n",
    "    length_function=len,\n",
    "    is_separator_regex=False,\n",
    "    add_start_index=True,\n",
    ")"
   ]
  },
  {
   "cell_type": "code",
   "execution_count": 54,
   "metadata": {},
   "outputs": [
    {
     "name": "stdout",
     "output_type": "stream",
     "text": [
      "page_content='John Colet SchoolEnglish DepartmentKey Subject Terminology\n",
      "Key term Definition Example\n",
      "Adjective Describes a noun, gives more informationabout it\n",
      "Beautiful, stunning, disgraceful,angry\n",
      "Adverb Describes a verb, gives more informationabout it.\n",
      "Angrily, happily, joyfully.\n",
      "Allegory A type of writing in which the settings,characters, or events stand for other, oftenlarger ideas\n",
      "The novelAnimal Farmappears tobe about a group of animals, butthey represent larger ideas aboutrevolution and politics' metadata={'start_index': 0}\n",
      "page_content='The novelAnimal Farmappears tobe about a group of animals, butthey represent larger ideas aboutrevolution and politics\n",
      "Alliteration The same letter or sound at the beginningof words close to each other.\n",
      "Brilliant birdsSlithering snakeSweet birds sang\n",
      "Allusion Making reference to people, places,events, literary works, myths, or works ofart\n",
      "‘Don’t be such a Scrooge’‘Is there a good Samaritan who canhelp me?’' metadata={'start_index': 376}\n"
     ]
    }
   ],
   "source": [
    "texts = text_splitter.create_documents(page_content)\n",
    "# texts = text_splitter.create_documents([pages[0].page_content])\n",
    "print(texts[0])\n",
    "print(texts[1])"
   ]
  },
  {
   "cell_type": "code",
   "execution_count": 55,
   "metadata": {},
   "outputs": [],
   "source": [
    "from langchain_ollama import ChatOllama\n",
    "\n",
    "llm = ChatOllama(\n",
    "    model=\"mistral\",\n",
    "    temperature=0,\n",
    ")"
   ]
  },
  {
   "cell_type": "code",
   "execution_count": 56,
   "metadata": {},
   "outputs": [],
   "source": [
    "from langchain_ollama import OllamaEmbeddings\n",
    "\n",
    "embed = OllamaEmbeddings(\n",
    "    model=\"mistral\"\n",
    ")"
   ]
  },
  {
   "cell_type": "code",
   "execution_count": 57,
   "metadata": {},
   "outputs": [
    {
     "name": "stdout",
     "output_type": "stream",
     "text": [
      "[Document(metadata={'start_index': 0}, page_content='John Colet SchoolEnglish DepartmentKey Subject Terminology\\nKey term Definition Example\\nAdjective Describes a noun, gives more informationabout it\\nBeautiful, stunning, disgraceful,angry\\nAdverb Describes a verb, gives more informationabout it.\\nAngrily, happily, joyfully.\\nAllegory A type of writing in which the settings,characters, or events stand for other, oftenlarger ideas\\nThe novelAnimal Farmappears tobe about a group of animals, butthey represent larger ideas aboutrevolution and politics'), Document(metadata={'start_index': 376}, page_content='The novelAnimal Farmappears tobe about a group of animals, butthey represent larger ideas aboutrevolution and politics\\nAlliteration The same letter or sound at the beginningof words close to each other.\\nBrilliant birdsSlithering snakeSweet birds sang\\nAllusion Making reference to people, places,events, literary works, myths, or works ofart\\n‘Don’t be such a Scrooge’‘Is there a good Samaritan who canhelp me?’'), Document(metadata={'start_index': 717}, page_content='‘Don’t be such a Scrooge’‘Is there a good Samaritan who canhelp me?’\\nAnaphora Repetition of a word or phrase at thebeginning of successive sentences, phrasesor clauses\\n‘It was the best of times, it was theworst of times’\\nAntithesis A person or thing that is the directopposite of someone or something else\\nLove is the antithesis of hate\\nAssonance When two or more words close to oneanother repeat the same vowel sound butstart with different consonant sounds.'), Document(metadata={'start_index': 1054}, page_content='Assonance When two or more words close to oneanother repeat the same vowel sound butstart with different consonant sounds.\\nWe light fire on the mountain.I feel depressed and restless.\\nCaesura A break or pause in the middle of a line ofverse/poetry\\n‘To be or nor to be, that is thequestion’\\nCharacterisationHow a character is introduced anddeveloped, through what the writerinforms us about them\\n‘the noble Harry Potter’‘good Harry Potter’'), Document(metadata={'start_index': 1344}, page_content='CharacterisationHow a character is introduced anddeveloped, through what the writerinforms us about them\\n‘the noble Harry Potter’‘good Harry Potter’\\nCliché A phrase or opinion that is overused andshows a lack of original thought.\\nTime heals all woundsFrightened to death\\nColloquialismThe use of informal words, phrases or evenslang.\\nWannaGonnaGo nuts'), Document(metadata={'start_index': 0}, page_content='Connotation The feelings or associations suggested bywords/phrases. These can help to find thehidden meaning.\\nThe word ‘discipline’ has unhappyconnotations of punishment andrepression\\nDramatic irony In a Literature text when the audienceknows something that the characters don’tknow\\nIn Romeo and Juliet the audienceknows from the start that the maincharacters will die, but they don’tknow this\\nDramaticmonologue\\nA poetic form that presents the speech orconversation of a person in a dramaticmanner'), Document(metadata={'start_index': 394}, page_content='Dramaticmonologue\\nA poetic form that presents the speech orconversation of a person in a dramaticmanner\\n‘My Last Duchess’ is an example ofa dramatic monologue\\nEnjambement(enjambment)\\nWhere one line in poetry continues to thenext line or stanza without anypunctuation or pause.\\n‘We were runningTo find what had happenedBeyond the hills’\\nFigurativelanguage\\nUsing figures of speech (metaphor, simile,hyperbole, personification) to be moreeffective, persuasive or impactful'), Document(metadata={'start_index': 730}, page_content='Figurativelanguage\\nUsing figures of speech (metaphor, simile,hyperbole, personification) to be moreeffective, persuasive or impactful\\nMetaphors, similes, hyperbole,personification\\nForeboding When it is implied that something bad ordangerous will happen\\nDark clouds could suggest thattrouble is on the way\\nForeshadowing Suggesting what is to come later in thepiece of writing through imagery, languageand/or symbolism\\n‘take care of yourselves - and don’tleave the path!’'), Document(metadata={'start_index': 1147}, page_content='‘take care of yourselves - and don’tleave the path!’\\nHyperbole Deliberate exaggeration (often used topersuade).\\n‘I’ve told you a thousand times notto do that’\\nImagery Visually descriptive language (‘painting apicture with words’)\\nThe night was black as ever, butbright stars lit up the sky\\nIrony Using language that normally signifies theopposite of what you actually mean,typically for humorous or emphatic effect.\\nA state of affairs or an event that seems tobe the opposite to what we expect.'), Document(metadata={'start_index': 1563}, page_content='A state of affairs or an event that seems tobe the opposite to what we expect.\\n“Don’t go overboard withgratitude” – to someone whohasn’t said thank you.You laugh at a person who slippedstepping on a banana peel and thenext thing you know, you’veslipped too.\\nJuxtaposition Two contrasting ideas placed closetogether\\nIt was the best of times, it was theworst of times.\\nMetaphor Saying something is something else. Adirect comparison which is not meantliterally.'), Document(metadata={'start_index': 1878}, page_content='It was the best of times, it was theworst of times.\\nMetaphor Saying something is something else. Adirect comparison which is not meantliterally.\\nHe is winter.The house was a pocket of tension.\\nNarrative voice How the story is told to the reader, the ‘I’m going to share a story with'), Document(metadata={'start_index': 0}, page_content='point of view from which we hear theevents that happen\\nyou … ’\\nNoun Proper noun - names people or placesCommon noun - names ‘things’ (e.g.objects)Abstract noun - names an idea, quality orstate rather than a concrete object\\nFay, Tim, London, AustraliaTable, chair, boy, girlTruth, danger, happiness\\nOnomatopoeia The formation of a word from anassociated sound (a ‘sound effect’)\\nBangCrashSizzle\\nOxymoron A phrase using contradictory terms (wordsplaced together which mean the oppositeto one another).'), Document(metadata={'start_index': 378}, page_content='BangCrashSizzle\\nOxymoron A phrase using contradictory terms (wordsplaced together which mean the oppositeto one another).\\norganised messcontrolled chaosadult childloving hate\\nPathetic fallacy The use of weather (or another part ofnature) to express emotions of a scene orcharacter.\\n‘When shall we three meet again?In thunder, lightning or in rain’\\nPersonification Using human characteristics to describesomething non-human.\\n“The clock face stared at memenacingly.”'), Document(metadata={'start_index': 726}, page_content='Personification Using human characteristics to describesomething non-human.\\n“The clock face stared at memenacingly.”\\nPrefix Added at the beginning of a word in orderto turn it into another word.\\nUn e.g. unluckyDis e.g. disorder\\nPronoun Replaces a noun or noun phrase I, you, we, he, she, me, my, our,your\\nRepetition Repeating a sound, word, phrase or stanzafor effect.\\n‘Tomorrow and tomorrow andtomorrow’ ’\\nRhetoricalquestion\\nA question which does not require ananswer'), Document(metadata={'start_index': 1095}, page_content='‘Tomorrow and tomorrow andtomorrow’ ’\\nRhetoricalquestion\\nA question which does not require ananswer\\n‘How many times have I told younot to do that?’\\nSemantic field When a group of words all link to oneoverall theme.\\nSemantic field of nature - flowers,plants, trees, grass, leaves\\nSimile The comparison of one thing with anotherthing of a different kind, using ‘like’ or ‘as.’\\nAs bright as a buttonAs fierce as a lionLike the wild sea'), Document(metadata={'start_index': 1470}, page_content='As bright as a buttonAs fierce as a lionLike the wild sea\\nSoliloquy An extended speech by one characterwhen they are alone and not with anyother characters\\nWhen Lady Macbeth receives theletter from Macbeth after he hasseen the witches'), Document(metadata={'start_index': 0}, page_content='Sonnet A 14-line poem with a fixed rhymescheme, often (but not always)  about love\\n‘Ozymandias’ is written in sonnetform\\nSuffix An ‘ending’, used at the end of one wordto turn it into another word.\\n-ment e.g. embarrassment-ness e.g. sadness\\nSyllable Sounds like a beat in a word. Syllablesconsist of at least one vowel, and possiblyone or more consonants.\\nha-ppy (2 syllables)pos-i-tive (3 syllables)com-pli-ca-ted (4 syllables)'), Document(metadata={'start_index': 356}, page_content='ha-ppy (2 syllables)pos-i-tive (3 syllables)com-pli-ca-ted (4 syllables)\\nSymbolism Where the writer uses a ‘thing’ (usually aphysical object) to represent deepermeanings or themes\\nHarry Potter’s scar is a symbol ofhis braveryBears are often seen as symbols ofcourage\\nSyntax The arrangement of words and phrases tocreate well-formed sentences\\nThe boy jumped happilyHappily, the boy jumped (here thesyntax is varied)\\nVerb A ‘doing word’/an action Walks, sashays, bounces\\nAdditional key terms'), Document(metadata={'start_index': 698}, page_content='The boy jumped happilyHappily, the boy jumped (here thesyntax is varied)\\nVerb A ‘doing word’/an action Walks, sashays, bounces\\nAdditional key terms\\nKey term Definition Example')]\n"
     ]
    }
   ],
   "source": [
    "print(texts)"
   ]
  },
  {
   "cell_type": "code",
   "execution_count": 59,
   "metadata": {},
   "outputs": [],
   "source": [
    "client.upload_points(\n",
    "    collection_name=\"pdf3\",\n",
    "    points=[\n",
    "        models.PointStruct(\n",
    "            id=idx, vector=embed.embed_query(doc.page_content), payload=doc.metadata\n",
    "        )\n",
    "        for idx, doc in enumerate(texts)\n",
    "    ],\n",
    ")"
   ]
  },
  {
   "cell_type": "code",
   "execution_count": 68,
   "metadata": {},
   "outputs": [
    {
     "name": "stderr",
     "output_type": "stream",
     "text": [
      "/home/adrian/dev/nlp/.venv/lib64/python3.10/site-packages/langsmith/client.py:256: LangSmithMissingAPIKeyWarning: API key must be provided when using hosted LangSmith API\n",
      "  warnings.warn(\n"
     ]
    }
   ],
   "source": [
    "rag_prompt = hub.pull(\"rlm/rag-prompt\")"
   ]
  },
  {
   "cell_type": "markdown",
   "metadata": {},
   "source": [
    "4. Design and implement the RAG pipeline with `LCEL`. As reference use this detailed guide created by LangChain community - [RAG](https://python.langchain.com/docs/tutorials/rag/). Next steps should involve:\n",
    "   * Create query embedding generation\n",
    "   * Implement semantic search in Qdrant\n",
    "   * Design prompt templates for context integration\n",
    "   * Build response generation with the LLM\n",
    "\n",
    "Hint: You don't need to build it from scratch. A lot of this steps is already automated using LCEL pipeline definition.\n"
   ]
  },
  {
   "cell_type": "code",
   "execution_count": 69,
   "metadata": {},
   "outputs": [],
   "source": [
    "class State(TypedDict):\n",
    "    question: str\n",
    "    context: List[Document]\n",
    "    answer: str\n",
    "\n",
    "def compare_payload(hits, start_index):\n",
    "    for hit in hits:\n",
    "        if hit.payload['start_index'] == start_index:\n",
    "            return True \n",
    "    return False\n",
    "\n",
    "def retrieve(state):\n",
    "    hits = client.query_points(\n",
    "        collection_name=\"pdf2\",\n",
    "        query=embed.embed_query(state[\"question\"]),\n",
    "        limit=3,\n",
    "    ).points\n",
    "\n",
    "    if len(hits) >= 1:\n",
    "        return {\"context\": [text for text in texts if compare_payload(hits, text.metadata['start_index'])]}\n",
    "    else:\n",
    "        return {\"context\": []}\n",
    "\n",
    "\n",
    "def generate(state: State):\n",
    "    docs_content = \"\\n\\n\".join(doc.page_content for doc in state[\"context\"])\n",
    "    messages = rag_prompt.invoke({\"question\": state[\"question\"], \"context\": docs_content})\n",
    "    response = llm.invoke(messages)\n",
    "    return {\"answer\": response.content}\n",
    "\n",
    "graph_builder = StateGraph(State).add_sequence([retrieve, generate])\n",
    "graph_builder.add_edge(START, \"retrieve\")\n",
    "graph = graph_builder.compile()"
   ]
  },
  {
   "cell_type": "code",
   "execution_count": 62,
   "metadata": {},
   "outputs": [
    {
     "name": "stdout",
     "output_type": "stream",
     "text": [
      " Allegory is a type of writing where the settings, characters, or events stand for other, often larger ideas. For example, in Animal Farm, the animals represent larger ideas about revolution and politics.\n"
     ]
    }
   ],
   "source": [
    "response = graph.invoke({\"question\": \"What is Allegory?\"})\n",
    "print(response[\"answer\"])"
   ]
  },
  {
   "cell_type": "markdown",
   "metadata": {},
   "source": [
    "5. Implement basic retrieval strategies (semantic search)."
   ]
  },
  {
   "cell_type": "code",
   "execution_count": 63,
   "metadata": {},
   "outputs": [],
   "source": [
    "def semantic_search(question):\n",
    "    hits = client.query_points(\n",
    "        collection_name=\"pdf2\",\n",
    "        query=embed.embed_query(question),\n",
    "        limit=3,\n",
    "    ).points\n",
    "\n",
    "    return [text for text in texts if compare_payload(hits, text.metadata['start_index'])]"
   ]
  },
  {
   "cell_type": "markdown",
   "metadata": {},
   "source": [
    "6. Create basic QA prompt."
   ]
  },
  {
   "cell_type": "code",
   "execution_count": 64,
   "metadata": {},
   "outputs": [],
   "source": [
    "prompts = [\n",
    "    \"What is an Allegory?\",\n",
    "    \"What is a Characterisation?\",\n",
    "    \"What are examples of Dramatic monologue?\",\n",
    "    \"Which word describes Deliberate exaggeration?\",\n",
    "    \"What kind of term describes this sentence: 'You don’t have to be Albert Einstein to understand poetry.'?\"\n",
    "]\n",
    "\n",
    "answers =[\n",
    "    'A type of writing in which the settings, characters, or events stand for other, often larger ideas',\n",
    "    'How a character is introduced and developed, through what the writer informs us about them',\n",
    "    \"'My Last Duchess'\",\n",
    "    'Hyperbole',\n",
    "    'Allusion '\n",
    "]"
   ]
  },
  {
   "cell_type": "markdown",
   "metadata": {},
   "source": [
    "7. Determine 5 evaluation queries:\n",
    "    - Determine a few questions, which answers are confirmed by you."
   ]
  },
  {
   "cell_type": "markdown",
   "metadata": {},
   "source": [
    "### RAG"
   ]
  },
  {
   "cell_type": "code",
   "execution_count": 70,
   "metadata": {},
   "outputs": [
    {
     "name": "stdout",
     "output_type": "stream",
     "text": [
      "Prompt: What is an Allegory?\n",
      " An Allegory is a type of writing where the settings, characters, or events represent larger ideas. For example, in Animal Farm, the animals symbolize political figures and events.\n",
      "============================================================\n",
      "Prompt: What is a Characterisation?\n",
      " A characterization is the process or result of depicting the personality, appearance, and other distinguishing features of a fictional or real character in a story, novel, play, film, etc. It helps to make characters more relatable and engaging for the audience.\n",
      "============================================================\n",
      "Prompt: What are examples of Dramatic monologue?\n",
      " Examples of Dramatic monologues include \"Ozymandias\" by Percy Bysshe Shelley and \"The Love Song of J. Alfred Prufrock\" by T.S. Eliot. These poems present the speech or conversation of a person in a dramatic manner, allowing the audience to understand events from their point of view.\n",
      "============================================================\n",
      "Prompt: Which word describes Deliberate exaggeration?\n",
      " The word describing deliberate exaggeration is \"Hyperbole\".\n",
      "============================================================\n",
      "Prompt: What kind of term describes this sentence: 'You don’t have to be Albert Einstein to understand poetry.'?\n",
      " The term that describes the sentence 'You don’t have to be Albert Einstein to understand poetry' is a Common noun. In this case, 'you' refers to a person and 'don’t have to be Albert Einstein' gives more information about the person (it specifies who they do not need to be).\n",
      "============================================================\n"
     ]
    }
   ],
   "source": [
    "prompt_answers = []\n",
    "\n",
    "for prompt in prompts:\n",
    "    print(f\"Prompt: {prompt}\")\n",
    "    response = graph.invoke({\"question\": prompt})\n",
    "    prompt_answers.append(response['answer'])\n",
    "    print(response[\"answer\"])\n",
    "    print(f\"============================================================\")"
   ]
  },
  {
   "cell_type": "markdown",
   "metadata": {},
   "source": [
    "1. answer is ok, from proper context\n",
    "2. answer is ok, but not from the context\n",
    "3. answer is ok, from the context, but not from desired part of it\n",
    "4. answer is ok, from context\n",
    "5. answer is not ok, not from context"
   ]
  },
  {
   "cell_type": "markdown",
   "metadata": {},
   "source": [
    "### Semantic search"
   ]
  },
  {
   "cell_type": "code",
   "execution_count": 71,
   "metadata": {},
   "outputs": [
    {
     "name": "stdout",
     "output_type": "stream",
     "text": [
      "Prompt: What is an Allegory?\n",
      "[Document(metadata={'start_index': 0}, page_content='John Colet SchoolEnglish DepartmentKey Subject Terminology\\nKey term Definition Example\\nAdjective Describes a noun, gives more informationabout it\\nBeautiful, stunning, disgraceful,angry\\nAdverb Describes a verb, gives more informationabout it.\\nAngrily, happily, joyfully.\\nAllegory A type of writing in which the settings,characters, or events stand for other, oftenlarger ideas\\nThe novelAnimal Farmappears tobe about a group of animals, butthey represent larger ideas aboutrevolution and politics'), Document(metadata={'start_index': 0}, page_content='Connotation The feelings or associations suggested bywords/phrases. These can help to find thehidden meaning.\\nThe word ‘discipline’ has unhappyconnotations of punishment andrepression\\nDramatic irony In a Literature text when the audienceknows something that the characters don’tknow\\nIn Romeo and Juliet the audienceknows from the start that the maincharacters will die, but they don’tknow this\\nDramaticmonologue\\nA poetic form that presents the speech orconversation of a person in a dramaticmanner'), Document(metadata={'start_index': 0}, page_content='point of view from which we hear theevents that happen\\nyou … ’\\nNoun Proper noun - names people or placesCommon noun - names ‘things’ (e.g.objects)Abstract noun - names an idea, quality orstate rather than a concrete object\\nFay, Tim, London, AustraliaTable, chair, boy, girlTruth, danger, happiness\\nOnomatopoeia The formation of a word from anassociated sound (a ‘sound effect’)\\nBangCrashSizzle\\nOxymoron A phrase using contradictory terms (wordsplaced together which mean the oppositeto one another).'), Document(metadata={'start_index': 0}, page_content='Sonnet A 14-line poem with a fixed rhymescheme, often (but not always)  about love\\n‘Ozymandias’ is written in sonnetform\\nSuffix An ‘ending’, used at the end of one wordto turn it into another word.\\n-ment e.g. embarrassment-ness e.g. sadness\\nSyllable Sounds like a beat in a word. Syllablesconsist of at least one vowel, and possiblyone or more consonants.\\nha-ppy (2 syllables)pos-i-tive (3 syllables)com-pli-ca-ted (4 syllables)')]\n",
      "============================================================\n",
      "Prompt: What is a Characterisation?\n",
      "[]\n",
      "============================================================\n",
      "Prompt: What are examples of Dramatic monologue?\n",
      "[Document(metadata={'start_index': 0}, page_content='John Colet SchoolEnglish DepartmentKey Subject Terminology\\nKey term Definition Example\\nAdjective Describes a noun, gives more informationabout it\\nBeautiful, stunning, disgraceful,angry\\nAdverb Describes a verb, gives more informationabout it.\\nAngrily, happily, joyfully.\\nAllegory A type of writing in which the settings,characters, or events stand for other, oftenlarger ideas\\nThe novelAnimal Farmappears tobe about a group of animals, butthey represent larger ideas aboutrevolution and politics'), Document(metadata={'start_index': 0}, page_content='Connotation The feelings or associations suggested bywords/phrases. These can help to find thehidden meaning.\\nThe word ‘discipline’ has unhappyconnotations of punishment andrepression\\nDramatic irony In a Literature text when the audienceknows something that the characters don’tknow\\nIn Romeo and Juliet the audienceknows from the start that the maincharacters will die, but they don’tknow this\\nDramaticmonologue\\nA poetic form that presents the speech orconversation of a person in a dramaticmanner'), Document(metadata={'start_index': 0}, page_content='point of view from which we hear theevents that happen\\nyou … ’\\nNoun Proper noun - names people or placesCommon noun - names ‘things’ (e.g.objects)Abstract noun - names an idea, quality orstate rather than a concrete object\\nFay, Tim, London, AustraliaTable, chair, boy, girlTruth, danger, happiness\\nOnomatopoeia The formation of a word from anassociated sound (a ‘sound effect’)\\nBangCrashSizzle\\nOxymoron A phrase using contradictory terms (wordsplaced together which mean the oppositeto one another).'), Document(metadata={'start_index': 0}, page_content='Sonnet A 14-line poem with a fixed rhymescheme, often (but not always)  about love\\n‘Ozymandias’ is written in sonnetform\\nSuffix An ‘ending’, used at the end of one wordto turn it into another word.\\n-ment e.g. embarrassment-ness e.g. sadness\\nSyllable Sounds like a beat in a word. Syllablesconsist of at least one vowel, and possiblyone or more consonants.\\nha-ppy (2 syllables)pos-i-tive (3 syllables)com-pli-ca-ted (4 syllables)')]\n",
      "============================================================\n",
      "Prompt: Which word describes Deliberate exaggeration?\n",
      "[]\n",
      "============================================================\n",
      "Prompt: What kind of term describes this sentence: 'You don’t have to be Albert Einstein to understand poetry.'?\n",
      "[Document(metadata={'start_index': 0}, page_content='John Colet SchoolEnglish DepartmentKey Subject Terminology\\nKey term Definition Example\\nAdjective Describes a noun, gives more informationabout it\\nBeautiful, stunning, disgraceful,angry\\nAdverb Describes a verb, gives more informationabout it.\\nAngrily, happily, joyfully.\\nAllegory A type of writing in which the settings,characters, or events stand for other, oftenlarger ideas\\nThe novelAnimal Farmappears tobe about a group of animals, butthey represent larger ideas aboutrevolution and politics'), Document(metadata={'start_index': 0}, page_content='Connotation The feelings or associations suggested bywords/phrases. These can help to find thehidden meaning.\\nThe word ‘discipline’ has unhappyconnotations of punishment andrepression\\nDramatic irony In a Literature text when the audienceknows something that the characters don’tknow\\nIn Romeo and Juliet the audienceknows from the start that the maincharacters will die, but they don’tknow this\\nDramaticmonologue\\nA poetic form that presents the speech orconversation of a person in a dramaticmanner'), Document(metadata={'start_index': 0}, page_content='point of view from which we hear theevents that happen\\nyou … ’\\nNoun Proper noun - names people or placesCommon noun - names ‘things’ (e.g.objects)Abstract noun - names an idea, quality orstate rather than a concrete object\\nFay, Tim, London, AustraliaTable, chair, boy, girlTruth, danger, happiness\\nOnomatopoeia The formation of a word from anassociated sound (a ‘sound effect’)\\nBangCrashSizzle\\nOxymoron A phrase using contradictory terms (wordsplaced together which mean the oppositeto one another).'), Document(metadata={'start_index': 0}, page_content='Sonnet A 14-line poem with a fixed rhymescheme, often (but not always)  about love\\n‘Ozymandias’ is written in sonnetform\\nSuffix An ‘ending’, used at the end of one wordto turn it into another word.\\n-ment e.g. embarrassment-ness e.g. sadness\\nSyllable Sounds like a beat in a word. Syllablesconsist of at least one vowel, and possiblyone or more consonants.\\nha-ppy (2 syllables)pos-i-tive (3 syllables)com-pli-ca-ted (4 syllables)')]\n",
      "============================================================\n"
     ]
    }
   ],
   "source": [
    "prompt_answers2 = []\n",
    "\n",
    "for prompt in prompts:\n",
    "    print(f\"Prompt: {prompt}\")\n",
    "    resp = semantic_search(prompt)\n",
    "    prompt_answers2.append(resp)\n",
    "    print(resp)\n",
    "    print(f\"============================================================\")"
   ]
  },
  {
   "cell_type": "markdown",
   "metadata": {},
   "source": [
    "### LLM"
   ]
  },
  {
   "cell_type": "code",
   "execution_count": 74,
   "metadata": {},
   "outputs": [
    {
     "name": "stdout",
     "output_type": "stream",
     "text": [
      "Prompt: What is an Allegory?\n",
      "content=' An allegory is a literary device or figurative language that uses symbols to represent abstract ideas, actions, or qualities. In an allegory, the characters, settings, and events in a story are not meant to be taken literally but rather as representations of something else, such as moral lessons, political ideologies, or philosophical concepts. The meaning of an allegory is often symbolic and requires interpretation by the reader or listener. Examples of famous allegories include Aesop\\'s Fables, John Bunyan\\'s \"Pilgrim\\'s Progress,\" George Orwell\\'s \"Animal Farm,\" and Jonathan Swift\\'s \"Gulliver\\'s Travels.\"' additional_kwargs={} response_metadata={'model': 'mistral', 'created_at': '2025-01-20T11:19:12.328018994Z', 'done': True, 'done_reason': 'stop', 'total_duration': 57373007296, 'load_duration': 11534503, 'prompt_eval_count': 12, 'prompt_eval_duration': 442000000, 'eval_count': 143, 'eval_duration': 56918000000, 'message': Message(role='assistant', content='', images=None, tool_calls=None)} id='run-0a7e3427-6908-4f5a-956a-fff555af4da8-0' usage_metadata={'input_tokens': 12, 'output_tokens': 143, 'total_tokens': 155}\n",
      "============================================================\n",
      "Prompt: What is a Characterisation?\n",
      "content=' In literature, characterization refers to the process of developing and portraying characters in a story. It involves creating believable and engaging personalities for the characters that readers can relate to or empathize with. There are three main types of characterization:\\n\\n1. Direct Characterization: This is when an author explicitly tells the reader about a character\\'s traits, background, or personality. For example, \"John was a kind-hearted and generous man.\"\\n\\n2. Indirect Characterization: This occurs through a character\\'s actions, dialogue, thoughts, physical appearance, and interactions with other characters. For example, John\\'s selfless acts towards the poor in his community demonstrate his kindness and generosity.\\n\\n3. Dramatic (Incidental) Characterization: This happens when a character is revealed through the events of the story or plot. For example, John\\'s courage is shown when he risks his life to save a child from a burning building.\\n\\nCharacterization is crucial in creating well-rounded and memorable characters that readers care about and want to follow throughout a story.' additional_kwargs={} response_metadata={'model': 'mistral', 'created_at': '2025-01-20T11:20:44.718520674Z', 'done': True, 'done_reason': 'stop', 'total_duration': 92386709670, 'load_duration': 9801580, 'prompt_eval_count': 11, 'prompt_eval_duration': 1001000000, 'eval_count': 232, 'eval_duration': 91374000000, 'message': Message(role='assistant', content='', images=None, tool_calls=None)} id='run-dff8efa6-b67c-4c34-960a-3c2904d48eb5-0' usage_metadata={'input_tokens': 11, 'output_tokens': 232, 'total_tokens': 243}\n",
      "============================================================\n",
      "Prompt: What are examples of Dramatic monologue?\n",
      "content='1. \"The Love Song of J. Alfred Prufrock\" by T.S. Eliot: This poem is a dramatic monologue as it presents the thoughts and feelings of the character, J. Alfred Prufrock, while he contemplates love, life, and society.\\n\\n2. \"Ulysses\" by Alfred Lord Tennyson: This epic poem is a dramatic monologue in which Ulysses (Odysseus) delivers a speech to his fellow Ithacans, expressing his longing for adventure and urging them to set sail and explore the world.\\n\\n3. \"The Chimney Sweeper\" by William Blake: This poem is a dramatic monologue as it presents the thoughts and feelings of a chimney sweep boy who has lost his brother in the trade, expressing his anger and sorrow at their fate.\\n\\n4. \"The Road Not Taken\" by Robert Frost: While not traditionally considered a dramatic monologue, this poem can be interpreted as such, as it presents the thoughts and feelings of the speaker as he reflects on a choice he made in the past.\\n\\n5. \"The Tell-Tale Heart\" by Edgar Allan Poe: This short story is a dramatic monologue as it presents the thoughts and motivations of the narrator, who has murdered an old man and is driven mad by the tell-tale heart beating beneath the floorboards.\\n\\n6. \"The Rime of the Ancient Mariner\" by Samuel Taylor Coleridge: This epic poem is a dramatic monologue as it presents the thoughts and experiences of the ancient mariner, who tells his tale to a group of wedding guests, recounting his role in the death of his shipmates and the curse that has befallen him.\\n\\n7. \"The Waste Land\" by T.S. Eliot: This poem is a dramatic monologue as it presents the thoughts and feelings of various characters, including the speaker, who are grappling with the fragmented and chaotic state of post-World War I society.\\n\\n8. \"Othello\\'s Speech to His Soldiers\" from Shakespeare\\'s Othello: This speech is a dramatic monologue as it presents the thoughts and motivations of the character, Othello, as he rallies his soldiers before battle.\\n\\n9. \"Soliloquy of Richard III\" from Shakespeare\\'s Richard III: This soliloquy is a dramatic monologue as it presents the thoughts and motivations of the character, Richard III, as he contemplates his plans for seizing the throne of England.\\n\\n10. \"The Red Wheelbarrow\" by William Carlos Williams: While not traditionally considered a dramatic monologue, this poem can be interpreted as such, as it presents the thoughts and observations of an unnamed speaker as they observe a red wheelbarrow in the rain.' additional_kwargs={} response_metadata={'model': 'mistral', 'created_at': '2025-01-20T11:24:44.93052457Z', 'done': True, 'done_reason': 'stop', 'total_duration': 240207399405, 'load_duration': 9621786, 'prompt_eval_count': 16, 'prompt_eval_duration': 2091000000, 'eval_count': 635, 'eval_duration': 238105000000, 'message': Message(role='assistant', content='', images=None, tool_calls=None)} id='run-3d4e994a-b523-45c9-bf98-cb6bce31a27b-0' usage_metadata={'input_tokens': 16, 'output_tokens': 635, 'total_tokens': 651}\n",
      "============================================================\n",
      "Prompt: Which word describes Deliberate exaggeration?\n",
      "content=' Hyperbole\\n\\nHyperbole is a figure of speech in which a person deliberately overstates something for emphasis or effect. It\\'s important to note that hyperbole isn\\'t meant to be taken literally, as it\\'s used to make a point or emphasize a feeling rather than accurately describe a situation. For example, saying \"I\\'ve told you a million times\" is an example of hyperbole, as no one could possibly have said something that many times in reality.' additional_kwargs={} response_metadata={'model': 'mistral', 'created_at': '2025-01-20T11:25:27.651618834Z', 'done': True, 'done_reason': 'stop', 'total_duration': 42717644047, 'load_duration': 9319984, 'prompt_eval_count': 14, 'prompt_eval_duration': 1789000000, 'eval_count': 105, 'eval_duration': 40917000000, 'message': Message(role='assistant', content='', images=None, tool_calls=None)} id='run-cb44dcf4-c1c0-4e6f-9bbe-edd066a4fdb3-0' usage_metadata={'input_tokens': 14, 'output_tokens': 105, 'total_tokens': 119}\n",
      "============================================================\n",
      "Prompt: What kind of term describes this sentence: 'You don’t have to be Albert Einstein to understand poetry.'?\n",
      "content=' The term that describes the sentence is a metaphor. In this case, \"Albert Einstein\" is used figuratively to represent an extremely intelligent person, and the statement implies that understanding poetry does not require such exceptional intelligence.' additional_kwargs={} response_metadata={'model': 'mistral', 'created_at': '2025-01-20T11:25:48.098778977Z', 'done': True, 'done_reason': 'stop', 'total_duration': 20443880804, 'load_duration': 9342345, 'prompt_eval_count': 28, 'prompt_eval_duration': 3601000000, 'eval_count': 47, 'eval_duration': 16832000000, 'message': Message(role='assistant', content='', images=None, tool_calls=None)} id='run-81dc3918-65af-4ff2-8971-ab27ce83c959-0' usage_metadata={'input_tokens': 28, 'output_tokens': 47, 'total_tokens': 75}\n",
      "============================================================\n"
     ]
    }
   ],
   "source": [
    "prompt_answers3 = []\n",
    "\n",
    "for prompt in prompts:\n",
    "    print(f\"Prompt: {prompt}\")\n",
    "    response = llm.invoke(prompt)\n",
    "    prompt_answers3.append(response)\n",
    "    print(response)\n",
    "    print(f\"============================================================\")"
   ]
  },
  {
   "cell_type": "markdown",
   "metadata": {},
   "source": [
    "1. answer is ok\n",
    "2. answer is ok\n",
    "3. answer is ok\n",
    "4. answer is ok\n",
    "5. answer is not ok"
   ]
  },
  {
   "cell_type": "markdown",
   "metadata": {},
   "source": [
    "8. Compare performance of RAG vs. pure LLM response."
   ]
  },
  {
   "cell_type": "markdown",
   "metadata": {},
   "source": [
    "RAG had few problems to answer questions:\n",
    "- Sometimes it didn't capture context well. It couldn't retrieve good part of the text. There is also possibility that this context will be truncated a bit with valuable information.\n",
    "- It takes longer to prepare and compute RAG than LLM\n",
    "But if question requires knowledge from specific context rather from general knowledge of LLM model RAG could be more suitable.\n",
    "\n",
    "LLM returned comparable results. Of course answers where out of context of the text, but still plausible.\n",
    "LLM cannot capture knowledge that wasn't learnt, but RAG where we provide context can answer more precisely."
   ]
  },
  {
   "cell_type": "markdown",
   "metadata": {},
   "source": [
    "Questions (2 points):\n",
    "\n",
    "1. How does RAG improve the quality and reliability of LLM responses compared to pure LLM generation?\\\n",
    "    **It returns an answer from provided context. For RAG response above, example Ozymandias was from the text, but still wasn't the perfect example.\\\n",
    "        However, LLM returned very different example apart from the scope of the text.**\n",
    "2. What are the key factors affecting RAG performance (chunk size, embedding quality, prompt design)?\\\n",
    "    **There are many different factors and every is important. \n",
    "     - Chunk size returns how big part of text should be considered. In presented example it should be big enought to capture the definition of a term.\n",
    "        Also there is overlapping size factor which is also important if we don't want to miss important snipped that was truncated and was left in different chunk.\n",
    "     - creation of embeddings depends on the provided model and data on which it was trained. Also size of embeddings matter to embody more complex meanings\n",
    "     -  prompt design, how well we can formulate question and how big and proper is provided context are very important factors. The more exact and precise question without\n",
    "            underlying meaning is the better. And context also should capture what is relevant.\n",
    "     - also there is an approach to add different filters to analyze the query and rewrite or transform to achieve better outcome.**\n",
    "3. How does the choice of vector database and embedding model impact system performance?\\\n",
    "    **It depends how big embedding model is and what similarity uses, also on what data was trained. The better these factors the more accurate results will be achieved.\n",
    "        But preparing all data, embedding model and computing results will take time.**\n",
    "4. What are the main challenges in implementing a production-ready RAG system?\\\n",
    "    **Good and well prepared, fine-tuned LLM model.\n",
    "      Proper database or tokenization model with storage system.\n",
    "      Prepared prompts and tools or filters for analysis.\n",
    "      Prepared text and context of searching for best results. Business kind terminology can be a problem of understanding it.\n",
    "      **\n",
    "5. How can the system be improved to handle complex queries requiring multiple document lookups?\\\n",
    "    **RAG pipline can be extended for multiple search.\n",
    "        Prior analysis can be added to distill more importatnt information.\n",
    "        We can add filters to enchance queries and rewrite them in a better form.**\n"
   ]
  }
 ],
 "metadata": {
  "kernelspec": {
   "display_name": ".venv",
   "language": "python",
   "name": "python3"
  },
  "language_info": {
   "codemirror_mode": {
    "name": "ipython",
    "version": 3
   },
   "file_extension": ".py",
   "mimetype": "text/x-python",
   "name": "python",
   "nbconvert_exporter": "python",
   "pygments_lexer": "ipython3",
   "version": "3.12.7"
  }
 },
 "nbformat": 4,
 "nbformat_minor": 2
}
