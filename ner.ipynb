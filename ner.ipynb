{
 "cells": [
  {
   "cell_type": "markdown",
   "metadata": {},
   "source": [
    "# Named entity recognition\n",
    "\n",
    "The exercise shows how we may extract elements such as names of companies, countries and similar objects from text."
   ]
  },
  {
   "cell_type": "markdown",
   "metadata": {},
   "source": [
    "## Tasks\n",
    "\n",
    "Objectives (8 points):"
   ]
  },
  {
   "cell_type": "markdown",
   "metadata": {},
   "source": [
    "1. Read the API of [NER](https://spacy.io/api/entityrecognizer) in Spacy"
   ]
  },
  {
   "cell_type": "markdown",
   "metadata": {},
   "source": [
    "2. Take 1 thousand random passages from the FIQA-PL corpus."
   ]
  },
  {
   "cell_type": "code",
   "execution_count": 15,
   "metadata": {},
   "outputs": [
    {
     "name": "stdout",
     "output_type": "stream",
     "text": [
      "   id title                                               text\n",
      "0   3        Nie mówię, że nie podoba mi się też pomysł szk...\n",
      "1  31        Tak więc nic nie zapobiega fałszywym ocenom po...\n",
      "2  56        Nigdy nie możesz korzystać z FSA dla indywidua...\n",
      "3  59        Samsung stworzył LCD i inne technologie płaski...\n",
      "4  63        Oto wymagania SEC: Federalne przepisy dotycząc...\n",
      "   id title                                               text\n",
      "0   0        Co jest uważane za wydatek służbowy w podróży ...\n",
      "1   4        Wydatki służbowe - ubezpieczenie samochodu pod...\n",
      "2   5                        Rozpoczęcie nowego biznesu online\n",
      "3   6           „Dzień roboczy” i „termin płatności” rachunków\n",
      "4   7        Nowy właściciel firmy – Jak działają podatki d...\n",
      "   query-id  corpus-id  score\n",
      "0         0      18850      1\n",
      "1         4     196463      1\n",
      "2         5      69306      1\n",
      "3         6     560251      1\n",
      "4         6     188530      1\n",
      "   query-id  corpus-id  score\n",
      "0         8     566392      1\n",
      "1         8      65404      1\n",
      "2        15     325273      1\n",
      "3        18      88124      1\n",
      "4        26     285255      1\n"
     ]
    }
   ],
   "source": [
    "from datasets import load_dataset\n",
    "import pandas as pd\n",
    "import numpy as np\n",
    "\n",
    "def modify_df(df, labels):\n",
    "    for label in labels:\n",
    "        if label[0] == '_':\n",
    "            df = df.rename(columns={label: label[1:]})\n",
    "            label = label[1:]\n",
    "        df[label] = df[label].astype(np.int64)\n",
    "    return df\n",
    "\n",
    "ds = load_dataset(\"clarin-knext/fiqa-pl\", \"corpus\")\n",
    "df_corpus = pd.DataFrame(ds['corpus'])\n",
    "df_corpus = modify_df(df_corpus, ['_id'])\n",
    "print(df_corpus.head())\n",
    "\n",
    "ds_q = load_dataset(\"clarin-knext/fiqa-pl\", \"queries\")\n",
    "ds_q = pd.DataFrame(ds_q['queries'])\n",
    "ds_q = modify_df(ds_q, ['_id'])\n",
    "print(ds_q.head())\n",
    "\n",
    "ds_qrels = load_dataset(\"clarin-knext/fiqa-pl-qrels\")\n",
    "df_qrels = pd.DataFrame(ds_qrels['train'])\n",
    "df_qrels_test = pd.DataFrame(ds_qrels['test'])\n",
    "df_qrels = modify_df(df_qrels, ['query-id', 'corpus-id', 'score'])\n",
    "df_qrels_test = modify_df(df_qrels_test, ['query-id', 'corpus-id', 'score'])\n",
    "print(df_qrels.head())\n",
    "print(df_qrels_test.head())\n"
   ]
  },
  {
   "cell_type": "code",
   "execution_count": 16,
   "metadata": {},
   "outputs": [
    {
     "name": "stdout",
     "output_type": "stream",
     "text": [
      "Dlaczego ktokolwiek miałby chcieć najpierw spłacić swoje długi w inny sposób niż „najwyższe odsetki”?\n"
     ]
    }
   ],
   "source": [
    "ds_q_mapper = dict()\n",
    "ds_corpus_mapper = dict()\n",
    "\n",
    "for idx, query in ds_q.iterrows():\n",
    "    ds_q_mapper[query['id']] = query['text']\n",
    "\n",
    "for idx, corpus in df_corpus.iterrows():\n",
    "    ds_corpus_mapper[corpus['id']] = corpus['text']\n",
    "\n",
    "\n",
    "print(ds_q_mapper[5993])"
   ]
  },
  {
   "cell_type": "code",
   "execution_count": 19,
   "metadata": {},
   "outputs": [],
   "source": [
    "import random\n",
    "\n",
    "corpus_ids = df_corpus[\"id\"].tolist()\n",
    "thousand_passages = dict()\n",
    "\n",
    "while len(thousand_passages) < 1000:\n",
    "    choice_id = random.choice(corpus_ids)\n",
    "    passage = ds_corpus_mapper[choice_id]\n",
    "    thousand_passages[choice_id] = passage"
   ]
  },
  {
   "cell_type": "markdown",
   "metadata": {},
   "source": [
    "3. Use the lemmatized and sentence split documents (using SpaCy API for [lemmatization](https://spacy.io/api/lemmatizer) and [sentence splitting](https://spacy.io/api/sentencizer)) to identify the expressions that consist of consecutive\n",
    "   words starting with a capital letter (you will have to look at the inflected form of the word to check its\n",
    "   capitalization) that do not occupy the first position in a sentence. E.g. the sentence:\n",
    "   ```\n",
    "   Wczoraj w Krakowie miało miejsce spotkanie prezydentów Polski i Stanów Zjednoczonych.\n",
    "   ```\n",
    "   should yield the following entries: `Kraków`, `Polska`, `Stan Zjednoczony`."
   ]
  },
  {
   "cell_type": "code",
   "execution_count": 20,
   "metadata": {},
   "outputs": [
    {
     "name": "stdout",
     "output_type": "stream",
     "text": [
      "{'Kraków': 1, 'Polska': 1, 'Stany Zjednoczone': 1}\n"
     ]
    }
   ],
   "source": [
    "import spacy\n",
    "nlp = spacy.load('pl_core_news_md')\n",
    "nlp.add_pipe(\"sentencizer\")\n",
    "\n",
    "def lookup_expressions(text, expressions_dict=None):\n",
    "    docs = nlp(text)\n",
    "    if expressions_dict is None:\n",
    "        expressions_dict = dict()\n",
    "\n",
    "    expression = ''\n",
    "    last_capital = False\n",
    "    for sent in docs.sents:\n",
    "        for token in sent:\n",
    "            if not token.is_sent_start:\n",
    "                if token.lemma_[0].isupper():\n",
    "                    if last_capital:\n",
    "                        expression += ' '+token.lemma_\n",
    "                    else:\n",
    "                        expression += token.lemma_\n",
    "                    last_capital = True\n",
    "                else:\n",
    "                    if last_capital:\n",
    "                        if expression in expressions_dict:\n",
    "                            expressions_dict[expression] += 1\n",
    "                        else:\n",
    "                            expressions_dict[expression] = 1\n",
    "                        expression = ''\n",
    "                    last_capital = False\n",
    "\n",
    "    if last_capital:\n",
    "        if expression in expressions_dict:\n",
    "            expressions_dict[expression] += 1\n",
    "        else:\n",
    "            expressions_dict[expression] = 1\n",
    "\n",
    "expressions_dict = dict()\n",
    "lookup_expressions(\"Wczoraj w Krakowie miało miejsce spotkanie prezydentów Polski i Stanów Zjednoczonych.\", expressions_dict=expressions_dict)\n",
    "print(expressions_dict)"
   ]
  },
  {
   "cell_type": "markdown",
   "metadata": {},
   "source": [
    "4. Compute the frequency of each identified expression and print 50 results with the largest number of occurrences."
   ]
  },
  {
   "cell_type": "code",
   "execution_count": 21,
   "metadata": {},
   "outputs": [
    {
     "name": "stdout",
     "output_type": "stream",
     "text": [
      "{'Baltimore': 2, 'Orlando': 1, 'Ciebie': 46, 'I': 2, 'Kanada': 13, 'Twojego': 13, 'Comcast': 11, 'BBB': 4, 'Twój': 45, 'Mastercard': 4, 'PMI': 5, 'ARM': 2, 'Odkładać': 1, 'Prosper': 5, 'Prosperze': 1, 'A': 11, 'AA': 2, 'Ustawa': 1, 'Twojej': 27, 'PKB USA': 1, 'Ameryka': 7, 'FP&A': 5, 'AP': 1, 'AR/': 1, 'GL': 1, 'SAP': 3, 'TY': 1, 'VA': 1, 'FHA': 3, 'GFE': 1, 'HUD': 1, 'Google': 21, 'SGA Furniture': 1, 'SGA': 1, 'Love Face Painting': 2, 'Melbourne': 1, 'Internet': 20, 'Le': 1, 'G': 2, 'LTE': 2, 'HSPA': 1, 'MF28D ZTE': 1, 'ZTE MF28D': 1, 'USA': 70, 'Admiral Share': 1, 'Vanguard': 5, 'Admiral': 1, 'Admiral Shares': 1, 'Capital Class': 1, 'Institutional': 1, 'FIPXX': 1, 'SEO': 1, 'SEO UT': 1, 'Część': 1, 'B': 17, 'IRS': 30, 'Harmonogram D': 2, 'Część II': 1, 'ODE': 1, 'Store': 1, 'Mastermind': 1, 'Of America': 1, 'MIC': 1, 'USD': 16, 'Visa': 5, 'BS': 3, 'Glassdoor': 2, 'TGIM': 2, 'Poniedziałek': 1, 'Summer Camp': 1, 'Amazon': 13, 'Apple': 13, 'Harmonogram A': 1, 'Sam': 2, 'Usuń': 1, 'Dołączyłem': 1, 'Roth IRA': 14, 'Rozwijaj': 1, 'Harvard': 1, 'Chicago': 3, 'UIC': 1, 'Excelu': 1, 'IRA': 48, 'Prism TV': 1, 'Białoruś': 2, 'IT': 4, 'Viber': 1, 'World': 1, 'Tanks': 1, 'MAP': 1, 'Manitob': 1, 'Albert': 3, 'Nowy Szkocja': 1, 'Manitoba': 1, 'Eaton Center': 1, 'Organiczny': 1, 'Walmart': 8, 'USDA': 2, 'FDA': 1, 'Czytnik': 1, 'LLC': 9, 'Single': 1, 'Roth': 19, 'Roth Roulette': 2, 'C': 10, 'Irlandia': 1, 'Amerykanów': 3, 'Adam Smith': 3, 'Nikola Tesla': 1, 'F': 6, 'Hayek': 1, 'DAJ': 1, 'Mayer Amschel Rothschild': 1, 'Karol Marks': 1, 'Swatch': 1, 'Barton Biggsa Wealth': 1, 'War': 1, 'Wisdom': 1, 'II': 1, 'Japonia': 4, 'Francja': 3, 'Greenspun': 1, 'Jakiś': 1, 'Trump': 9, 'Phoenix': 3, 'Rosjanin': 2, 'Trumpa': 6, 'Twitterze': 1, 'LONDYN': 1, 'BoE': 3, 'Michael Saunders': 1, 'Rozszerzone': 3, 'FAQ](http://np.reddit.com': 8, 'Feedb': 1, 'PM': 13, 'BoE**^#2': 1, 'Inwestycja**^#3': 1, 'Deloitte**^#4': 1, 'Rok**^#5': 1, 'Facebook': 18, 'Face': 3, 'Justin Timberlake': 1, 'Drop': 1, 'Book': 1, 'Wielki Brytania': 25, 'Zuckerberg': 2, 'Zuckerberga': 2, 'Uber': 10, 'Musk': 2, 'SpaceX': 1, 'Hyperloop': 1, 'Dodatki': 1, 'FLSA': 1, 'Keynes': 3, 'Zakładając': 1, 'Trader B': 2, 'Trader C': 3, 'Trader A': 2, 'Trader': 1, 'Wydawaj': 1, 'Australia': 10, 'K': 23, 'Facebooko': 1, 'API Facebooka': 1, 'Tobie': 3, 'Nationwide Flex': 1, 'HSA': 4, 'SKOK': 3, 'Bóg': 4, 'Indie': 25, 'SMS': 2, 'NJ': 2, 'Costco': 1, 'MasterCard': 1, 'Większy': 1, 'Fidelity': 3, 'Yale': 2, 'IEX': 1, 'Nowy Jork': 7, 'Stany Zjednoczone': 38, 'Federalna': 1, 'Fed': 5, 'X': 24, 'PKB': 21, 'Fedu': 1, 'Jesse Livermore': 1, 'Jesse': 1, 'Livermore': 2, 'Chase Manhattan Bank': 1, 'Sknerus McKwacz': 2, 'Smitten': 1, 'Negocjuj': 1, 'Ulubiić': 1, 'Minus': 1, 'Koszt': 1, 'INNYCH': 1, 'Zadzwoń': 1, 'Dealerzy': 1, 'AutoTrader': 1, 'Uzyskaj': 1, 'Motors': 1, 'Nieuchronnie': 1, 'Geniusz': 1, 'Próbować': 1, 'Reddit': 5, 'Największy': 1, 'MBA': 4, 'Frankfurt': 1, 'SEPA': 3, 'Zobowiązujesz': 1, 'Oszczędność': 1, 'Zaleta': 1, 'Nike': 1, 'Addidas': 1, 'CD': 18, 'Tesli': 4, 'Discount Water Heater': 2, 'Rinnai Tankless': 1, 'Noritz Tankless': 1, 'Takagi': 1, 'Kalifornia': 3, 'Water Heaters': 1, 'CAR': 1, 'AirBnB': 1, 'Twitter': 1, 'Snapchat': 1, 'T': 6, 'Amazona': 8, 'New York Times': 1, 'Huffington Post': 2, 'NYT': 3, \"Huffer's Post\": 1, 'Geloman Indianin Works': 1, 'Bitcoin': 7, 'Inni': 4, 'Brexit': 1, 'GBP': 19, 'FTSE': 1, 'UK': 1, 'US': 1, 'Chiny': 23, 'Obamy': 4, 'Banki': 1, 'USPS': 4, 'Bank Run': 1, 'Brazylia': 2, 'Ci': 1, 'Twoi': 5, 'IBAN': 1, 'Bank': 2, 'Oddział': 1, 'International Wire': 1, 'BIC': 3, 'Europa': 5, 'Twojego Indian Bank': 1, 'Być by być': 1, 'ADD': 1, 'UTMA': 3, 'Twoich': 14, 'Inherited IRA': 1, 'RMD': 2, 'Population': 1, 'SLA': 1, 'VPN': 1, 'IP': 2, 'WaMu': 1, 'AAA': 4, 'BB+': 1, 'BB': 1, 'CCC': 1, 'CC': 6, 'D': 4, 'E': 9, 'H': 1, 'Rolls Royka': 1, 'Royce': 1, 'Boeing': 1, 'NASA': 1, 'HVAC': 2, 'Express': 1, 'HFT': 4, 'Hongkong': 5, 'Paryż': 1, 'TSX Venture': 1, 'HK': 2, 'NA': 1, 'Fiesta': 3, 'Ford': 3, 'Jezus': 2, 'Starbucks': 1, 'Mapa Google': 1, 'Yelp': 1, 'Drać': 1, 'TZA': 1, 'FAZ': 1, 'BGZ': 1, 'Direxion': 2, 'Buxfer': 1, 'API': 1, 'Sony': 4, 'Nintendo': 2, 'WII U': 1, 'PS3': 1, 'NoCorporations': 5, 'Nixon': 1, 'Blackburn': 1, 'FCC': 1, 'Eisenhower': 2, 'BHK Flats': 1, 'NH': 1, 'Ghaziabad Crossing Republik': 1, 'Group': 3, 'BHK': 3, 'Crossing Republik': 1, 'ASG Apple7': 2, 'Apple7': 1, 'Ostateczny': 1, 'Case': 6, 'Schiller': 4, 'Amerykanin': 4, 'Twoimi': 1, 'BoA': 2, 'Alpha': 1, 'Beta': 1, 'St': 1, 'Sharpe Ratio': 1, 'R': 5, 'Squared': 1, 'Załóżmy': 1, 'Coca': 1, 'Johnson': 2, 'AT&T': 1, 'Verizon': 1, 'Kraft': 1, 'Wells Fargo': 6, 'IBM': 2, 'Berkshire Hathaway': 1, 'Kubańczyk': 1, 'Research': 1, 'Motion': 1, 'Blackberry': 2, 'NIGDY': 3, 'Pandora': 1, 'Buffett': 2, 'Y': 3, 'Ha': 1, 'Hathaway': 1, 'XY': 1, 'Joe Millionaire': 2, 'Jim Garbageman': 1, 'Jim': 2, 'M': 1, 'Biznes': 2, 'Hobby': 1, 'UHNW': 1, 'Steve Jobs': 1, 'Bank Rezerwa Federalna': 1, 'SOPA': 2, 'Microsoft': 7, 'Gates': 1, 'Ballmer': 1, 'GE': 5, 'Windows': 1, 'Office': 2, 'Minnesoca': 1, 'Wietnam': 1, 'Russia': 1, 'Azam': 1, 'PPF': 1, 'Jork': 7, 'EA': 3, 'CPA': 7, 'Hej': 1, 'FX': 1, 'MM': 1, 'Stany': 7, 'Roths': 2, 'FairTax': 1, 'Rothów': 1, 'Tradycjonalista': 1, 'Joe': 2, 'MS': 2, 'ROE': 1, 'Morningstar': 1, 'ETF': 19, 'Austria': 1, 'Kolejną': 1, 'Adobe': 2, 'Sec': 1, 'Karla Popper': 1, 'IRR': 1, 'PV': 1, 'Inny': 1, 'American Airlines': 1, 'Bahamas Beach': 1, 'Freeport': 1, 'Freeport Bahamy': 1, 'Wielki Bahame': 1, 'Dodd Frank': 1, 'JEST': 2, 'Floryda': 1, 'Sea Ray': 1, 'Clinton': 2, 'NRE': 3, 'NRO': 3, 'Twoją': 15, 'Ultra Short': 1, 'Long': 1, 'IEF': 2, 'Long ETF': 1, 'Miller': 1, 'Bats Y': 1, 'Edge A': 1, 'STEM': 3, 'CrimsonX': 1, 'DStanley': 1, 'DUŻO': 5, 'Stannius': 1, 'Wydaj': 1, 'Biblioteka': 1, 'Motley Fool': 3, 'Kanada Globe': 1, 'Mail': 1, 'Globe': 1, 'Nazywać': 1, 'Hendrika Bessembinder': 1, 'RRSP': 1, 'Greg Habstritt': 1, 'Unshakeable': 1, 'Robbins': 1, 'Mart': 4, 'Wal': 2, 'Zdajesz': 1, 'Najlepsi': 1, 'American': 3, 'NSA': 1, 'GMCR': 1, 'KO': 1, 'PEP': 1, 'Brzmi': 1, 'Hiszpania': 3, 'Azja': 1, 'Jacyś': 1, 'Londyn': 3, 'SFGate': 1, 'REIT': 1, 'Global Ratings': 1, 'Andrew Polk': 1, 'China': 4, 'Pekin': 4, 'Q](http://np.reddit.com': 1, 'Opinie](http://np.reddit.com': 8, 'Chiny**^#1': 1, 'Zadłużenie**^#2': 1, 'Stawka**^#3': 1, 'Wzrost**^#5': 1, 'Bollinger': 1, 'Trailing': 1, 'RRSO': 8, 'Bankrate': 1, 'Barbi': 1, 'TransUnion': 3, 'Equifax': 4, 'Experianin': 1, 'CreditKarma': 1, 'Forbes': 1, 'Saudyjczyk': 1, 'W': 5, 'Utah': 1, 'Idaho': 2, 'Cel': 3, 'WSJ': 3, 'Chrome': 1, 'Microsoftu': 1, 'Top': 1, 'S1V292qDMQ8': 1, 'Всем Привет': 1, 'Остались': 1, 'UCAOABF2yT1SjVqI7RK9aIUg': 1, 'Demat': 1, 'Gilbert AZ': 2, 'Preferred Foot': 1, 'Ankle Specialist': 1, 'Mikkel Jarman': 1, 'DPM': 1, 'Gilberta Podiatra': 1, 'PreferredFootAnkle.com': 1, 'Waluta': 1, 'Jedyną': 1, 'FEDEX': 1, 'Robię': 1, 'Hollywood': 2, 'WSZYSTKIM': 1, 'Fine Jewelry': 2, 'BWW': 1, 'Republikanów': 2, 'CAD': 4, 'Manulife One': 1, 'Manulife': 1, 'ŻADNYCH': 2, 'CO WŁAŚCIWIE ROBI INWESTYCZNY BANKIER': 1, 'AAPL': 1, 'CAM': 1, 'Carry Trade': 2, 'Currency Carry Trade': 1, 'VAT': 3, 'CA': 3, 'COBRA': 1, 'AGI': 1, 'Dietetyk': 1, 'Tels': 1, 'Netflix': 5, 'Um': 1, 'Monsanto': 2, 'Idź': 2, 'Schmeiser': 2, 'TPP': 1, 'ORAZ': 4, 'NSCC': 1, 'OTC': 4, 'Futures': 1, 'Other Derivatives': 1, 'Hull': 1, 'Inwestycja': 1, 'Bodie': 1, 'Kane': 1, 'Marcus': 1, 'GF': 3, 'Fidelity Four In': 1, 'NTF': 1, 'TD Ameritrade': 2, 'N': 5, 'Afryka': 1, 'Równy Ważić': 1, 'MSCI': 1, 'Fritos': 1, 'Frito': 1, 'Aldi': 2, 'Manager': 1, 'CIVPART': 1, 'GM': 1, 'Holandia': 1, 'Gunnar': 1, 'Chase': 1, 'QuickPay': 1, 'SurePay': 1, 'Capital One': 3, 'P2P': 1, \"Chase's QuickPay\": 1, 'WIĘCEJ': 2, 'Jaki': 1, 'NAV': 2, 'SIP': 2, 'RÓB NIC': 1, 'INWESTYCJE PODLEGAJĄ RYZYKOM RYNKOWYM': 1, 'ScottTrade': 1, 'Stawka': 1, 'Libor': 4, 'LIBOR': 1, 'Moje': 1, 'Marią Antonina': 1, 'BBA': 1, 'Houston': 1, 'Bogatsi': 1, 'Niemcy': 1, 'Pakistano': 2, 'Rustic': 1, 'BARDZO': 3, 'Ciebie CC': 1, 'LUB': 1, 'Otrzymaj': 1, 'Kennedy': 1, 'Penn': 1, 'BA': 3, 'Wharton': 1, 'Pell Grant': 1, 'GED': 1, 'LPN': 1, 'ADN': 1, 'RN': 2, 'FutureAdvisor.com': 1, 'William': 1, 'P': 8, 'Chin': 2, 'NAFTA': 1, 'Robert Lighthizer': 1, 'Zjednoczone': 4, 'NADWYŻKĘ': 1, 'Somalia': 1, 'Cash Value Life Insurance': 1, 'EUR': 2, 'UE': 2, 'SWIFT': 1, 'Economics': 2, 'International': 1, 'London': 1, 'Stochastics': 1, 'RS': 1, 'FDIC': 2, 'Alphabet': 2, 'Potrzebują': 1, 'Biorąc': 2, 'Financial Times': 2, 'Rynek': 1, 'Ponzi': 1, 'About.com': 1, 'Mhq5j': 1, 'Chevron': 1, 'Stelaż Chevron': 1, 'Niemarkowa': 1, 'Teoria](http://np.reddit.com': 4, 'Illinois': 1, 'Lyft': 9, 'LA': 1, 'OC': 1, 'So': 1, 'GPS': 2, 'Ubera': 2, 'Lyfta': 2, 'DUI': 1, 'UBEZPIECZENIE': 1, 'Lyft](http://i.imgur.com': 1, 'USD/a': 1, 'UM': 2, 'UIM': 2, 'Przypadkowy': 1, 'UberX](http://i.imgur.com': 1, 'USŁUGI': 1, 'OCZEKIWANIA': 1, 'Lyftem': 1, 'Hollywood Blvd': 1, 'Sunset': 1, 'OSOBISTE DOŚWIADCZENIE': 1, 'PODSUMIENIU': 1, 'FDA Leki': 1, 'Drug**^#1': 1, 'Głosuj**^#2': 1, 'Import**^#3': 1, 'Trump**^#4': 1, 'Przemysł**^#5': 1, 'Sekrete': 1, 'Stan Weinstein': 1, 'Mógłbym': 2, 'Marek Hulbert': 1, 'Wilshire': 1, 'NBA Antoine Walker': 1, 'NFL Joey Porter': 1, 'S&P/ Case': 2, 'Shiller': 3, 'Real': 1, 'Index': 1, 'Yale Shiller': 1, 'Views': 1, 'San Diego': 1, 'Bostona': 2, 'Los Angeles': 1, 'Źródło': 1, 'PDF': 1, 'CME': 3, 'Brytania': 3, 'Milioner': 1, 'RTA': 1, 'NZ': 1, 'Zelandia': 1, 'Halifax': 1, 'Cox Communications': 1, 'Meksykan': 1, 'Meksykane': 1, 'Applebees': 2, 'EOY': 1, 'Maryland': 1, 'Interactive Brokers': 1, 'Ukryte': 1, 'Odsetka': 1, 'FAQ': 1, 'Morał': 1, 'Dheer': 1, 'Grande Vente Mocharino Espresso Latte': 1, 'MicroGrid': 2, 'Dexmet': 1, 'GOOG': 2, 'Google Finance': 1, 'McDonald': 1, 'WPRyb': 1, 'PE': 4, 'CFP': 2, 'Łączny': 1, 'Aktywnie': 1, 'Facebook Messenger': 1, 'BombBomba': 1, 'Joint Venture': 1, 'WOFE': 2, 'JV': 1, 'V1': 1, 'David Siegel': 1, 'Siegel': 1, 'CBC': 1, 'Corp': 3, 'Zdobądź': 1, 'Excela': 1, 'DePaul': 3, 'William Blair': 1, 'BBC': 3, 'Miles': 2, 'RPP': 1, 'DCF': 3, 'SZYBKA ODPOWIEDŹ': 1, 'Foods': 1, 'WSKAZÓWEK': 1, 'TreasuryDirect': 1, 'TIPS': 2, 'S&P': 14, 'HDFC': 1, 'Reinharta': 1, 'Rogoffa': 1, 'GLD': 3, 'Trust': 2, 'Wall Street': 5, 'Powód': 3, 'DISH': 1, 'Cox': 1, 'ABC': 1, 'HBO': 4, 'VH1': 1, 'Oxygen Network': 1, 'Oxygen': 2, 'Comcastem': 1, 'Shella': 1, 'P&S': 1, 'Jasper': 1, 'Publiczny': 1, 'Indonezja': 2, 'BOILER SCAM': 1, 'Firma': 2, 'Rozwiązania': 1, 'New Deal': 2, 'Wall Street Journal](http://online.wsj.com': 1, 'SB10001424052970204468004577164710231081398.html': 1, 'Leo': 1, 'Pham': 2, 'Boi': 1, 'Thăng Long': 1, 'Cà Gai Leo': 1, 'Gai Leo': 2, 'Gai Leo Hoà Tan': 1, 'Lac': 1, 'Gai Leo Khô Voi': 1, 'Trình': 1, 'Tiêu': 1, 'Cung Công': 1, 'Tien Tien': 1, 'Pham Ca Leo': 1, 'Nhat Hien': 1, 'Gai Leo TRO': 1, 'TRị': 1, 'Gan Xin Theo': 1, 'TrustyTukTuk': 1, 'Lowes': 1, 'Darmowy': 1, 'NIGDZIE': 1, 'Monte Carlo': 1, 'CMCSA': 1, 'Time Warner Cable': 1, 'TWC': 1, 'Inflację': 1, 'MFW': 2, 'Kabuka': 1, 'Kabukistan': 2, 'Kabuki': 5, 'IQ Afganistan': 1, 'Bliski Wschód': 1, 'Afganistan': 2, 'Obamacare': 1, 'Androida': 1, 'Coronado': 1, 'Whole Foods': 3, 'Trader Joe': 1, 'Motorola': 1, 'Motoroli': 1, 'Pozwuj': 1, 'Google Voicemail': 1, 'Bez': 1, 'FDCPA': 3, 'USC': 1, 'RFID': 1, 'RF': 2, 'Bańce': 2, 'Intel': 1, 'Cisco': 8, 'IPO': 5, 'Private Equity': 1, 'Hedge Funds': 1, 'Global Captial': 1, 'Capital': 1, 'America': 3, 'UPS': 3, 'DHL': 2, 'BK': 5, 'UGMA': 1, 'FAFSA': 3, 'EFC': 2, 'Tradycyjne': 1, 'STOP': 1, 'PUT': 1, 'Umiejętność': 1, 'Shuqing': 1, 'Chińska': 1, 'Regulacyjnej': 1, 'Bankowość': 1, 'Ekonomiczny': 1, 'PKB Chiny': 1, 'Chińczyk': 3, 'Wpisać': 1, 'Zarejestruj': 1, 'Marynarka': 1, 'Noida': 1, 'TERAZ': 1, 'APR': 2, 'Amerykan': 1, 'Primeric': 1, 'IMO': 5, 'Ameryka Środkowy': 1, 'Emeryt Indywidualny': 1, 'Konto': 1, 'Savings': 1, 'Goldman Sachs Savings': 1, 'Discover Savings': 1, 'ETA': 1, 'AI': 1, 'Stambule': 2, 'Absolutnie': 1, 'Superstar': 2, 'Dilbert': 1, 'S': 2, 'Waszyngton': 2, 'Juliusz Cezar': 1, 'ICH': 1, 'Taktyka': 1, 'DACA': 1, 'Immigration': 1, 'PC': 1, 'ILG': 1, 'Connecticut Ave': 1, 'Suite': 1, 'Washington': 1, 'DC': 3, 'Ibbotson': 1, 'Warren Buffet': 1, 'Siergiej Brin': 1, 'NI': 6, 'LTV': 1, 'Zdecydowana': 1, 'NADAL': 1, 'CAP': 3, 'John': 1, 'Arizon': 1, 'Nowy Meksyk': 1, 'Michigan': 2, 'Ok': 3, 'SAAB': 3, 'Kupiłeś SAAB': 1, 'CC440': 2, 'Kroger': 2, 'Wal Mart': 1, 'Jones': 1, 'Fizyka': 1, 'Sarah': 1, 'Washington Post': 1, 'Jeff Bezos': 1, 'Jeff': 1, 'Bezos': 1, 'UWIELBIAM': 1, 'Siam Trust': 1, 'Outlook': 1, 'Accompli': 1, 'NPR': 1, 'Waters': 1, 'Rezerwa Federalna': 2, 'Janet Yellen': 1, 'FAQ](http': 1, 'Opinie](http://np.reddit.com/': 1, 'Wells**^#1': 1, 'Fargo**^#2': 1, 'Bank**^#3': 1, 'Finansowe**^#4': 1, 'Skandal**^#5': 1, 'QB': 1, 'USA IRS': 1, 'EDYTUJ': 1, 'IS': 1, 'OOS': 2, 'Chase Cards': 1, 'OP': 4, 'ŚMIECHU': 1, 'Izrael': 4, 'Koreą Północną': 1, 'Korea': 1, 'Teksas': 3, 'Kontroler': 1, 'DCA': 2, 'FB': 2, 'MIT': 1, 'Cambridge': 1, 'Publications': 1, 'WP': 1, 'Issues/2017/10/20/The': 1, 'Distributional': 1, 'Effects': 1, 'Najczęściej': 1, 'MFW**^#3': 1, 'ADR': 2, 'Fundusz': 1, 'Fibonacciegoa': 1, 'Fibonaccie': 1, 'Fibonacciego': 1, 'Historycznie': 1, 'Zwróć': 2, 'Walmarta': 1, 'Version': 1, 'Amerykański**^#1': 1, 'Konsumpcja**^#2': 1, 'Wydatki**^#3': 1, 'Więcej**^#5': 1, 'Rezerwa Federalną': 1, 'Amazon Key': 1, 'TBTF': 1, 'Lehman': 1, 'SEC': 3, 'Tax Topic': 1, 'Zagraniczna': 1, 'Źródła': 1, 'IRS Tax Topic': 1, 'IRS Real Estate': 1, 'Zagraniczny': 2, 'Wieśniak': 1, 'Gilead Sciences': 1, 'GILD': 1, 'Investopedia': 2, 'Forda': 1, 'Volvo': 1, 'RE': 2, 'ACH': 2, 'Federalnej': 1, 'PMC2038856/': 1, 'FTC': 1, 'Public_Health_Cigarette_Smoking_Act': 1, 'HP': 1, 'Mayer': 1, 'Yahoo': 2, 'Dorośnij': 1, 'Bryan': 1, 'Sovereign Inn': 1, 'Newcastle': 1, 'Ben Miller': 1, 'Żywność': 1, 'VIC Recycle Metals': 2, 'Pg': 1, 'Catch': 1, 'Fullerton India': 1, 'Cabo': 1, 'Foxconn': 1, 'PR': 1, 'Zarządzaniu Portfelem': 1, 'South': 1, 'Underpants Gnomes](http://upload.wikimedia.org': 1, 'Gnomes_plan.png': 1, 'PRACOWNIKÓW': 1, 'PRACĘ': 1, 'ZŁEGO': 1, 'ZAKOŃCZYŁA': 1, 'WSZYSTKIE': 1, 'Giant Sequoia': 1, 'WAŻNIEJSZY': 1, 'IOW': 1, 'Przeprowadzono': 1, 'Web': 1, 'Brian Headd': 1, 'Small': 2, 'Administration': 1, 'Rand Paul': 1, 'BŁĘDNY': 1, 'WYSOKIM LEWAROWANIU': 1, 'WYSOKIEGO RYZYKA': 1, 'ZAAWANSOWANYCH TECHNOLOGIACH': 1, 'Prawdziwą': 1, 'Argument': 1, 'FMV': 1, 'Dokonywać': 1, 'IOPT': 1, 'Euribor Wydawać': 1, 'Iran': 1, 'Hydraulika': 1, 'INow': 1, 'MCD': 2, 'Electrical Appliances': 1, 'PODWÓJNIE': 2, 'FUTA': 1, 'Id': 1, 'Dodaj': 1, 'JPY': 1, 'PRZESTAŃ': 1, 'OGŁOSZĄ': 1, 'CompUSA': 1, 'LOL': 1, 'Niemiec': 4, 'Polska': 1, 'Węgry': 1, 'Norwegia': 1, 'Obywatelski': 1, 'CV': 5, 'Fresh': 1, 'Japończyk': 1, 'Niemec': 1, 'Japoni': 1, 'Irak': 1, 'Palestyńczyk': 1, 'POMIMO': 1, 'Sprzedać': 1, 'Zachodni Brzeg': 2, 'Palestyna': 1, 'Blue': 1, 'Future': 1, 'Brzeg': 1, 'Palestyńczykamie': 1, 'Osiedle**^#1': 1, 'Izrael**^#2': 1, 'Osadnik**^#3': 1, 'Miliard**^#4': 1, 'Palestyńczyk**^#5': 1, 'GPA': 3, 'IBanking': 1, 'Amex': 2, 'JEŚLI': 1, 'HR': 3, 'Zatrudnij': 1, 'REPO': 1, 'REPO CAR': 1, 'Ed': 1, 'NCLB': 1, 'Doceniam': 1, 'NOWY JORK': 1, 'Rezerwa Federalna USA': 1, 'Rynki': 1, 'Opinie](http://np.r': 2, 'USA**^#4': 1, 'AC': 1, 'Dave Ramsey': 1, 'Sch A': 1, 'TD': 1, 'Edytuj': 1, 'GOP': 1, 'ACA': 2, 'PRAWDA': 1, 'Szanghaj': 2, 'Shenzhen': 2, \"Xi'an\": 3, 'Chengdu': 2, 'CNY': 4, 'Xi': 1, 'Google Maps': 1, 'Forex': 2, 'HSBC': 3, 'IANAL': 1, 'Best Buy': 3, 'POTRZEBUJĘ': 1, 'Dyrektorowie': 1, 'Naprawa': 1, 'Donald Trump': 1, 'Goldman Sachs Group Inc': 1, 'Blankfein': 2, 'Fix': 1, 'Debt': 1, 'CNBC': 2, 'Wrzeszczala': 1, 'George W': 1, 'Bush': 1, 'Biały': 1, 'Unleash Prosperity': 1, 'FreedomWorks': 1, 'Koch': 1, 'Brioniego': 1, 'Alfred Angelo': 1, 'New Jersey': 1, 'Ziemia': 2, 'Scrooge': 1, 'Target': 1, 'Safeway': 1, 'Home Depot': 2, \"Lowe's Walmart\": 1, 'Jedzenie': 1, 'Amazon Fresh': 1, 'Bill': 6, 'Robią': 1, 'Kupując': 1, 'Czynsz': 1, 'AIM': 1, 'Trillian': 1, 'Disney': 1, 'Oryginalny': 1, 'DVD': 1, 'Złóż': 1, 'John Doe': 1, 'Doe': 1, 'PCI': 3, 'DSS': 2, 'Payment Card Industry Security Standards': 1, 'Amy': 3, 'Doofus': 1, 'MC': 1, 'Wolny': 1, 'Podróże': 1, 'CZAS': 1, 'DJ': 2, 'Ty': 1, 'Northampton': 1, 'Kiva': 4, 'Kiva).Więc': 1, \"Dave' Ramsey\": 1, 'Iamchrisbrown209': 1, 'Istnieją': 1, 'SIMPLE': 5, 'Safe Harbour': 1, 'SIMPLE IRA': 1, 'SEP': 1, 'Tabela': 1, 'Charter Savings': 1, 'Cash ISA': 1, 'ISA': 7, 'Wikipedia': 4, 'Argentyna': 1, 'Zimbabwe': 1, 'Hatha Way': 1, 'PROSTE': 2, 'FICA': 5, 'TPLink': 2, 'DLink': 1, 'Prość': 1, 'STRASZNA': 1, 'WSZYSCY': 1, 'TPLINK': 1, 'Celsjusz': 2, 'Club': 1, 'Android': 1, 'Włoch': 1, 'Pożyczka': 1, 'Home Riches': 1, 'Group Home Riches': 1, 'Radziecki': 1, 'Szwecja': 1, 'Robinhood': 1, 'Thiel': 1, 'Milton Friedman': 1, 'Paul Krugman': 1, 'HMRC': 1, 'Gordon Brown': 1, 'IA': 1, 'SA': 1, 'CAGR': 3, 'Brice': 1, 'Uniwersytecie Howard': 1, 'Uniwersytecie Rutgers': 1, 'Uniwersytecie Columbia': 1, 'Reprezentantów Stany Zjednoczone': 1, 'Witryna': 1, 'WaPo': 3, 'Carlos Slim': 1, 'Meksyk': 2, 'Carlos': 1, 'Telecom': 1, 'Sotho': 1, 'Lata': 1, 'IPO Facebooko': 1, 'Warren Buffett': 1, 'George Soros': 2, 'Brzmieć': 1, 'CFA': 2, 'Keogh': 1, 'Darczyńiec': 1, 'DAF': 4, 'Suze Orman': 2, 'Ego': 1, 'John Bogle': 1, 'Investments': 1, 'Solo': 1, 'Praktyczni': 1, \"Chilli's\": 1, 'Starzejące': 1, 'Pfft': 1, 'Jan Kowalski': 1, 'Pozwólcie': 1, 'Kup': 3, 'Sprzedaj': 2, 'Trzymaj': 1, 'Seeking Alpha': 1, 'NIMBY': 1, 'Zachowuj': 1, 'Chodziło': 1, 'ZNACZĄCĄ': 1, 'SeaWorld': 1, 'Orca': 1, 'Branża': 1, 'Rosja': 1, 'Royal': 1, 'PVT': 1, 'Rajsamandz': 1, 'S&P500': 4, 'Jim Cramer': 1, 'FYI': 1, 'JoeTaxpayer': 1, 'First Clearing': 1, 'Lamborghini': 1, 'Index Fund': 1, 'Index Mutual Fund': 1, 'Kupuj': 1, 'III': 1, 'Podłoga': 1, 'ROZMIAR': 1, 'KLASA': 1, 'AC2': 1, 'AC4 PODSTAWA': 1, 'BRĄZOWY': 1, 'ZIELONY CERTYFIKAT HDF': 1, 'ISO9001': 1, 'ISO14001': 1, 'CE': 1, 'SGS': 1, 'EVA': 1, 'SIPC': 1, 'MF Global': 1, 'VoIP Voip': 1, 'Zostań': 1, 'TaTa': 1, 'BD': 2, 'BD IGW': 1, 'BD WHITE PREMIUM': 1, 'INDIE': 3, 'LAND': 1, 'BSNL': 1, 'PAKISTAN92': 1, 'PAKISTAN': 1, 'Telefon': 1, 'VII': 1, 'AskTrumpSupporters': 5, 'Anthony Scaramucci': 1, 'Reince': 1, 'Stevem Bannon': 1, 'Nation': 1, 'Ne': 1, 'CIT': 1, 'Lehman Brothers': 1, 'AIG': 3, 'CDS': 2, 'Chryslero': 1, 'Chrysler': 1, 'ROC': 7, 'SMSF': 5, 'Niski': 1, 'Tumblr': 1, 'Pinterest': 1, 'Tech Industris': 1, 'YMMV': 1, 'Uxbridge': 1, 'W4': 1, 'Nestle': 1, 'HOA': 3, 'Inwestor': 1, 'Inwestor B': 1, 'Bschoola': 1, 'Zużyłam': 1, 'F U': 1, 'Stop Loss': 1, 'CarMax': 1, 'Gdybyśmy': 1, 'Romneya Siegel': 1, 'Robinson': 1, 'Mieszkanka Staten Island': 1, 'V': 2, 'Office Depot': 1, 'Staples': 1, 'Doskonała': 1, 'NOWE': 1, 'ULEPSZONE': 1, 'Marines': 1, 'Europejczyk': 1, 'AMD': 1, 'Ethereum': 1, 'Lisa Su': 1, 'Romney': 1, 'Obama': 1, 'Julia Gillard': 1, 'OCC': 2, 'Rozsądny': 1, 'Joneses': 1, 'Omówimy': 1, 'Budować': 1, 'CNN': 1, 'Umm': 1, 'OCR': 1, 'Printing': 1, 'Sprawiedliwe': 1, 'Zadzwoni': 1, 'Pożyczyli': 1, 'Anglia': 1, 'Napoleon': 1, 'ONZ': 1, 'Banker': 2, 'To': 1, 'Disneya': 1, 'Amazon](http://www.readersunited.com/': 1, 'Wholefoods': 1, 'Większe': 1, 'Discover': 1, 'AMEX': 3, 'AMEXu': 1, 'SF': 3, 'Tokio': 1, 'Samsung': 1, 'Odradzałbym': 1, 'Najwięcej': 1, 'Indianin': 1, 'Microsoft Word': 1, 'Delhi': 1, 'SPY': 3, 'Nowy Zelandia': 1, 'Demokrat': 1, 'Republikan': 2, 'Demokratów': 1, 'NASZA FIRMA': 1, 'Woo': 3, 'Co.](http://www.pcwoo.com': 1, 'Commercial': 1, 'Corporate': 1, 'Property': 1, 'Litigation': 1, 'Trusts': 1, 'China Practice': 1, 'Corporate Governance': 1, 'Pro': 1, 'Work': 1, 'MOJ': 1, 'ZhongLun W&D': 1, 'Miejski': 1, 'Jinan': 2, 'Rijadz': 1, 'Shijiazhuang': 1, 'Nanjing': 1, 'Tianjin': 1, 'Wuhan': 1, 'Taiyuan': 1, 'Guangzhou': 1, 'Hong Kong': 1, 'NASZA WIZJA': 1, 'Dążymy': 1, 'NASZA': 1, 'Zaczynasz': 1, 'Detroit': 1, 'Wsparcie': 1, 'Ben Franklin': 1, 'Średnia': 1, 'Wielki Recesja': 1, 'Recesja': 1, 'Kwalifikator': 1, 'Universal Steel': 2, 'FT': 1, 'Marketing': 1, 'Herbalife': 1, 'Google Adwords': 1, 'Manufacturing_Consent:_The_Political_Economy_of_the_Mass_Media': 1, 'GIPS': 1, 'JNJ': 1, 'JPM': 1, 'Alternatywą': 1, 'CO2': 3, 'Kioto': 1, 'Wstrzymałbym': 1, 'Przeczytaj': 1, 'Pakistan': 3, 'PRAW CZŁOWIEKA': 1, 'Webtech Sp': 1, 'Schwab': 1, 'Bakuriu': 1, 'Samsungy': 1, 'LG': 1, 'CEC': 1, \"Fry's\": 1, 'ASCAP': 1, 'Famy': 1, 'French': 1, 'Ludzkie': 1, 'Ludwig': 1, 'Misesa': 1, 'EM': 1, 'Austin': 1, 'CAŁY STAN Florydy': 1, 'Teksasu': 1, 'TAN': 1, 'PAN': 1, 'Kill': 2, 'Watt': 2, 'Kill Watt': 1, 'LCD': 1, 'IMHO': 1, 'TED': 1, 'Giełda': 1, 'Excel': 1, 'Następnie': 1, 'Przekonuć': 1, 'Hoover': 1, 'Coolidge': 1, 'Deal': 1, 'Doktryna Truman': 1, 'JOBS': 3, 'JOBS Act': 1, 'IAU': 1, 'SGOL': 1, 'Randgold Resources': 1, 'GOLD': 1, 'GDX': 1, 'Teslę': 1, 'Rozważ': 1, 'Grecja': 1, 'Międzynarodowym': 1, 'Syriza': 1, 'Toi Cung Cap': 1, 'Giá CO Phải Chung Thach Cao': 1, 'Trần': 1, 'Cao Cong Cung ROT': 1, 'Voi': 1, 'MOT': 1, 'CO': 1, 'Có': 1, 'Gì': 1, 'Hoạt': 1, 'Thảm': 1, 'Mao M': 1, 'MOT Trong Nhung': 1, 'Thuc Hien Tung': 1, 'Cao Hơn Cung Cap': 1, 'Giá Rẻ': 1, 'Chung Toi Su Dung': 1, 'Lieu': 1, 'Tot Nhat': 1, 'Catran MUC Tiêu Cua Chung Toi': 1, 'Hoan Thanh Su Hai Long': 1, 'Trần Nha': 1, 'Harmonogram': 1, 'Próbowaliśmy': 1, 'GORĄCĄ': 1, 'YouTube': 1, 'Justin_Bieber': 1, 'Kontrakty': 1, 'Bądź': 1, 'Wybierz': 1, 'Dołącz': 1, 'McKinsey': 2, 'BP': 1, 'Royal Dutch': 1, 'Kupiłem': 1, 'Q': 1, 'Z': 1, 'A+B': 1, 'ADP': 2, 'EIN': 3, 'S Corporation': 1, 'Clarek Howard': 1, 'Rób': 1, 'Robbuck Security': 1, 'TEGO': 1, 'Tajlandia': 1, 'Wolałbym': 1, 'SBLC': 1, 'Bronze Wing Trading LLC': 1, 'Szwajcaria': 1, 'IX': 4, 'Newton': 1, 'Kontr': 1, 'XI': 1}\n"
     ]
    }
   ],
   "source": [
    "expressions_dict = dict()\n",
    "\n",
    "for passage in thousand_passages.values():\n",
    "    lookup_expressions(passage, expressions_dict)\n",
    "\n",
    "print(expressions_dict)"
   ]
  },
  {
   "cell_type": "code",
   "execution_count": 22,
   "metadata": {},
   "outputs": [
    {
     "name": "stdout",
     "output_type": "stream",
     "text": [
      "(70, 'USA')\n",
      "(48, 'IRA')\n",
      "(46, 'Ciebie')\n",
      "(45, 'Twój')\n",
      "(38, 'Stany Zjednoczone')\n",
      "(30, 'IRS')\n",
      "(27, 'Twojej')\n",
      "(25, 'Wielki Brytania')\n",
      "(25, 'Indie')\n",
      "(24, 'X')\n",
      "(23, 'K')\n",
      "(23, 'Chiny')\n",
      "(21, 'PKB')\n",
      "(21, 'Google')\n",
      "(20, 'Internet')\n",
      "(19, 'Roth')\n",
      "(19, 'GBP')\n",
      "(19, 'ETF')\n",
      "(18, 'Facebook')\n",
      "(18, 'CD')\n",
      "(17, 'B')\n",
      "(16, 'USD')\n",
      "(15, 'Twoją')\n",
      "(14, 'Twoich')\n",
      "(14, 'S&P')\n",
      "(14, 'Roth IRA')\n",
      "(13, 'Twojego')\n",
      "(13, 'PM')\n",
      "(13, 'Kanada')\n",
      "(13, 'Apple')\n",
      "(13, 'Amazon')\n",
      "(11, 'Comcast')\n",
      "(11, 'A')\n",
      "(10, 'Uber')\n",
      "(10, 'C')\n",
      "(10, 'Australia')\n",
      "(9, 'Trump')\n",
      "(9, 'Lyft')\n",
      "(9, 'LLC')\n",
      "(9, 'E')\n",
      "(8, 'Walmart')\n",
      "(8, 'RRSO')\n",
      "(8, 'P')\n",
      "(8, 'Opinie](http://np.reddit.com')\n",
      "(8, 'FAQ](http://np.reddit.com')\n",
      "(8, 'Cisco')\n",
      "(8, 'Amazona')\n",
      "(7, 'Stany')\n",
      "(7, 'ROC')\n",
      "(7, 'Nowy Jork')\n"
     ]
    }
   ],
   "source": [
    "ranking = list((v, k) for k, v in expressions_dict.items())\n",
    "ranking = sorted(ranking, reverse=True)\n",
    "\n",
    "for position in ranking[:50]:\n",
    "    print(position)"
   ]
  },
  {
   "cell_type": "markdown",
   "metadata": {},
   "source": [
    "5. Apply the NER from SpaCy to identify the named entities in the same set of documents."
   ]
  },
  {
   "cell_type": "code",
   "execution_count": 23,
   "metadata": {},
   "outputs": [],
   "source": [
    "classes_freq = dict()\n",
    "classes_examples = dict(dict())\n",
    "\n",
    "for passage in thousand_passages.values():\n",
    "    docs = nlp(passage)\n",
    "    for token in docs.ents:\n",
    "        if token.label_ in classes_freq:\n",
    "            classes_freq[token.label_] += 1\n",
    "        else:\n",
    "            classes_freq[token.label_] = 1\n",
    "        if token.label_ in classes_examples:\n",
    "            if token.lemma_ in classes_examples[token.label_]:\n",
    "                classes_examples[token.label_][token.lemma_] += 1\n",
    "            else:\n",
    "                classes_examples[token.label_][token.lemma_] = 1\n",
    "        else:\n",
    "            classes_examples[token.label_] = dict()\n",
    "            classes_examples[token.label_][token.lemma_] = 1"
   ]
  },
  {
   "cell_type": "markdown",
   "metadata": {},
   "source": [
    "6. Plot the frequency (histogram) of the identified classes."
   ]
  },
  {
   "cell_type": "code",
   "execution_count": 24,
   "metadata": {},
   "outputs": [
    {
     "data": {
      "image/png": "[encoded data removed]",
      "text/plain": [
       "<Figure size 640x480 with 1 Axes>"
      ]
     },
     "metadata": {},
     "output_type": "display_data"
    }
   ],
   "source": [
    "import matplotlib.pyplot as plt\n",
    "\n",
    "plt.bar(classes_freq.keys(), classes_freq.values())\n",
    "plt.show()"
   ]
  },
  {
   "cell_type": "markdown",
   "metadata": {},
   "source": [
    "7. Display 10 most frequent Named Entities for each identified type."
   ]
  },
  {
   "cell_type": "code",
   "execution_count": 25,
   "metadata": {},
   "outputs": [
    {
     "name": "stdout",
     "output_type": "stream",
     "text": [
      "placeName\n",
      "[(67, 'USA'), (49, 'amerykański'), (40, 'Stany Zjednoczone'), (25, 'Indie'), (24, 'Wielki Brytania'), (23, 'Chiny'), (13, 'Kanada'), (10, 'Australia'), (9, 'chiński'), (8, 'kanada')]\n",
      "===\n",
      "orgName\n",
      "[(49, 'IRA'), (23, 'Google'), (18, 'ETF'), (15, 'Facebook'), (13, 'Roth IRA'), (11, 'Comcast'), (11, 'Apple'), (10, 'Microsoft'), (10, 'Cisco'), (8, 'bank')]\n",
      "===\n",
      "date\n",
      "[(4, 'styczeń'), (4, '2014 rok.'), (4, '2014'), (3, '2017 rok.'), (3, '2016 rok'), (3, '2015'), (3, '2010 rok'), (3, '2008 rok'), (3, '2001 rok.'), (2, 'styczeń 2015 rok.')]\n",
      "===\n",
      "persName\n",
      "[(14, 'Roth'), (12, 'Amazon'), (9, 'Trump'), (7, 'OP'), (7, 'Lyft'), (7, 'Bill'), (6, 'Walmart'), (6, 'Trumpa'), (4, '\\u200b\\u200bfirma'), (4, 'clearXchange')]\n",
      "===\n",
      "geogName\n",
      "[(5, 'Europa'), (4, 'europejski'), (4, 'Wall Street'), (2, 'kanadyjski'), (2, 'blacklist/'), (2, 'Ziemia'), (2, 'Zachodni Brzeg'), (2, 'Ameryka'), (1, '\\u200b\\u200bwniosek'), (1, 'zachodni Brzeg')]\n",
      "===\n",
      "time\n",
      "[(3, '65'), (1, 'godzina 18:00'), (1, 'godzina 16.'), (1, '6 rano'), (1, '23.'), (1, '12'), (1, '10'), (1, '00')]\n",
      "===\n"
     ]
    }
   ],
   "source": [
    "for class_name, examples in classes_examples.items():\n",
    "    print(class_name)\n",
    "    print(sorted([(v, k) for k, v in examples.items()], reverse=True)[:10])\n",
    "    print(\"===\")"
   ]
  },
  {
   "cell_type": "markdown",
   "metadata": {},
   "source": [
    "8. Display 50 most frequent Named Entities including their count and type."
   ]
  },
  {
   "cell_type": "code",
   "execution_count": 36,
   "metadata": {},
   "outputs": [
    {
     "name": "stdout",
     "output_type": "stream",
     "text": [
      "(67, 'placeName', 'USA')\n",
      "(49, 'placeName', 'amerykański')\n",
      "(49, 'orgName', 'IRA')\n",
      "(40, 'placeName', 'Stany Zjednoczone')\n",
      "(25, 'placeName', 'Indie')\n",
      "(24, 'placeName', 'Wielki Brytania')\n",
      "(23, 'placeName', 'Chiny')\n",
      "(23, 'orgName', 'Google')\n",
      "(18, 'orgName', 'ETF')\n",
      "(17, 'placeName', 'Roth')\n",
      "(16, 'orgName', 'Amazon')\n",
      "(15, 'orgName', 'Facebook')\n",
      "(14, 'orgName', 'Apple')\n",
      "(13, 'placeName', 'Kanada')\n",
      "(13, 'orgName', 'Roth IRA')\n",
      "(11, 'orgName', 'Comcast')\n",
      "(10, 'placeName', 'Australia')\n",
      "(10, 'orgName', 'Microsoft')\n",
      "(10, 'orgName', 'Cisco')\n",
      "(9, 'placeName', 'chiński')\n",
      "(9, 'placeName', 'Walmart')\n",
      "(9, 'persName', 'Trump')\n",
      "(8, 'placeName', 'kanada')\n",
      "(8, 'placeName', 'indyjski')\n",
      "(8, 'orgName', 'bank')\n",
      "(8, 'orgName', 'Lyft')\n",
      "(7, 'placeName', 'nowy Jork')\n",
      "(7, 'placeName', 'Nowy Jork')\n",
      "(7, 'persName', 'OP')\n",
      "(7, 'persName', 'Bill')\n",
      "(7, 'orgName', 'Netflix')\n",
      "(6, 'placeName', 'europejski')\n",
      "(6, 'placeName', 'china')\n",
      "(6, 'placeName', 'brytyjski')\n",
      "(6, 'placeName', 'angielski')\n",
      "(6, 'placeName', 'FICA')\n",
      "(6, 'placeName', 'Ameryka')\n",
      "(6, 'persName', 'Trumpa')\n",
      "(6, 'orgName', 'kongres')\n",
      "(6, 'orgName', 'Wells Fargo')\n",
      "(6, 'orgName', 'ROC')\n",
      "(6, 'orgName', 'Prosper')\n",
      "(6, 'orgName', 'CPA')\n",
      "(5, 'placeName', 'kanadyjski')\n",
      "(5, 'placeName', 'USPS')\n",
      "(5, 'placeName', 'Stany zjednoczyć')\n",
      "(5, 'placeName', 'SMSF')\n",
      "(5, 'placeName', 'Reddit')\n",
      "(5, 'placeName', 'NoCorporations')\n",
      "(5, 'placeName', 'Japonia')\n"
     ]
    }
   ],
   "source": [
    "all_examples = dict()\n",
    "\n",
    "for class_name, examples in classes_examples.items():\n",
    "    for example, count in examples.items():\n",
    "        if example in all_examples:\n",
    "            all_examples[example][0] += count\n",
    "        else:\n",
    "            all_examples[example] = [count, class_name]\n",
    "\n",
    "for example in sorted([(v[0], v[1], k) for k, v in all_examples.items()], reverse=True)[:50]:\n",
    "    print(example, )\n"
   ]
  },
  {
   "cell_type": "markdown",
   "metadata": {},
   "source": [
    "9. Display 5 sentences containing at least 2 recognized named entities with different types. Highlight the recognized spans with color.\n",
    "   (For demo application [Streamlit](https://streamlit.io/) might be useful for displaying NER results)."
   ]
  },
  {
   "cell_type": "code",
   "execution_count": 34,
   "metadata": {},
   "outputs": [
    {
     "name": "stdout",
     "output_type": "stream",
     "text": [
      "Kilka lat temu udzielałem pożyczek na Prosperze i trzymałem się głównie pożyczkobiorców, którzy mieli ocenę A lub \u001b[32mAA\u001b[39m przez \u001b[32mProspera\u001b[39m\n",
      "Modem lub router nie pasował do słynnego routera \u001b[32mLTE\u001b[39m w \u001b[32m2012 r.\u001b[39m jako \u001b[32mMF28D ZTE\u001b[39m, możesz go usunąć z \u001b[32mZTE MF28D\u001b[39m\n",
      "Każdy poniedziałek był \u001b[32m„TGIM”\u001b[39m „Poniedziałek i każdy wydział odbywają spotkania po \u001b[32mgodzinie 18:00\u001b[39m\n",
      "Tam, gdzie sklep spożywczy mama i pop może uniknąć błędnego etykietowania tylko dlatego, że \u001b[32mUSDA\u001b[39m/\u001b[32mFDA\u001b[39m może nie sprawdzić, czy nie jest to możliwe, myślę, że możemy być całkiem pewni, że \u001b[32mWalmart\u001b[39m\n",
      "> W rzeczywistości wierzysz również, że „\u001b[32mRosjanie\u001b[39m!” są odpowiedzialni za \u001b[32mTrumpa\u001b[39m, oprócz wszystkich okropnych rzeczy, w które wierzysz w \u001b[32mTrumpa\u001b[39m\n"
     ]
    }
   ],
   "source": [
    "from colorama import Fore\n",
    "\n",
    "cnt_of_sentences = 5\n",
    "sentences = []\n",
    "for passage in thousand_passages.values():\n",
    "    docs = nlp(passage)\n",
    "    for sentence in docs.sents:\n",
    "        label_dict = dict()\n",
    "        text = list()\n",
    "        for token in sentence.ents:\n",
    "            if token.label_ in label_dict:\n",
    "                label_dict[token.label_] += 1\n",
    "            else:\n",
    "                label_dict[token.label_] = 1\n",
    "            text.append(token.text)\n",
    "        \n",
    "        if len(label_dict) > 1:\n",
    "            sentences.append(sentence)\n",
    "            sentence_text = sentence.text\n",
    "            for txt in text:\n",
    "                idx = sentence_text.find(txt)\n",
    "                print(sentence_text[:idx], Fore.GREEN+txt+Fore.RESET, end='', sep='')\n",
    "                sentence_text = sentence_text[idx+len(txt):]\n",
    "            print()\n",
    "            cnt_of_sentences -= 1\n",
    "        \n",
    "        if cnt_of_sentences == 0:\n",
    "            break\n",
    "    if cnt_of_sentences == 0:\n",
    "        break"
   ]
  },
  {
   "cell_type": "code",
   "execution_count": 28,
   "metadata": {},
   "outputs": [
    {
     "name": "stderr",
     "output_type": "stream",
     "text": [
      "2024-12-07 22:26:53.500 Thread 'MainThread': missing ScriptRunContext! This warning can be ignored when running in bare mode.\n",
      "2024-12-07 22:26:53.501 Thread 'MainThread': missing ScriptRunContext! This warning can be ignored when running in bare mode.\n",
      "2024-12-07 22:26:53.501 Thread 'MainThread': missing ScriptRunContext! This warning can be ignored when running in bare mode.\n",
      "2024-12-07 22:26:53.502 Thread 'MainThread': missing ScriptRunContext! This warning can be ignored when running in bare mode.\n",
      "2024-12-07 22:26:53.502 Thread 'MainThread': missing ScriptRunContext! This warning can be ignored when running in bare mode.\n",
      "2024-12-07 22:26:53.503 Thread 'MainThread': missing ScriptRunContext! This warning can be ignored when running in bare mode.\n",
      "2024-12-07 22:26:53.504 Thread 'MainThread': missing ScriptRunContext! This warning can be ignored when running in bare mode.\n",
      "2024-12-07 22:26:53.504 Thread 'MainThread': missing ScriptRunContext! This warning can be ignored when running in bare mode.\n"
     ]
    },
    {
     "name": "stdout",
     "output_type": "stream",
     "text": [
      "Kilka lat temu udzielałem pożyczek na Prosperze i trzymałem się głównie pożyczkobiorców, którzy mieli ocenę A lub AA przez Prospera, z których wielu okazało się być kompletnym martwym rytmem.\n"
     ]
    },
    {
     "data": {
      "text/html": [
       "<span class=\"tex2jax_ignore\"><div class=\"entities\" style=\"line-height: 2.5; direction: ltr\">Kilka lat temu udzielałem pożyczek na Prosperze i trzymałem się głównie pożyczkobiorców, którzy mieli ocenę A lub \n",
       "<mark class=\"entity\" style=\"background: lightblue; padding: 0.45em 0.6em; margin: 0 0.25em; line-height: 1; border-radius: 0.35em;\">\n",
       "    AA\n",
       "    <span style=\"font-size: 0.8em; font-weight: bold; line-height: 1; border-radius: 0.35em; vertical-align: middle; margin-left: 0.5rem\">orgName</span>\n",
       "</mark>\n",
       " przez \n",
       "<mark class=\"entity\" style=\"background: green; padding: 0.45em 0.6em; margin: 0 0.25em; line-height: 1; border-radius: 0.35em;\">\n",
       "    Prospera\n",
       "    <span style=\"font-size: 0.8em; font-weight: bold; line-height: 1; border-radius: 0.35em; vertical-align: middle; margin-left: 0.5rem\">persName</span>\n",
       "</mark>\n",
       ", z których wielu okazało się być kompletnym martwym rytmem. </div></span>"
      ],
      "text/plain": [
       "<IPython.core.display.HTML object>"
      ]
     },
     "metadata": {},
     "output_type": "display_data"
    },
    {
     "name": "stderr",
     "output_type": "stream",
     "text": [
      "2024-12-07 22:26:53.509 Thread 'MainThread': missing ScriptRunContext! This warning can be ignored when running in bare mode.\n",
      "2024-12-07 22:26:53.510 Thread 'MainThread': missing ScriptRunContext! This warning can be ignored when running in bare mode.\n",
      "2024-12-07 22:26:53.510 Thread 'MainThread': missing ScriptRunContext! This warning can be ignored when running in bare mode.\n",
      "2024-12-07 22:26:53.511 Thread 'MainThread': missing ScriptRunContext! This warning can be ignored when running in bare mode.\n",
      "2024-12-07 22:26:53.511 Thread 'MainThread': missing ScriptRunContext! This warning can be ignored when running in bare mode.\n",
      "2024-12-07 22:26:53.512 Thread 'MainThread': missing ScriptRunContext! This warning can be ignored when running in bare mode.\n",
      "2024-12-07 22:26:53.512 Thread 'MainThread': missing ScriptRunContext! This warning can be ignored when running in bare mode.\n",
      "2024-12-07 22:26:53.513 Thread 'MainThread': missing ScriptRunContext! This warning can be ignored when running in bare mode.\n"
     ]
    },
    {
     "name": "stdout",
     "output_type": "stream",
     "text": [
      "Modem lub router nie pasował do słynnego routera LTE w 2012 r. jako MF28D ZTE, możesz go usunąć z ZTE MF28D jako pomocnika genów upiększających odpowiedni opis.\n"
     ]
    },
    {
     "data": {
      "text/html": [
       "<span class=\"tex2jax_ignore\"><div class=\"entities\" style=\"line-height: 2.5; direction: ltr\">Modem lub router nie pasował do słynnego routera \n",
       "<mark class=\"entity\" style=\"background: lightblue; padding: 0.45em 0.6em; margin: 0 0.25em; line-height: 1; border-radius: 0.35em;\">\n",
       "    LTE\n",
       "    <span style=\"font-size: 0.8em; font-weight: bold; line-height: 1; border-radius: 0.35em; vertical-align: middle; margin-left: 0.5rem\">orgName</span>\n",
       "</mark>\n",
       " w \n",
       "<mark class=\"entity\" style=\"background: brown; padding: 0.45em 0.6em; margin: 0 0.25em; line-height: 1; border-radius: 0.35em;\">\n",
       "    2012 r.\n",
       "    <span style=\"font-size: 0.8em; font-weight: bold; line-height: 1; border-radius: 0.35em; vertical-align: middle; margin-left: 0.5rem\">date</span>\n",
       "</mark>\n",
       " jako \n",
       "<mark class=\"entity\" style=\"background: lightblue; padding: 0.45em 0.6em; margin: 0 0.25em; line-height: 1; border-radius: 0.35em;\">\n",
       "    MF28D ZTE\n",
       "    <span style=\"font-size: 0.8em; font-weight: bold; line-height: 1; border-radius: 0.35em; vertical-align: middle; margin-left: 0.5rem\">orgName</span>\n",
       "</mark>\n",
       ", możesz go usunąć z \n",
       "<mark class=\"entity\" style=\"background: lightblue; padding: 0.45em 0.6em; margin: 0 0.25em; line-height: 1; border-radius: 0.35em;\">\n",
       "    ZTE MF28D\n",
       "    <span style=\"font-size: 0.8em; font-weight: bold; line-height: 1; border-radius: 0.35em; vertical-align: middle; margin-left: 0.5rem\">orgName</span>\n",
       "</mark>\n",
       " jako pomocnika genów upiększających odpowiedni opis.</div></span>"
      ],
      "text/plain": [
       "<IPython.core.display.HTML object>"
      ]
     },
     "metadata": {},
     "output_type": "display_data"
    },
    {
     "name": "stderr",
     "output_type": "stream",
     "text": [
      "2024-12-07 22:26:53.516 Thread 'MainThread': missing ScriptRunContext! This warning can be ignored when running in bare mode.\n",
      "2024-12-07 22:26:53.516 Thread 'MainThread': missing ScriptRunContext! This warning can be ignored when running in bare mode.\n",
      "2024-12-07 22:26:53.517 Thread 'MainThread': missing ScriptRunContext! This warning can be ignored when running in bare mode.\n",
      "2024-12-07 22:26:53.517 Thread 'MainThread': missing ScriptRunContext! This warning can be ignored when running in bare mode.\n",
      "2024-12-07 22:26:53.518 Thread 'MainThread': missing ScriptRunContext! This warning can be ignored when running in bare mode.\n",
      "2024-12-07 22:26:53.518 Thread 'MainThread': missing ScriptRunContext! This warning can be ignored when running in bare mode.\n",
      "2024-12-07 22:26:53.519 Thread 'MainThread': missing ScriptRunContext! This warning can be ignored when running in bare mode.\n",
      "2024-12-07 22:26:53.520 Thread 'MainThread': missing ScriptRunContext! This warning can be ignored when running in bare mode.\n"
     ]
    },
    {
     "name": "stdout",
     "output_type": "stream",
     "text": [
      "Każdy poniedziałek był „TGIM” „Poniedziałek i każdy wydział odbywają spotkania po godzinie 18:00.\n"
     ]
    },
    {
     "data": {
      "text/html": [
       "<span class=\"tex2jax_ignore\"><div class=\"entities\" style=\"line-height: 2.5; direction: ltr\">Każdy poniedziałek był \n",
       "<mark class=\"entity\" style=\"background: lightblue; padding: 0.45em 0.6em; margin: 0 0.25em; line-height: 1; border-radius: 0.35em;\">\n",
       "    „TGIM”\n",
       "    <span style=\"font-size: 0.8em; font-weight: bold; line-height: 1; border-radius: 0.35em; vertical-align: middle; margin-left: 0.5rem\">orgName</span>\n",
       "</mark>\n",
       " „Poniedziałek i każdy wydział odbywają spotkania po \n",
       "<mark class=\"entity\" style=\"background: purple; padding: 0.45em 0.6em; margin: 0 0.25em; line-height: 1; border-radius: 0.35em;\">\n",
       "    godzinie 18:00\n",
       "    <span style=\"font-size: 0.8em; font-weight: bold; line-height: 1; border-radius: 0.35em; vertical-align: middle; margin-left: 0.5rem\">time</span>\n",
       "</mark>\n",
       ". </div></span>"
      ],
      "text/plain": [
       "<IPython.core.display.HTML object>"
      ]
     },
     "metadata": {},
     "output_type": "display_data"
    },
    {
     "name": "stderr",
     "output_type": "stream",
     "text": [
      "2024-12-07 22:26:53.524 Thread 'MainThread': missing ScriptRunContext! This warning can be ignored when running in bare mode.\n",
      "2024-12-07 22:26:53.525 Thread 'MainThread': missing ScriptRunContext! This warning can be ignored when running in bare mode.\n",
      "2024-12-07 22:26:53.525 Thread 'MainThread': missing ScriptRunContext! This warning can be ignored when running in bare mode.\n",
      "2024-12-07 22:26:53.526 Thread 'MainThread': missing ScriptRunContext! This warning can be ignored when running in bare mode.\n",
      "2024-12-07 22:26:53.526 Thread 'MainThread': missing ScriptRunContext! This warning can be ignored when running in bare mode.\n",
      "2024-12-07 22:26:53.527 Thread 'MainThread': missing ScriptRunContext! This warning can be ignored when running in bare mode.\n",
      "2024-12-07 22:26:53.527 Thread 'MainThread': missing ScriptRunContext! This warning can be ignored when running in bare mode.\n",
      "2024-12-07 22:26:53.528 Thread 'MainThread': missing ScriptRunContext! This warning can be ignored when running in bare mode.\n"
     ]
    },
    {
     "name": "stdout",
     "output_type": "stream",
     "text": [
      "Tam, gdzie sklep spożywczy mama i pop może uniknąć błędnego etykietowania tylko dlatego, że USDA/FDA może nie sprawdzić, czy nie jest to możliwe, myślę, że możemy być całkiem pewni, że Walmart i inne główne sieci są często sprawdzane Aby uzyskać informacje o tym, co oznacza etykieta „„organiczna””, zajrzyj tutaj: http://www.usda.gov/wps/portal/usda/usdahome?navid=ORGANIC_CERTIFICATIO”\n"
     ]
    },
    {
     "data": {
      "text/html": [
       "<span class=\"tex2jax_ignore\"><div class=\"entities\" style=\"line-height: 2.5; direction: ltr\">Tam, gdzie sklep spożywczy mama i pop może uniknąć błędnego etykietowania tylko dlatego, że \n",
       "<mark class=\"entity\" style=\"background: lightblue; padding: 0.45em 0.6em; margin: 0 0.25em; line-height: 1; border-radius: 0.35em;\">\n",
       "    USDA\n",
       "    <span style=\"font-size: 0.8em; font-weight: bold; line-height: 1; border-radius: 0.35em; vertical-align: middle; margin-left: 0.5rem\">orgName</span>\n",
       "</mark>\n",
       "/\n",
       "<mark class=\"entity\" style=\"background: lightblue; padding: 0.45em 0.6em; margin: 0 0.25em; line-height: 1; border-radius: 0.35em;\">\n",
       "    FDA\n",
       "    <span style=\"font-size: 0.8em; font-weight: bold; line-height: 1; border-radius: 0.35em; vertical-align: middle; margin-left: 0.5rem\">orgName</span>\n",
       "</mark>\n",
       " może nie sprawdzić, czy nie jest to możliwe, myślę, że możemy być całkiem pewni, że \n",
       "<mark class=\"entity\" style=\"background: green; padding: 0.45em 0.6em; margin: 0 0.25em; line-height: 1; border-radius: 0.35em;\">\n",
       "    Walmart\n",
       "    <span style=\"font-size: 0.8em; font-weight: bold; line-height: 1; border-radius: 0.35em; vertical-align: middle; margin-left: 0.5rem\">persName</span>\n",
       "</mark>\n",
       " i inne główne sieci są często sprawdzane Aby uzyskać informacje o tym, co oznacza etykieta „„organiczna””, zajrzyj tutaj: http://www.usda.gov/wps/portal/usda/usdahome?navid=ORGANIC_CERTIFICATIO”</div></span>"
      ],
      "text/plain": [
       "<IPython.core.display.HTML object>"
      ]
     },
     "metadata": {},
     "output_type": "display_data"
    },
    {
     "name": "stderr",
     "output_type": "stream",
     "text": [
      "2024-12-07 22:26:53.533 Thread 'MainThread': missing ScriptRunContext! This warning can be ignored when running in bare mode.\n",
      "2024-12-07 22:26:53.533 Thread 'MainThread': missing ScriptRunContext! This warning can be ignored when running in bare mode.\n",
      "2024-12-07 22:26:53.534 Thread 'MainThread': missing ScriptRunContext! This warning can be ignored when running in bare mode.\n",
      "2024-12-07 22:26:53.534 Thread 'MainThread': missing ScriptRunContext! This warning can be ignored when running in bare mode.\n",
      "2024-12-07 22:26:53.534 Thread 'MainThread': missing ScriptRunContext! This warning can be ignored when running in bare mode.\n",
      "2024-12-07 22:26:53.535 Thread 'MainThread': missing ScriptRunContext! This warning can be ignored when running in bare mode.\n",
      "2024-12-07 22:26:53.535 Thread 'MainThread': missing ScriptRunContext! This warning can be ignored when running in bare mode.\n",
      "2024-12-07 22:26:53.536 Thread 'MainThread': missing ScriptRunContext! This warning can be ignored when running in bare mode.\n"
     ]
    },
    {
     "name": "stdout",
     "output_type": "stream",
     "text": [
      "> W rzeczywistości wierzysz również, że „Rosjanie!” są odpowiedzialni za Trumpa, oprócz wszystkich okropnych rzeczy, w które wierzysz w Trumpa.\n"
     ]
    },
    {
     "data": {
      "text/html": [
       "<span class=\"tex2jax_ignore\"><div class=\"entities\" style=\"line-height: 2.5; direction: ltr\">&gt; W rzeczywistości wierzysz również, że „\n",
       "<mark class=\"entity\" style=\"background: darkyellow; padding: 0.45em 0.6em; margin: 0 0.25em; line-height: 1; border-radius: 0.35em;\">\n",
       "    Rosjanie\n",
       "    <span style=\"font-size: 0.8em; font-weight: bold; line-height: 1; border-radius: 0.35em; vertical-align: middle; margin-left: 0.5rem\">placeName</span>\n",
       "</mark>\n",
       "!” są odpowiedzialni za \n",
       "<mark class=\"entity\" style=\"background: green; padding: 0.45em 0.6em; margin: 0 0.25em; line-height: 1; border-radius: 0.35em;\">\n",
       "    Trumpa\n",
       "    <span style=\"font-size: 0.8em; font-weight: bold; line-height: 1; border-radius: 0.35em; vertical-align: middle; margin-left: 0.5rem\">persName</span>\n",
       "</mark>\n",
       ", oprócz wszystkich okropnych rzeczy, w które wierzysz w \n",
       "<mark class=\"entity\" style=\"background: green; padding: 0.45em 0.6em; margin: 0 0.25em; line-height: 1; border-radius: 0.35em;\">\n",
       "    Trumpa\n",
       "    <span style=\"font-size: 0.8em; font-weight: bold; line-height: 1; border-radius: 0.35em; vertical-align: middle; margin-left: 0.5rem\">persName</span>\n",
       "</mark>\n",
       ". </div></span>"
      ],
      "text/plain": [
       "<IPython.core.display.HTML object>"
      ]
     },
     "metadata": {},
     "output_type": "display_data"
    }
   ],
   "source": [
    "import spacy_streamlit\n",
    "import warnings\n",
    "\n",
    "models = [\"pl_core_news_md\"]\n",
    "visualizers = [\"ner\"]\n",
    "\n",
    "for sentence in sentences:\n",
    "    print(sentence)\n",
    "    try:\n",
    "        with warnings.catch_warnings(action=\"ignore\"):\n",
    "            spacy_streamlit.visualize_ner(sentence, labels=nlp.get_pipe(\"ner\").labels, \n",
    "                                            colors={\"orgName\": \"lightblue\", \n",
    "                                                    \"persName\": \"green\", \n",
    "                                                    \"placeName\": \"darkyellow\", \n",
    "                                                    \"geogName\": \"red\", \n",
    "                                                    \"date\": \"brown\", \n",
    "                                                    \"time\": \"purple\"})\n",
    "    except:\n",
    "        pass"
   ]
  },
  {
   "cell_type": "markdown",
   "metadata": {},
   "source": [
    "Answer the following questions (2 points):\n",
    "\n",
    "1. Which of the method (counting expressions with capital letters vs. NER) worked better for the task concerned with\n",
    "  identification of the proper names?\\\n",
    "  **Second method seems to have better outcome.\\\n",
    "    NER seeks also names starting with lower case letter and strives to find genuine names and important expressions. At the end it has better\\ \n",
    "    results comparing to first method.**\n",
    "2. What are the drawbacks of the method based on capital letters?\\\n",
    "  **First method is looking for every expression with capital letter, so sometimes it returns also basic words like \"Twój\", \"Ciebie\" or letter 'K'.\\\n",
    "      Probably there were also mistake where \"Rozszerzone\" was taken as an entity name.**\n",
    "3. What are the drawbacks of the method based on NER?\\\n",
    "  **Returned basic number like '65' as time.\\\n",
    "    For type placeName, NER classified 'amerykański' as a place, but this is adjective that describes other item.\\\n",
    "    For type persName, NER classified 'Amazon' as a person, but it is a company.**\n",
    "4. Which of the coarse-grained NER groups has the best and which has the worst results? Try to justify this\n",
    "  observation.\\\n",
    "  **The best results are for orgName. NER returns real correct organization names.\\\n",
    "    The worst seems to have persName type, because the names sometimes are not people.**\n",
    "5. Do you think NER is sufficient for identifying different occurrences of the same entity (i.e. consider \"USA\" and\\\n",
    "  \"Stany Zjednoczone\" and \"Stany Zjednoczone Ameryki Północnej\")? If not, can you suggest an algorithm or a tool that\\\n",
    "  would be able to group such names together?\\\n",
    "  **I don't think for NER 'USA' is the same as \"Stany Zjednoczone\". NER only can recognize it as an genuine name of entity, but it will be difficult for him to find connection between them.\\\n",
    "     Probably tool like Entity Linker with good knowledge base should work better or there have to be employed an elasticsearch with synonyms included.**\n",
    "6. Can you think of a real world problem that would benefit the most from application of Named Entity Recognition\n",
    "  algorithm?\\\n",
    "  **I believe finance domain where people deal with abundance of documents and have to scan articles or web pages for meaningful data like: prices, values, indicators, legal terms\\\n",
    "    famous changes on the market or transactions can benefit the most. NER is specialized for seeking such names and figures and can improve people's work.**"
   ]
  }
 ],
 "metadata": {
  "kernelspec": {
   "display_name": "jup-env",
   "language": "python",
   "name": "python3"
  },
  "language_info": {
   "codemirror_mode": {
    "name": "ipython",
    "version": 3
   },
   "file_extension": ".py",
   "mimetype": "text/x-python",
   "name": "python",
   "nbconvert_exporter": "python",
   "pygments_lexer": "ipython3",
   "version": "3.11.7"
  }
 },
 "nbformat": 4,
 "nbformat_minor": 2
}
