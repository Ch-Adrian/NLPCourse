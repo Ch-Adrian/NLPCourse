{
 "cells": [
  {
   "cell_type": "markdown",
   "metadata": {},
   "source": [
    "# Contextual question answering"
   ]
  },
  {
   "cell_type": "markdown",
   "metadata": {},
   "source": [
    "## Objectives (8 points)"
   ]
  },
  {
   "cell_type": "markdown",
   "metadata": {},
   "source": [
    "1. Get acquainted with the [Simple legal questions dataset](https://github.com/apohllo/simple-legal-questions-pl) (you need to send your github login to gain access to the dataset)."
   ]
  },
  {
   "cell_type": "markdown",
   "metadata": {},
   "source": [
    "3. The legal questions dataset is your **test dataset**."
   ]
  },
  {
   "cell_type": "code",
   "execution_count": 2,
   "metadata": {},
   "outputs": [],
   "source": [
    "import pandas as pd\n",
    "\n",
    "legal_dataset = pd.read_csv('./simple-legal-questions-pl-main/combined.csv')"
   ]
  },
  {
   "cell_type": "code",
   "execution_count": 3,
   "metadata": {},
   "outputs": [
    {
     "name": "stdout",
     "output_type": "stream",
     "text": [
      "         passage_id                                           question  \\\n",
      "0  1997_553_345.txt  Czy żołnierz, który dopuszcza się czynnej napa...   \n",
      "1   2004_177_21.txt         Z ilu osób składa się komisja przetargowa?   \n",
      "2  1996_465_111.txt  Do jakiej wysokości za zobowiązania spółki odp...   \n",
      "3   1994_591_35.txt  Kiedy ustala się wartość majątku obrotowego, k...   \n",
      "4  2001_1441_74.txt  Jakiej karze podlega armator, który wykonuje r...   \n",
      "\n",
      "                                             passage  has_answer  year  \\\n",
      "0  Art. 345. § 1. Żołnierz, który dopuszcza sie...        True  1997   \n",
      "1  Art. 21. 1. Członków komisji przetargowej pow...        True  2004   \n",
      "2  Art. 111. Komandytariusz odpowiada za zobowią...        True  1996   \n",
      "3  Art. 35. 1. Wartość rzeczowych składników m...        True  1994   \n",
      "4  Art. 74. 1. Armator, który wykonuje rybołóws...        True  2001   \n",
      "\n",
      "   position  art  \n",
      "0       553  345  \n",
      "1       177   21  \n",
      "2       465  111  \n",
      "3       591   35  \n",
      "4      1441   74  \n"
     ]
    }
   ],
   "source": [
    "print(legal_dataset.head())"
   ]
  },
  {
   "cell_type": "markdown",
   "metadata": {},
   "source": [
    "4. [PoQuAD](https://huggingface.co/datasets/clarin-pl/poquad) is your **train and validation dataset** (use the splits from the repo)."
   ]
  },
  {
   "cell_type": "code",
   "execution_count": 5,
   "metadata": {},
   "outputs": [
    {
     "name": "stderr",
     "output_type": "stream",
     "text": [
      "/home/adrian/dev/nlp/.venv/lib64/python3.10/site-packages/tqdm/auto.py:21: TqdmWarning: IProgress not found. Please update jupyter and ipywidgets. See https://ipywidgets.readthedocs.io/en/stable/user_install.html\n",
      "  from .autonotebook import tqdm as notebook_tqdm\n"
     ]
    }
   ],
   "source": [
    "from datasets import load_dataset\n",
    "import pandas as pd\n",
    "import json\n",
    "\n",
    "with open('poquad-train.json', 'r') as file:\n",
    "    poquad_train = json.load(file)\n",
    "\n",
    "with open('poquad-dev.json', 'r') as file:\n",
    "    poquad_dev = json.load(file)\n",
    "\n",
    "test_set = pd.read_csv(\"./simple-legal-questions-pl-main/combined.csv\")"
   ]
  },
  {
   "cell_type": "code",
   "execution_count": 6,
   "metadata": {},
   "outputs": [
    {
     "name": "stdout",
     "output_type": "stream",
     "text": [
      "{'id': 7609, 'title': 'Konfederacja polsko-czechosłowacka', 'summary': 'Konfederacja polsko-czechosłowacka – koncepcja polityczna z okresu II wojny światowej propagowana przez Rząd RP na uchodźstwie. Idea ta, wspierana przez rząd Wielkiej Brytanii, nawiązywała do przedwojennych planów ustanowienia bloku państw „Międzymorza”. Początkowo częściami składowymi konfederacji miały być Polska, Czechosłowacja i Węgry.\\nW okresie II wojny światowej rządy niektórych państw europejskich na uchodźstwie dokonywały prób jednoczenia się w związki, które miały dać im w przyszłości gwarancję bezpieczeństwa, trwałości politycznej i gospodarczej. Odżywały koncepcje federacyjne z lat 20. i 30. XX w., które w nowych warunkach miały szansę realizacji. Wiele projektów federalistycznych można odnaleźć w programach polskich stronnictw politycznych w okresie II wojny światowej. Takie próby były dokonywane przez Polskę, Czechosłowację, Grecję i Jugosławię. Projekt federacji (konfederacji) polsko-czechosłowackiej był wstępem do odbudowy mocarstwowości i znaczenia Polski w Europie Środkowo-Wschodniej. Według opinii historyków układ polsko-czechosłowacki nie miał szans powodzenia. Wynikało to m.in. z antypolskiej i proradzieckiej polityki, którą prowadzili politycy czechosłowaccy oraz z tego, że od 1943 o losach świata decydowała tzw. „wielka trójka”: J. Stalin, W. Churchill i F. D. Roosevelt. Politycy ci nie chcieli jeszcze jednego uzurpatora praw do terenów europejskich, za jakiego uważano gen. Wł. Sikorskiego.', 'url': 'https://pl.wikipedia.org/wiki/Konfederacja_polsko-czechosłowacka', 'paragraphs': [{'context': 'Projekty konfederacji zaczęły się załamywać 5 sierpnia 1942. Ponownie wróciła kwestia monachijska, co uaktywniło się wymianą listów Ripka – Stroński. Natomiast 17 sierpnia 1942 doszło do spotkania E. Beneša i J. Masaryka z jednej a Wł. Sikorskiego i E. Raczyńskiego z drugiej strony. Polscy dyplomaci zaproponowali podpisanie układu konfederacyjnego. W następnym miesiącu, tj. 24 września, strona polska przesłała na ręce J. Masaryka projekt deklaracji o przyszłej konfederacji obu państw. Strona czechosłowacka projekt przyjęła, lecz już w listopadzie 1942 E. Beneš podważył ideę konfederacji. W zamian zaproponowano zawarcie układu sojuszniczego z Polską na 20 lat (formalnie nastąpiło to 20 listopada 1942).', 'qas': [{'question': 'Co było powodem powrócenia konceptu porozumieniu monachijskiego?', 'answers': [{'text': 'wymianą listów Ripka – Stroński', 'answer_start': 117, 'answer_end': 148, 'generative_answer': 'wymiana listów Ripka – Stroński'}], 'is_impossible': False}, {'question': 'Pomiędzy jakimi stronami odbyło się zgromadzenie w sierpniu 1942 roku?', 'answers': [{'text': 'E. Beneša i J. Masaryka z jednej a Wł. Sikorskiego i E. Raczyńskiego', 'answer_start': 197, 'answer_end': 265, 'generative_answer': 'E. Beneš i J. Masaryk a Wł. Sikorski i E. Raczyński'}], 'is_impossible': False}, {'question': 'O co ubiegali się polscy przedstawiciele podczas spotkania z sierpnia 1942 roku?', 'answers': [{'text': 'podpisanie układu konfederacyjnego', 'answer_start': 315, 'answer_end': 349, 'generative_answer': 'podpisanie układu konfederacyjnego'}], 'is_impossible': False}, {'question': \"Który z dyplomatów sprzeciwił się konceptowi konfederacji w listopadzie '42?\", 'answers': [{'text': 'E. Beneš', 'answer_start': 558, 'answer_end': 566, 'generative_answer': 'E. Beneš'}], 'is_impossible': False}, {'question': 'Kiedy oficjalnie doszło do zawarcia porozumienia?', 'answers': [{'text': '20 listopada 1942', 'answer_start': 691, 'answer_end': 708, 'generative_answer': '20 listopada 1942'}], 'is_impossible': False}]}]}\n"
     ]
    }
   ],
   "source": [
    "print(poquad_train['data'][0])"
   ]
  },
  {
   "cell_type": "code",
   "execution_count": 7,
   "metadata": {},
   "outputs": [
    {
     "name": "stdout",
     "output_type": "stream",
     "text": [
      "kompilacją poglądów różnych rabinów na określony temat\n"
     ]
    }
   ],
   "source": [
    "print(poquad_dev['data'][0]['paragraphs'][0]['qas'][0]['answers'][0]['generative_answer'])"
   ]
  },
  {
   "cell_type": "code",
   "execution_count": 8,
   "metadata": {},
   "outputs": [
    {
     "name": "stdout",
     "output_type": "stream",
     "text": [
      "         passage_id                                           question  \\\n",
      "0  1997_553_345.txt  Czy żołnierz, który dopuszcza się czynnej napa...   \n",
      "1   2004_177_21.txt         Z ilu osób składa się komisja przetargowa?   \n",
      "2  1996_465_111.txt  Do jakiej wysokości za zobowiązania spółki odp...   \n",
      "3   1994_591_35.txt  Kiedy ustala się wartość majątku obrotowego, k...   \n",
      "4  2001_1441_74.txt  Jakiej karze podlega armator, który wykonuje r...   \n",
      "\n",
      "                                             passage  has_answer  year  \\\n",
      "0  Art. 345. § 1. Żołnierz, który dopuszcza sie...        True  1997   \n",
      "1  Art. 21. 1. Członków komisji przetargowej pow...        True  2004   \n",
      "2  Art. 111. Komandytariusz odpowiada za zobowią...        True  1996   \n",
      "3  Art. 35. 1. Wartość rzeczowych składników m...        True  1994   \n",
      "4  Art. 74. 1. Armator, który wykonuje rybołóws...        True  2001   \n",
      "\n",
      "   position  art  \n",
      "0       553  345  \n",
      "1       177   21  \n",
      "2       465  111  \n",
      "3       591   35  \n",
      "4      1441   74  \n"
     ]
    }
   ],
   "source": [
    "print(test_set.head())"
   ]
  },
  {
   "cell_type": "markdown",
   "metadata": {},
   "source": [
    "5. **Warning** PoQuAD has a python API compatible with the `datasets` library, but it only provides the **extractive answers**, even\n",
    "   though the abstractive answers are available in the JSON files. So you have to read the JSON files directly."
   ]
  },
  {
   "cell_type": "markdown",
   "metadata": {},
   "source": [
    "7. Train a neural model able to answer the legal questions. Make sure you are using a machine\n",
    "   with a GPU, since training the model on CPU will be very long. \n",
    "   The training should include at least 3 epochs (depending on the size of the training set you are using). \n",
    "   As the pre-trained models you can use (or any other model that is able to perform abstractive Question Answering):\n",
    "   * [plT5-base](https://huggingface.co/allegro/plt5-base)\n",
    "   * [plT5-large](https://huggingface.co/allegro/plt5-large)"
   ]
  },
  {
   "cell_type": "code",
   "execution_count": 9,
   "metadata": {},
   "outputs": [],
   "source": [
    "from transformers import TrainingArguments, AutoModelForSeq2SeqLM, AutoTokenizer, Trainer\n",
    "import numpy as np\n",
    "import random\n",
    "from tqdm import tqdm"
   ]
  },
  {
   "cell_type": "code",
   "execution_count": 97,
   "metadata": {},
   "outputs": [],
   "source": [
    "model_name = \"allegro/plt5-base\"\n",
    "pl_tokenizer = AutoTokenizer.from_pretrained(model_name)\n",
    "model = AutoModelForSeq2SeqLM.from_pretrained(model_name)"
   ]
  },
  {
   "cell_type": "code",
   "execution_count": 166,
   "metadata": {},
   "outputs": [],
   "source": [
    "def tokenize_function(example):\n",
    "    return pl_tokenizer(example, return_tensors=\"pt\", padding=True, truncation=True, max_length=1000)['input_ids'].squeeze()\n",
    "\n",
    "def tokenize_example(example):\n",
    "    input = pl_tokenizer(example['text'], return_tensors=\"pt\", padding=True, truncation=True, max_length=1000)\n",
    "\n",
    "    with pl_tokenizer.as_target_tokenizer():\n",
    "        target = pl_tokenizer(example['label'], return_tensors=\"pt\", padding=True, truncation=True, max_length=1000)\n",
    "\n",
    "    return {'input_ids': input['input_ids'].squeeze(), 'label': target['input_ids'].squeeze()}\n",
    "\n",
    "def prepare_data(json_poquad):\n",
    "    prepared_data = []\n",
    "    for data in tqdm(json_poquad['data']):\n",
    "        for paragraph in data['paragraphs']:\n",
    "            context = paragraph['context']\n",
    "            for qas in paragraph['qas']:\n",
    "                question = qas['question']\n",
    "                ans_keys = ['answers', 'plausible_answers']\n",
    "                for key in ans_keys:\n",
    "                    if key in qas:\n",
    "                        for answer in qas[key]:\n",
    "                            generative_answer = answer['generative_answer']\n",
    "                            prepared_data.append({\"text\": f\"question: {question} context: {context}\", \"label\": generative_answer})\n",
    "    return prepared_data\n"
   ]
  },
  {
   "cell_type": "code",
   "execution_count": 167,
   "metadata": {},
   "outputs": [
    {
     "name": "stderr",
     "output_type": "stream",
     "text": [
      "100%|██████████| 8553/8553 [00:00<00:00, 78008.41it/s]\n",
      "100%|██████████| 1402/1402 [00:00<00:00, 117439.17it/s]\n"
     ]
    }
   ],
   "source": [
    "from datasets import Dataset\n",
    "\n",
    "ds_train = Dataset.from_list(prepare_data(poquad_train))\n",
    "ds_test = Dataset.from_list(prepare_data(poquad_dev))"
   ]
  },
  {
   "cell_type": "code",
   "execution_count": 168,
   "metadata": {},
   "outputs": [
    {
     "name": "stderr",
     "output_type": "stream",
     "text": [
      "Map:   0%|          | 0/56618 [00:00<?, ? examples/s]"
     ]
    },
    {
     "name": "stderr",
     "output_type": "stream",
     "text": [
      "Map: 100%|██████████| 56618/56618 [00:33<00:00, 1696.47 examples/s]\n"
     ]
    }
   ],
   "source": [
    "ds_train = ds_train.map(tokenize_example, batched=True)"
   ]
  },
  {
   "cell_type": "code",
   "execution_count": 169,
   "metadata": {},
   "outputs": [
    {
     "name": "stderr",
     "output_type": "stream",
     "text": [
      "Map:   0%|          | 0/7060 [00:00<?, ? examples/s]"
     ]
    },
    {
     "name": "stderr",
     "output_type": "stream",
     "text": [
      "Map: 100%|██████████| 7060/7060 [00:04<00:00, 1473.57 examples/s]\n"
     ]
    }
   ],
   "source": [
    "ds_test = ds_test.map(tokenize_example, batched=True)"
   ]
  },
  {
   "cell_type": "code",
   "execution_count": 170,
   "metadata": {},
   "outputs": [
    {
     "name": "stderr",
     "output_type": "stream",
     "text": [
      "100%|██████████| 8553/8553 [00:00<00:00, 99352.44it/s]\n",
      "100%|██████████| 1402/1402 [00:00<00:00, 107889.59it/s]"
     ]
    },
    {
     "name": "stdout",
     "output_type": "stream",
     "text": [
      "56618 7060\n"
     ]
    },
    {
     "name": "stderr",
     "output_type": "stream",
     "text": [
      "\n"
     ]
    }
   ],
   "source": [
    "df_train = prepare_data(poquad_train)\n",
    "df_test = prepare_data(poquad_dev)\n",
    "print(len(df_train), len(df_test))"
   ]
  },
  {
   "cell_type": "markdown",
   "metadata": {},
   "source": [
    "8. If you have problems training the model, you can use [apohllo/plt5-base-poquad](https://huggingface.co/apohllo/plt5-base-poquad) which was trained on PoQuAD. **This will result in  subtraction of 2 points**. "
   ]
  },
  {
   "cell_type": "code",
   "execution_count": 10,
   "metadata": {},
   "outputs": [],
   "source": [
    "from transformers import AutoTokenizer, AutoModelForSeq2SeqLM\n",
    "\n",
    "tokenizer = AutoTokenizer.from_pretrained(\"apohllo/plt5-base-poquad\")\n",
    "model = AutoModelForSeq2SeqLM.from_pretrained(\"apohllo/plt5-base-poquad\")"
   ]
  },
  {
   "cell_type": "code",
   "execution_count": 43,
   "metadata": {},
   "outputs": [],
   "source": [
    "manual_answers_improved= [\n",
    "    'Żołnierz, który dopuszcza się czynnej napaści na przełożonego, podlega karze aresztu wojskowego albo pozbawienia wolności do lat 3.',\n",
    "    'z co najmniej trzech osób',\n",
    "    'do wysokości sumy komandytowej',\n",
    "    'nie później niż na dzień bilansowy',\n",
    "    'pieniężnej do wysokości 1 000 000 złotych',\n",
    "    'organizacji międzynarodowych, przedstawicielstw dyplomatycznych, urzędów konsularnych oraz członków personelu tych przedstawicielstw i urzędów, a także innych osób zrównanych z nimi na podstawie ustaw, umów lub zwyczajów międzynarodowych, jeżeli nie są obywatelami polskimi i nie mają stałego miejsca pobytu na terytorium kraju. ',\n",
    "    'są obowiązani przedstawić się',\n",
    "    'jeden',\n",
    "    'Wykonując czynności operacyjno-rozpoznawcze, żołnierze Żandarmerii Wojskowej mogą posługiwać się dokumentami, które uniemożliwiają ustalenie danych pozwalających na identyfikację oraz środków, którymi posługują się, wykonując te czynności.',\n",
    "    'W celu znalezienia i zatrzymania przedmiotów podlegających oględzinom lub mogących stanowić dowód rzeczowy',\n",
    "    'na warunkach uzgodnionych w umowie',\n",
    "    'Karze pieniężnej',\n",
    "    '1) wicewojewodowie, 2) dyrektor generalny urzędu wojewódzkiego, 3) komendant wojewódzki Policji, 4) komendant wojewódzki Państwowej Straży Pożarnej, 5) inne osoby wymienione w statucie urzędu wojewódzkiego.',\n",
    "    'Poręczenia są terminowe',\n",
    "    'Funkcjonariusz podlega corocznemu opiniowaniu służbowemu'\n",
    "]"
   ]
  },
  {
   "cell_type": "code",
   "execution_count": 48,
   "metadata": {},
   "outputs": [],
   "source": [
    "tokenized_legal_questions = []\n",
    "idx = 0\n",
    "for id, row in legal_dataset.iterrows():\n",
    "    tokenized_legal_questions.append([tokenizer(f\"question: {row['question']} context: {row['passage']}\", return_tensors=\"pt\", padding=True, truncation=True, max_length=512), row['question'], manual_answers_improved[idx]])\n",
    "    idx += 1\n",
    "    if idx == 15: break\n"
   ]
  },
  {
   "cell_type": "code",
   "execution_count": 27,
   "metadata": {},
   "outputs": [
    {
     "name": "stdout",
     "output_type": "stream",
     "text": [
      "[{'input_ids': tensor([[  277, 18616,  4767,   291,   863,  8390,   261,   345, 11748,   271,\n",
      "         26942, 37351,   266,   418, 10000,   323,  8479, 21534,  5493,   267,\n",
      "          3543,   373, 12634, 22091,   399,   291,  3470,   259,   361,  1177,\n",
      "           259, 32556,   959, 17124,   261,   345, 11748,   271, 26942, 37351,\n",
      "           266,   418, 10000,   323,   261,  8479, 21534, 12647, 10817,  1263,\n",
      "          5493,   267,  3543,   272,   346,  1193, 32556,  1161,  2237, 11627,\n",
      "         11748,   271, 26942, 37351,   260,  1019,   265,  2062,  2523,   299,\n",
      "           418, 10000,   323,  7947, 27133,  1263,  1746,   265,   877,  8390,\n",
      "           320,   372,   260,  6267, 18438,  2186,   261,  8479, 21534,  5493,\n",
      "           267,  3543,   289,   423,  1389,   272,   346,  2846, 32556,  1193,\n",
      "          2237, 11627, 25583, 27697,   260, 32556,   333,   372,   334,  5137,\n",
      "          2629,   261,  3151,  2789,   372,  2712,  2155, 11033,   323, 22210,\n",
      "           261,  8479, 21534,  5493,   267,  3543,   289,   281,   272,   346,\n",
      "          3522, 32556,  1695,  1308,   598, 24298,   304,   260, 32556,   361,\n",
      "          8479, 11627, 25583, 27697,   260, 32556,   333,   372,  1505,  3516,\n",
      "           341, 18602,   288,   285,  4441, 17490,   260,  3611,   259, 26612,\n",
      "           372,   333,  1569, 32556,   959,     1]]), 'attention_mask': tensor([[1, 1, 1, 1, 1, 1, 1, 1, 1, 1, 1, 1, 1, 1, 1, 1, 1, 1, 1, 1, 1, 1, 1, 1,\n",
      "         1, 1, 1, 1, 1, 1, 1, 1, 1, 1, 1, 1, 1, 1, 1, 1, 1, 1, 1, 1, 1, 1, 1, 1,\n",
      "         1, 1, 1, 1, 1, 1, 1, 1, 1, 1, 1, 1, 1, 1, 1, 1, 1, 1, 1, 1, 1, 1, 1, 1,\n",
      "         1, 1, 1, 1, 1, 1, 1, 1, 1, 1, 1, 1, 1, 1, 1, 1, 1, 1, 1, 1, 1, 1, 1, 1,\n",
      "         1, 1, 1, 1, 1, 1, 1, 1, 1, 1, 1, 1, 1, 1, 1, 1, 1, 1, 1, 1, 1, 1, 1, 1,\n",
      "         1, 1, 1, 1, 1, 1, 1, 1, 1, 1, 1, 1, 1, 1, 1, 1, 1, 1, 1, 1, 1, 1, 1, 1,\n",
      "         1, 1, 1, 1, 1, 1, 1, 1, 1, 1, 1, 1, 1, 1, 1, 1, 1, 1, 1, 1, 1, 1]])}, 'Czy żołnierz, który dopuszcza się czynnej napaści na przełożonego podlega karze pozbawienia wolności?', 'Żołnierz, który dopuszcza się czynnej napaści na przełożonego, podlega karze aresztu wojskowego albo pozbawienia wolności do lat 3.']\n"
     ]
    }
   ],
   "source": [
    "print(tokenized_legal_questions[0])"
   ]
  },
  {
   "cell_type": "markdown",
   "metadata": {},
   "source": [
    "9. Report the obtained performance of the model (in the form of a table). The report should include *exact match* and *F1 score* \n",
    "   for the tokens appearing both in the reference and the predicted answer."
   ]
  },
  {
   "cell_type": "code",
   "execution_count": 28,
   "metadata": {},
   "outputs": [],
   "source": [
    "import string\n",
    "\n",
    "def simplify_text(prediction, label):\n",
    "    prediction = prediction.lower()\n",
    "    label = label.lower()\n",
    "\n",
    "    prediction = \"\".join(character for character in prediction if character not in set(string.punctuation))\n",
    "    label = \"\".join(character for character in label if character not in set(string.punctuation))\n",
    "\n",
    "    prediction = \" \".join(prediction.split())\n",
    "    label = \" \".join(label.split())\n",
    "    return prediction, label \n",
    "\n",
    "def exact_match(prediction, label):\n",
    "    prediction, label = simplify_text(prediction, label)\n",
    "    return prediction == label\n",
    "\n",
    "def f1(prediction, label):\n",
    "    prediction, label = simplify_text(prediction, label)\n",
    "    prediction = prediction.split()\n",
    "    label = label.split()\n",
    "    intersection = set(prediction).intersection(set(label))\n",
    "    \n",
    "    if len(intersection) == 0: return 0\n",
    "    \n",
    "    precision = len(intersection) / len(prediction)\n",
    "    recall = len(intersection) / len(label)\n",
    "    \n",
    "    return 2 * (precision * recall) / (precision + recall)"
   ]
  },
  {
   "cell_type": "code",
   "execution_count": 49,
   "metadata": {},
   "outputs": [
    {
     "name": "stdout",
     "output_type": "stream",
     "text": [
      "+---------------------------------------------------------------------------------------------------------------------------------+-------------+-------+\n",
      "|                                                             Question                                                            | exact_match |   f1  |\n",
      "+---------------------------------------------------------------------------------------------------------------------------------+-------------+-------+\n",
      "|              Czy żołnierz, który dopuszcza się czynnej napaści na przełożonego podlega karze pozbawienia wolności?              |    False    |   0   |\n",
      "|                                            Z ilu osób składa się komisja przetargowa?                                           |    False    | 0.333 |\n",
      "|                               Do jakiej wysokości za zobowiązania spółki odpowiada komandytariusz?                              |    False    | 0.667 |\n",
      "|                          Kiedy ustala się wartość majątku obrotowego, który stracił swoją przydatność?                          |    False    |  0.5  |\n",
      "| Jakiej karze podlega armator, który wykonuje rybołówstwo morskie w polskich obszarach morskich, z naruszeniem przepisów ustawy? |    False    | 0.571 |\n",
      "|                                      Kogo zwalnia się od akcyzy według zasady wzajemności?                                      |    False    | 0.189 |\n",
      "|                           Czy żołnierze przy wykonaniu czynności służbowej nie muszą się przedstawiać?                          |    False    |   0   |\n",
      "|                                            Ile budżetów ma miasto na prawach powiatu?                                           |     True    |  1.0  |\n",
      "|      Czy żołnierze Żandarmerii Wojskowej mogą uniemożliwiać ich identyfikację podczas wykonywania operacyjno-rozpoznawcze?      |    False    |   0   |\n",
      "|                             W jakim przypadku policja może dokonać przeszukania pomieszczeń w domu?                             |    False    | 0.074 |\n",
      "|                          Jakim warunkom powinny odpowiadać przekazywane gminie urządzenia wodociągowe?                          |    False    |  0.2  |\n",
      "|                      Jakiej karze podlega osoba, która nie stosuje się do ograniczeń w dostarczaniu paliw?                      |    False    |   0   |\n",
      "|                                        Kto wchodzi w skład kolegium doradczego wojewody?                                        |    False    | 0.421 |\n",
      "|                                        Czy poręczenia od Skarbu Państwa są bezterminowe?                                        |    False    |   0   |\n",
      "|                                 Co jaki okres funkcjonariusze podlegają opiniowaniu służbowemu?                                 |    False    |   0   |\n",
      "+---------------------------------------------------------------------------------------------------------------------------------+-------------+-------+\n"
     ]
    }
   ],
   "source": [
    "from prettytable import PrettyTable \n",
    "exact_match_outcomes = []\n",
    "f1_outcomes = []\n",
    "table_with_scores = PrettyTable(['Question', 'exact_match', 'f1'])\n",
    "\n",
    "for idx, (tokenized_question, question, label) in enumerate(tokenized_legal_questions):\n",
    "    output = model.generate(**tokenized_question)\n",
    "    prediction = tokenizer.decode(output[0], skip_special_tokens=True)\n",
    "    em_s = exact_match(prediction, label)\n",
    "    f1_s = f1(prediction, label)\n",
    "    exact_match_outcomes.append(em_s)\n",
    "    f1_outcomes.append(f1_s)\n",
    "    table_with_scores.add_row([question, em_s, round(f1_s, 3)])\n",
    "\n",
    "print(table_with_scores)"
   ]
  },
  {
   "cell_type": "markdown",
   "metadata": {},
   "source": [
    "10. Report the best results obtained on the validation dataset and the corresponding results on your test dataset. The results on the \n",
    "   test set have to be obtained for the model that yield the best result on the validation dataset."
   ]
  },
  {
   "cell_type": "code",
   "execution_count": 36,
   "metadata": {},
   "outputs": [
    {
     "name": "stderr",
     "output_type": "stream",
     "text": [
      "  0%|          | 3/1402 [00:20<2:40:13,  6.87s/it]"
     ]
    },
    {
     "name": "stdout",
     "output_type": "stream",
     "text": [
      "+--------------------------------------------------------------------------------------------------+-------------+-------+\n",
      "|                                             Question                                             | exact_match |   f1  |\n",
      "+--------------------------------------------------------------------------------------------------+-------------+-------+\n",
      "|                                    Czym są pisma rabiniczne?                                     |     True    |  1.0  |\n",
      "|                    Z ilu komponentów składała się Tora przekazana Mojżeszowi?                    |     True    |  1.0  |\n",
      "|                     W jakich formach występowała Tora przekazana Mojżeszowi?                     |    False    | 0.364 |\n",
      "|                            W jakiej formie przekazana została Miszna?                            |    False    |   0   |\n",
      "|                                        Kto napisał Torę?                                         |    False    |   0   |\n",
      "|                   Kto początkowo należał do oddziału stworzonego przez Emilię?                   |     True    |  1.0  |\n",
      "|                        Kiedy Plater wraz z oddziałem dotarła do Dusiatów?                        |     True    |  1.0  |\n",
      "|                        Kiedy oddziały Plater pokonały kolumnę Schirmana?                         |     True    |  1.0  |\n",
      "|                                   Czy Emilia podbiła Dyneburg?                                   |    False    |   0   |\n",
      "|                      Gdzie zginęła większość walczących w oddziale Plater?                       |    False    |   0   |\n",
      "|                      Z jakiego powodu żona Petera przeszła na anglikanizm?                       |    False    | 0.615 |\n",
      "|                               W jakim miejscu odbył się ślub pary?                               |     True    |  1.0  |\n",
      "|                         Jaki dziennik opublikował relację ze ślubu pary?                         |     True    |  1.0  |\n",
      "|           Czy Middleton pojawiła się na uroczystości w towarzystwie swojego partnera?            |    False    |   0   |\n",
      "| Wynagrodzenie w jakiej wysokości otrzymała para za zezwolenie na opublikowanie relacji ze ślubu? |     True    |  1.0  |\n",
      "|                       Dlaczego w zapusty ludzie spożywali więcej jedzenia?                       |    False    | 0.933 |\n",
      "|                             Jakie dania jedzono w czasie karnawału?                              |    False    |   0   |\n",
      "|                          Czy w zapusty dozwolone było spożywanie mięsa?                          |    False    |   0   |\n",
      "|                  Co oprócz placków ziemniaczanych smażono w czasie karnawału?                    |     True    |  1.0  |\n",
      "|                 Jakie danie na zapusty było najpopularniejsze w bogatych domach?                 |     True    |  1.0  |\n",
      "+--------------------------------------------------------------------------------------------------+-------------+-------+\n"
     ]
    },
    {
     "name": "stderr",
     "output_type": "stream",
     "text": [
      "\n"
     ]
    }
   ],
   "source": [
    "table_with_scores_poquad = PrettyTable(['Question', 'exact_match', 'f1'])\n",
    "cnt = 0\n",
    "maxi = 15\n",
    "for data in tqdm(poquad_dev['data']):\n",
    "    for paragraph in data['paragraphs']:\n",
    "        context = paragraph['context']\n",
    "        for qas in paragraph['qas']:\n",
    "            question = qas['question']\n",
    "            ans_keys = ['answers', 'plausible_answers']\n",
    "            for key in ans_keys:\n",
    "                if key in qas:\n",
    "                    for answer in qas[key]:\n",
    "                        label = answer['generative_answer']\n",
    "\n",
    "                        tokenized_question = tokenizer(f\"question: {question} context: {context}\", return_tensors=\"pt\", padding=True, truncation=True, max_length=512)\n",
    "                        output = model.generate(**tokenized_question)\n",
    "                        prediction = tokenizer.decode(output[0], skip_special_tokens=True)\n",
    "                        \n",
    "                        em_s = exact_match(prediction, label)\n",
    "                        f1_s = f1(prediction, label)\n",
    "                        exact_match_outcomes.append(em_s)\n",
    "                        f1_outcomes.append(f1_s)\n",
    "                        cnt += 1\n",
    "                        table_with_scores_poquad.add_row([question, em_s, round(f1_s, 3)])\n",
    "                        if cnt == maxi: break\n",
    "                if cnt == maxi: break\n",
    "            if cnt == maxi: break\n",
    "        if cnt == maxi: break\n",
    "    if cnt == maxi: break\n",
    "\n",
    "print(table_with_scores_poquad)"
   ]
  },
  {
   "cell_type": "markdown",
   "metadata": {},
   "source": [
    "11. Generate, report and analyze the answers for at least 10 questions provided by the best model on you test dataset."
   ]
  },
  {
   "cell_type": "code",
   "execution_count": 54,
   "metadata": {},
   "outputs": [
    {
     "name": "stdout",
     "output_type": "stream",
     "text": [
      "Question: Jakiej karze podlega armator, który wykonuje rybołówstwo morskie w polskich obszarach morskich, z naruszeniem przepisów ustawy?\n",
      "Answer: karze pieniężnej do wysokości 1 000 000 złotych\n",
      "Generated answer: pieniężnej do wysokości 1 000 000 złotych\n",
      "Exact match score: False\n",
      "F1 score: 0.5333333333333333\n",
      "============================================================================================================================================\n",
      "Question: W jakim przypadku policja może dokonać przeszukania pomieszczeń w domu?\n",
      "Answer: W celu znalezienia i zatrzymania przedmiotów podlegających oględzinom lub mogących stanowić dowód rzeczowy\n",
      "Generated answer: jeżeli istnieją uzasadnione podstawy do przypuszczenia, że przedmioty te lub dowody tam się znajdują\n",
      "Exact match score: False\n",
      "F1 score: 0.07407407407407408\n",
      "============================================================================================================================================\n",
      "Question: Co jaki okres funkcjonariusze podlegają opiniowaniu służbowemu?\n",
      "Answer: Funkcjonariusz podlega corocznemu opiniowaniu służbowemu\n",
      "Generated answer: coroczny\n",
      "Exact match score: False\n",
      "F1 score: 0\n",
      "============================================================================================================================================\n",
      "Question: Czym jest budżet państwa?\n",
      "Answer: Budżet państwa jest rocznym planem dochodów i wydatków oraz przychodów i rozchodów\n",
      "Generated answer: rocznym planem dochodów i wydatków oraz przychodów i rozchodów: 1) organów: władzy państwowej,\n",
      "Exact match score: False\n",
      "F1 score: 0.32\n",
      "============================================================================================================================================\n",
      "Question: Do jakich przestępstw nie ma zastosowania część ogólna Kodeksu Karnego?\n",
      "Answer: Do przestępstw skarbowych nie mają zastosowania przepisy części ogólnej Kodeksu karnego\n",
      "Generated answer: skarbowych\n",
      "Exact match score: False\n",
      "F1 score: 0.16666666666666669\n",
      "============================================================================================================================================\n",
      "Question: Na jakiej wartości akcje dzieli się kapitał spółki akcyjnej?\n",
      "Answer: na akcje o równej wartości nominalnej\n",
      "Generated answer: równej wartości nominalnej\n",
      "Exact match score: False\n",
      "F1 score: 0.2222222222222222\n",
      "============================================================================================================================================\n",
      "Question: Jakie obowiązki ma pracownik nadzorujący czynności kontrolne?\n",
      "Answer: Kontroler jest obowiązany zachować w tajemnicy informacje, które uzyskał w związku z wykonywaniem czynności służbowych\n",
      "Generated answer: zachowanie w tajemnicy informacji, które uzyskał w związku z wykonywaniem czynności służbowych\n",
      "Exact match score: False\n",
      "F1 score: 0.3703703703703704\n",
      "============================================================================================================================================\n",
      "Question: W jakim przypadku policja może dokonać przeszukania pomieszczeń w domu?\n",
      "Answer: na polecenie sądu lub prokuratora Policja\n",
      "Generated answer: w wypadkach wskazanych w ustawie\n",
      "Exact match score: False\n",
      "F1 score: 0\n",
      "============================================================================================================================================\n",
      "Question: Co zawiera rejestr grup?\n",
      "Answer: 2. Rejestr grup zawiera: 1) nazwę i siedzibę grupy, 2) datę wydania decyzji administracyjnej, o której mowa w art. 7 ust. 1, 3) nazwę produktu lub grupy produktów, ze względu na które grupa otrzymała decyzję, 4) dane osób upoważnionych do reprezentowania grupy zgodnie z jej aktem założycielskim.\n",
      "Generated answer: nazwę i siedzibę grupy, 2) datę wydania decyzji administracyjnej, o której mowa w art. 7\n",
      "Exact match score: False\n",
      "F1 score: 0.3548387096774194\n",
      "============================================================================================================================================\n",
      "Question: Kto wybiera przewodniczącego Rady Krajowego Związku Kas?\n",
      "Answer: \n",
      "Generated answer: Minister właściwy do spraw zdrowia\n",
      "Exact match score: False\n",
      "F1 score: 0\n",
      "============================================================================================================================================\n"
     ]
    }
   ],
   "source": [
    "answers_10 = [\n",
    "    'karze pieniężnej do wysokości 1 000 000 złotych',\n",
    "    'W celu znalezienia i zatrzymania przedmiotów podlegających oględzinom lub mogących stanowić dowód rzeczowy',\n",
    "    'Funkcjonariusz podlega corocznemu opiniowaniu służbowemu',\n",
    "    'Budżet państwa jest rocznym planem dochodów i wydatków oraz przychodów i rozchodów',\n",
    "    'Do przestępstw skarbowych nie mają zastosowania przepisy części ogólnej Kodeksu karnego',\n",
    "    'na akcje o równej wartości nominalnej',\n",
    "    'Kontroler jest obowiązany zachować w tajemnicy informacje, które uzyskał w związku z wykonywaniem czynności służbowych',\n",
    "    'na polecenie sądu lub prokuratora Policja',\n",
    "    '2. Rejestr grup zawiera: 1) nazwę i siedzibę grupy, 2) datę wydania decyzji administracyjnej, o której mowa w art. 7 ust. 1, 3) nazwę produktu lub grupy produktów, ze względu na które grupa otrzymała decyzję, 4) dane osób upoważnionych do reprezentowania grupy zgodnie z jej aktem założycielskim.',\n",
    "    ''\n",
    "]\n",
    "\n",
    "idx_mini = 0\n",
    "idx = 0\n",
    "for id, row in legal_dataset.iterrows():\n",
    "    idx += 1\n",
    "    if idx%5 != 0: continue\n",
    "\n",
    "    tokenized = tokenizer(f\"question: {row['question']} context: {row['passage']}\", return_tensors=\"pt\", padding=True, truncation=True, max_length=512)\n",
    "    output = model.generate(**tokenized)\n",
    "    prediction = tokenizer.decode(output[0], skip_special_tokens=True)\n",
    "    em_s = exact_match(prediction, answers_10[idx_mini])\n",
    "    f1_s = f1(prediction, answers_10[idx_mini])\n",
    "    print(f\"Question: {row['question']}\")\n",
    "    print(f\"Answer: {answers_10[idx_mini]}\")\n",
    "    print(f\"Generated answer: {prediction}\")\n",
    "    print(f\"Exact match score: {em_s}\")\n",
    "    print(f\"F1 score: {f1_s}\")\n",
    "    print(f\"============================================================================================================================================\")\n",
    "\n",
    "    idx_mini += 1\n",
    "    if idx == 50: break"
   ]
  },
  {
   "cell_type": "markdown",
   "metadata": {},
   "source": [
    "## Questions (2 points)\n",
    "\n",
    "Training didn't work for me, so I used prepared models.\n",
    "\n",
    "1. Does the performance on the validation dataset reflects the performance on your test set?\\\n",
    "   **No, the performance on the validation dataset is much better compared to results obtained using the test set**\n",
    "2. What are the outcomes of the model on your test questions? Are they satisfying? If not, what might be the reason\n",
    "   for that?\\\n",
    "   **It depends. To some degree, they are satisfying.\n",
    "      After analysis, I came to the conclusion that there are different kinds of results:\n",
    "      1. Good but very concise. (exact match cannot match it)\n",
    "      2. Good and exact. (exact match works here)\n",
    "      3. False, because a bad snippet of the sentence was extracted. (none of the score methods works here)\n",
    "      4. False, because they constitute only a part of a proper answer.(f1 score some points here)\n",
    "      Also sometimes provided articles (e.g. 'Art. 1, ust. 7') have useful information that model cannot capture.\n",
    "\n",
    "      I think the reasons that the model becomes weakened are:\n",
    "      1. too complex sentences\n",
    "      2. The model was trained on poquad dataset and wasn't prepared for this type of content (legal language)\n",
    "      3. incorporated articles, paragraphs and attachments\n",
    "      **\n",
    "3. Why extractive question answering is not well suited for inflectional languages?\\\n",
    "**Because to answer the question we have to change part of a word to fit it properly into the answer that it can be e.g. grammatically correct.**"
   ]
  }
 ],
 "metadata": {
  "kernelspec": {
   "display_name": ".venv",
   "language": "python",
   "name": "python3"
  },
  "language_info": {
   "codemirror_mode": {
    "name": "ipython",
    "version": 3
   },
   "file_extension": ".py",
   "mimetype": "text/x-python",
   "name": "python",
   "nbconvert_exporter": "python",
   "pygments_lexer": "ipython3",
   "version": "3.12.7"
  }
 },
 "nbformat": 4,
 "nbformat_minor": 2
}
