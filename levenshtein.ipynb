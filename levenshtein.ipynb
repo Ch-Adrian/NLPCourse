{
 "cells": [
  {
   "cell_type": "markdown",
   "metadata": {},
   "source": [
    "## Use FIQA-PL corpus, including documents, questions and relations between them."
   ]
  },
  {
   "cell_type": "code",
   "execution_count": 46,
   "metadata": {},
   "outputs": [
    {
     "name": "stdout",
     "output_type": "stream",
     "text": [
      "  _id title                                               text\n",
      "0   3        Nie mówię, że nie podoba mi się też pomysł szk...\n",
      "1  31        Tak więc nic nie zapobiega fałszywym ocenom po...\n",
      "2  56        Nigdy nie możesz korzystać z FSA dla indywidua...\n",
      "3  59        Samsung stworzył LCD i inne technologie płaski...\n",
      "4  63        Oto wymagania SEC: Federalne przepisy dotycząc...\n",
      "{'_id': '0', 'title': '', 'text': 'Co jest uważane za wydatek służbowy w podróży służbowej?'}\n",
      "   query-id  corpus-id  score\n",
      "0         0      18850      1\n",
      "1         4     196463      1\n",
      "2         5      69306      1\n",
      "3         6     560251      1\n",
      "4         6     188530      1\n"
     ]
    }
   ],
   "source": [
    "from elasticsearch import Elasticsearch\n",
    "from datasets import load_dataset\n",
    "import pandas as pd\n",
    "import numpy as np\n",
    "\n",
    "ds = load_dataset(\"clarin-knext/fiqa-pl\", \"corpus\")\n",
    "df_corpus = pd.DataFrame(ds['corpus'])\n",
    "print(df_corpus.head())\n",
    "\n",
    "ds_q = load_dataset(\"clarin-knext/fiqa-pl\", \"queries\")\n",
    "ds_q = ds_q['queries']\n",
    "print(ds_q[0])\n",
    "\n",
    "ds_qrels = load_dataset(\"clarin-knext/fiqa-pl-qrels\")\n",
    "df_qrels = pd.DataFrame(ds_qrels['train'])\n",
    "print(df_qrels.head())\n",
    "\n",
    "df_corpus = df_corpus.rename(columns={'_id': 'id'})\n",
    "df_corpus['id'] = df_corpus['id'].astype(np.int64)"
   ]
  },
  {
   "cell_type": "code",
   "execution_count": 47,
   "metadata": {},
   "outputs": [
    {
     "name": "stdout",
     "output_type": "stream",
     "text": [
      "Dlaczego ktokolwiek miałby chcieć najpierw spłacić swoje długi w inny sposób niż „najwyższe odsetki”?\n"
     ]
    }
   ],
   "source": [
    "ds_q_dict = dict()\n",
    "for q in ds_q:\n",
    "    ds_q_dict[int(q['_id'])] = q['text']\n",
    "print(ds_q_dict[5993])"
   ]
  },
  {
   "cell_type": "code",
   "execution_count": 48,
   "metadata": {},
   "outputs": [
    {
     "name": "stdout",
     "output_type": "stream",
     "text": [
      "   id title                                               text  query-id  \\\n",
      "0   3        Nie mówię, że nie podoba mi się też pomysł szk...      -1.0   \n",
      "1  31        Tak więc nic nie zapobiega fałszywym ocenom po...      -1.0   \n",
      "2  56        Nigdy nie możesz korzystać z FSA dla indywidua...      -1.0   \n",
      "3  59        Samsung stworzył LCD i inne technologie płaski...      -1.0   \n",
      "4  63        Oto wymagania SEC: Federalne przepisy dotycząc...    1927.0   \n",
      "\n",
      "   score  \n",
      "0    0.0  \n",
      "1    0.0  \n",
      "2    0.0  \n",
      "3    0.0  \n",
      "4    1.0  \n"
     ]
    }
   ],
   "source": [
    "df_joined = pd.merge(df_corpus, df_qrels, left_on='id', right_on='corpus-id', how='left').drop(columns=['corpus-id'])\n",
    "df_joined.fillna({'score': 0, 'query-id': -1}, inplace=True)\n",
    "print(df_joined.head())"
   ]
  },
  {
   "cell_type": "code",
   "execution_count": 50,
   "metadata": {},
   "outputs": [
    {
     "name": "stdout",
     "output_type": "stream",
     "text": [
      "{'name': 'node-1', 'cluster_name': 'my-application-cluster', 'cluster_uuid': 'u0kJ5q17SEet7EfPPRTUoQ', 'version': {'number': '8.15.2', 'build_flavor': 'default', 'build_type': 'docker', 'build_hash': '98adf7bf6bb69b66ab95b761c9e5aadb0bb059a3', 'build_date': '2024-09-19T10:06:03.564235954Z', 'build_snapshot': False, 'lucene_version': '9.11.1', 'minimum_wire_compatibility_version': '7.17.0', 'minimum_index_compatibility_version': '7.0.0'}, 'tagline': 'You Know, for Search'}\n"
     ]
    }
   ],
   "source": [
    "elasticsearch = Elasticsearch(hosts=[\"http://localhost:9200\"])\n",
    "print(elasticsearch.info())"
   ]
  },
  {
   "cell_type": "code",
   "execution_count": 51,
   "metadata": {},
   "outputs": [],
   "source": [
    "synonyms_set = [{\"id\": \"synonym-1\", \"synonyms\": \"kwiecień, kwi, IV\"}]\n",
    "\n",
    "elasticsearch.synonyms.put_synonym(id=\"months-synonyms\", synonyms_set=synonyms_set)\n",
    "\n",
    "analyzers = [\"lowercase_analyzer\", \"polish_analyzer_morfologik_included\", \"polish_analyzer_synonyms_included\"]\n",
    "\n",
    "settings = {\n",
    "    \"analysis\": {\n",
    "        \"analyzer\": {\n",
    "            \"lowercase_analyzer\": {\n",
    "                \"tokenizer\": \"standard\",\n",
    "                \"filter\": [\"lowercase\"],\n",
    "            },\n",
    "            \"polish_analyzer_morfologik_included\": {\n",
    "                \"tokenizer\": \"standard\",\n",
    "                \"filter\": [\"lowercase\", \"morfologik_stem\", \"lowercase\"],\n",
    "            },\n",
    "            \"polish_analyzer_synonyms_included\": {\n",
    "                \"tokenizer\": \"standard\",\n",
    "                \"filter\": [\"polish_months_filter\", \"lowercase\", \"morfologik_stem\", \"lowercase\"],\n",
    "            },\n",
    "        },\n",
    "        \"filter\": {\n",
    "            \"polish_months_filter\": {\n",
    "                \"type\": \"synonym_graph\",\n",
    "                \"synonyms_set\": \"months-synonyms\",\n",
    "                \"updateable\": True,\n",
    "            }\n",
    "        },\n",
    "    }\n",
    "}\n",
    "\n",
    "mappings = {\n",
    "    \"properties\": {\n",
    "        \"text\": {\n",
    "            \"type\": \"text\",\n",
    "            \"analyzer\": \"polish_analyzer_morfologik_included\",\n",
    "            \"search_analyzer\": \"polish_analyzer_morfologik_included\",\n",
    "        }\n",
    "    }\n",
    "}\n",
    "\n",
    "def create_index(index_name, settings, mappings):\n",
    "    if elasticsearch.indices.exists(index=index_name):\n",
    "        elasticsearch.indices.delete(index=index_name, ignore_unavailable=True)\n",
    "    elasticsearch.indices.create(index=index_name, mappings=mappings, settings=settings)\n",
    "\n",
    "def create_with_custom_analyzer(index_name, settings, analyzer_name):\n",
    "    mappings = {\n",
    "        \"properties\": {\n",
    "            \"text\": {\n",
    "                \"type\": \"text\",\n",
    "                \"analyzer\": analyzer_name,\n",
    "                \"search_analyzer\": analyzer_name,\n",
    "            }\n",
    "        }\n",
    "    }\n",
    "    create_index(index_name, settings, mappings)"
   ]
  },
  {
   "cell_type": "code",
   "execution_count": 52,
   "metadata": {},
   "outputs": [],
   "source": [
    "def populate_index(index_name, ds):\n",
    "    operations = []\n",
    "    for document in ds:\n",
    "        operations.append({\"index\": {\"_index\": index_name}})\n",
    "        operations.append({\"id\": document[\"id\"], \"text\": document[\"text\"]})\n",
    "    elasticsearch.bulk(operations=operations, request_timeout=120)"
   ]
  },
  {
   "cell_type": "markdown",
   "metadata": {},
   "source": [
    "## Use SpaCy tokenizer API to tokenize the text in the documents."
   ]
  },
  {
   "cell_type": "code",
   "execution_count": null,
   "metadata": {},
   "outputs": [],
   "source": [
    "from spacy.lang.pl import Polish\n",
    "\n",
    "nlp_pl = Polish()\n",
    "tokenizer_pl = nlp_pl.tokenizer"
   ]
  },
  {
   "cell_type": "markdown",
   "metadata": {},
   "source": [
    "## Compute frequency list for each of the processed files."
   ]
  },
  {
   "cell_type": "code",
   "execution_count": 58,
   "metadata": {},
   "outputs": [],
   "source": [
    "frequency_dict = dict()\n",
    "def populate_frequency_list(dataset, tokenizer, freq_list: dict):\n",
    "    for doc in dataset:\n",
    "        for token in tokenizer(doc['text']):\n",
    "            if token.text in freq_list:\n",
    "                freq_list[token.text] += 1\n",
    "            else:\n",
    "                freq_list[token.text] = 1\n"
   ]
  },
  {
   "cell_type": "markdown",
   "metadata": {},
   "source": [
    "## Aggregate the result to obtain one global frequency list. This frequency list gives you unigram statistics of the words appearing in the corpus."
   ]
  },
  {
   "cell_type": "code",
   "execution_count": 59,
   "metadata": {},
   "outputs": [],
   "source": [
    "populate_frequency_list(ds['corpus'], tokenizer_pl, frequency_dict)"
   ]
  },
  {
   "cell_type": "code",
   "execution_count": 60,
   "metadata": {},
   "outputs": [],
   "source": [
    "populate_frequency_list(ds_q, tokenizer_pl, frequency_dict)"
   ]
  },
  {
   "cell_type": "code",
   "execution_count": 61,
   "metadata": {},
   "outputs": [
    {
     "name": "stdout",
     "output_type": "stream",
     "text": [
      "404067\n"
     ]
    }
   ],
   "source": [
    "print(frequency_dict['.'])"
   ]
  },
  {
   "cell_type": "code",
   "execution_count": 62,
   "metadata": {},
   "outputs": [
    {
     "name": "stdout",
     "output_type": "stream",
     "text": [
      ",\n",
      "że\n",
      "nie\n",
      "się\n",
      "w\n",
      "to\n",
      ".\n",
      ")\n",
      "z\n",
      "i\n",
      "do\n",
      "na\n",
      "jest\n"
     ]
    },
    {
     "data": {
      "text/plain": [
       "[<matplotlib.lines.Line2D at 0x7f53cd63b910>]"
      ]
     },
     "execution_count": 62,
     "metadata": {},
     "output_type": "execute_result"
    },
    {
     "data": {
      "image/png": "[encoded data removed]",
      "text/plain": [
       "<Figure size 640x480 with 2 Axes>"
      ]
     },
     "metadata": {},
     "output_type": "display_data"
    }
   ],
   "source": [
    "import matplotlib.pyplot as plt\n",
    "\n",
    "values = [ value for value in frequency_dict.values() ]\n",
    "for idx, v in enumerate(values):\n",
    "    if v > 50000:\n",
    "        print(list(frequency_dict.keys())[idx])\n",
    "fig, (ax1, ax2) = plt.subplots(1,2)\n",
    "\n",
    "ax1.plot(values[:1000])\n",
    "ax2.plot(values)\n"
   ]
  },
  {
   "cell_type": "markdown",
   "metadata": {},
   "source": [
    "## Apply a distortion function to the queries part of the corpus. In each query draw randomly one word and change one letter in the word to some other letter."
   ]
  },
  {
   "cell_type": "code",
   "execution_count": 63,
   "metadata": {},
   "outputs": [],
   "source": [
    "distorted_questions = dict()"
   ]
  },
  {
   "cell_type": "code",
   "execution_count": 64,
   "metadata": {},
   "outputs": [
    {
     "name": "stdout",
     "output_type": "stream",
     "text": [
      "6648\n"
     ]
    }
   ],
   "source": [
    "print(len(ds_q))"
   ]
  },
  {
   "cell_type": "code",
   "execution_count": 65,
   "metadata": {},
   "outputs": [],
   "source": [
    "import random\n",
    "letters = ['a', 'ą', 'b', 'c', 'ć', 'd', 'e', 'ę', 'f', 'g', 'h', 'i', 'j', 'k', 'l', 'ł', 'm', 'n', 'ń', 'o', 'ó', 'p', 'q', 'r', 's', 'ś', 't', 'u', 'v', 'w', 'x', 'y', 'z', 'ź', 'ż']\n",
    "\n",
    "for question in ds_q:\n",
    "    q_words = question['text'].split()\n",
    "    if sum([len(word) for word in q_words]) <= 0: continue\n",
    "\n",
    "    word = random.choice(q_words)\n",
    "    while len(word) <= 0: word = random.choice(q_words)\n",
    "\n",
    "    len_w = len(word)\n",
    "    idx_l = int(random.randint(0, len_w-1))\n",
    "    idx_w = q_words.index(word)\n",
    "\n",
    "    word = word.replace(word[idx_l], random.choice(letters), 1)\n",
    "    q_words[idx_w] = word\n",
    "\n",
    "    distorted_questions[int(question['_id'])] = ' '.join(q_words)\n"
   ]
  },
  {
   "cell_type": "code",
   "execution_count": 66,
   "metadata": {},
   "outputs": [
    {
     "name": "stdout",
     "output_type": "stream",
     "text": [
      "Dlaczego ktokolwiek miałby chcieć najpierw spłacić swoje długi t inny sposób niż „najwyższe odsetki”?\n"
     ]
    }
   ],
   "source": [
    "print(distorted_questions[5993])"
   ]
  },
  {
   "cell_type": "markdown",
   "metadata": {},
   "source": [
    "## Compute nDCG@10 for the distorted queris, using the same approach as in lab 2. This result will be the baseline for the other methods."
   ]
  },
  {
   "cell_type": "code",
   "execution_count": 67,
   "metadata": {},
   "outputs": [
    {
     "name": "stdout",
     "output_type": "stream",
     "text": [
      "query_id:  1505  amount of documents:  23\n",
      "query_id:  3012  amount of documents:  23\n",
      "query_id:  1965  amount of documents:  22\n",
      "query_id:  3056  amount of documents:  21\n",
      "query_id:  3476  amount of documents:  21\n",
      "query_id:  2447  amount of documents:  20\n",
      "query_id:  2618  amount of documents:  19\n",
      "query_id:  1652  amount of documents:  19\n",
      "query_id:  3299  amount of documents:  18\n",
      "query_id:  3227  amount of documents:  17\n",
      "query_id:  10906  amount of documents:  17\n"
     ]
    }
   ],
   "source": [
    "corpus_query_mapping = {} # query_id -> [corpus_ids]\n",
    "\n",
    "for i, row in df_joined.iterrows():\n",
    "    if row['query-id'] == -1:\n",
    "        continue\n",
    "    if row['query-id'] not in corpus_query_mapping:\n",
    "        corpus_query_mapping[int(row['query-id'])] = []\n",
    "    corpus_query_mapping[int(row['query-id'])].append(row['id'])\n",
    "\n",
    "ranking = []\n",
    "maxi = 0\n",
    "id_maxi = -1\n",
    "for query_id, corpus_ids in corpus_query_mapping.items():\n",
    "    ranking.append((corpus_ids, query_id))\n",
    "    if len(corpus_ids) > maxi:\n",
    "        maxi = len(corpus_ids)\n",
    "        id_maxi = query_id\n",
    "\n",
    "ranking = sorted(ranking, key=lambda x: len(x[0]), reverse=True)\n",
    "best_queries = []\n",
    "for idx, (corpus_ids, query_id) in enumerate(ranking):\n",
    "    print(\"query_id: \", query_id, \" amount of documents: \", len(corpus_ids))\n",
    "    best_queries.append(int(query_id))\n",
    "    if idx == 10: break"
   ]
  },
  {
   "cell_type": "code",
   "execution_count": 68,
   "metadata": {},
   "outputs": [],
   "source": [
    "def calculate_ndcg(result, searching_query_id, n):\n",
    "    amount_of_one = len(corpus_query_mapping[int(searching_query_id)])\n",
    "\n",
    "    DCG = 0\n",
    "    for idx, hit in enumerate(result['hits']['hits']):\n",
    "        gain = 0\n",
    "        corpus_id = hit['_source']['id']\n",
    "        if corpus_id in corpus_query_mapping[int(searching_query_id)]:\n",
    "            gain = 1\n",
    "        DCG += gain / np.log2(idx + 2)\n",
    "        if idx == n: break\n",
    "\n",
    "    IDCG = 0\n",
    "    for idx in range(min(amount_of_one, n)):\n",
    "        IDCG += 1 / np.log2(idx + 2)\n",
    "\n",
    "    if IDCG == 0:\n",
    "        nDCG = 0\n",
    "    else: \n",
    "        nDCG = DCG / IDCG\n",
    "\n",
    "    # print(\"nDCG: \", nDCG)\n",
    "    return nDCG"
   ]
  },
  {
   "cell_type": "code",
   "execution_count": 69,
   "metadata": {},
   "outputs": [],
   "source": [
    "# ds_q [query_id]['text'] -> text\n",
    "# elastic search without fuzzy match with distorted_questions [query_id] -> text\n",
    "# corrected_questions [query_id] -> text\n",
    "# elastic search fuzzy match with distorted_questions [query_id] -> text\n",
    "\n",
    "\n",
    "def calculate_ndcg_for_best_queries(query_data, n, fuzziness: bool = False):\n",
    "    ndcgs = []\n",
    "\n",
    "    for query_id in best_queries:\n",
    "        query_text = ds_q_dict[query_id]\n",
    "        distorted_question = query_data[query_id]\n",
    "        print(\"query: \", query_text, '\\n',distorted_question)\n",
    "        multi_match_query = {\"multi_match\": {\"query\": distorted_question, \"analyzer\": \"polish_analyzer_synonyms_included\", \"fields\": [\"text\"]}}\n",
    "        fuzzy_query = {\"match\": {\"text\": {\"query\": distorted_question, \"fuzziness\": \"AUTO\" } } }\n",
    "\n",
    "        if fuzziness:\n",
    "            result = elasticsearch.search(index=\"fiqa-pl\", size=n, query=fuzzy_query)\n",
    "        else:\n",
    "            result = elasticsearch.search(index=\"fiqa-pl\", size=n, query=multi_match_query)\n",
    "        amt_of_documents = len(result[\"hits\"][\"hits\"])\n",
    "        print(\"documents with synonyms and lemmatization: \", amt_of_documents)\n",
    "        ndcg = calculate_ndcg(result, query_id, n)\n",
    "        print(\"nDCG@\"+str(n)+\": \", ndcg)\n",
    "        print(\"\")\n",
    "        ndcgs.append(ndcg)\n",
    "\n",
    "    return ndcgs\n"
   ]
  },
  {
   "cell_type": "code",
   "execution_count": 70,
   "metadata": {},
   "outputs": [
    {
     "name": "stderr",
     "output_type": "stream",
     "text": [
      "/tmp/ipykernel_6196/1120335432.py:6: DeprecationWarning: Passing transport options in the API method is deprecated. Use 'Elasticsearch.options()' instead.\n",
      "  elasticsearch.bulk(operations=operations, request_timeout=120)\n"
     ]
    }
   ],
   "source": [
    "create_with_custom_analyzer(\"fiqa-pl\", settings, \"polish_analyzer_morfologik_included\")\n",
    "populate_index(\"fiqa-pl\", df_joined.to_dict(orient='records'))"
   ]
  },
  {
   "cell_type": "code",
   "execution_count": 71,
   "metadata": {},
   "outputs": [],
   "source": [
    "def search_query(query_id, n):\n",
    "    query_text = ds_q_dict[query_id]\n",
    "    distorted_question = distorted_questions[query_id]\n",
    "    print(\"query: \", query_text, '\\n',distorted_question)\n",
    "    multi_match_query = {\"multi_match\": {\"query\": distorted_question, \"analyzer\": \"polish_analyzer_synonyms_included\", \"fields\": [\"text\"]}}\n",
    "    query = {\"match\": {\"text\": {\"query\": distorted_question, \"fuzziness\": \"AUTO\" } } }\n",
    "\n",
    "    result = elasticsearch.search(index=\"fiqa-pl\", size=n, query=query)\n",
    "    amt_of_documents = len(result[\"hits\"][\"hits\"])\n",
    "    print(\"documents with synonyms and lemmatization: \", amt_of_documents)\n",
    "    ndcg4 = calculate_ndcg(result, query_id, n)"
   ]
  },
  {
   "cell_type": "code",
   "execution_count": 72,
   "metadata": {},
   "outputs": [],
   "source": [
    "# search_query(5993, 10)"
   ]
  },
  {
   "cell_type": "code",
   "execution_count": 73,
   "metadata": {},
   "outputs": [
    {
     "name": "stdout",
     "output_type": "stream",
     "text": [
      "query:  Jakie mam opcje w wieku 26 lat, z 1,2 miliona USD? \n",
      " Jakie mam opcje w wieku 26 lat, z 1,2 ziliona USD?\n",
      "documents with synonyms and lemmatization:  10\n",
      "nDCG@10:  0.22009176629808017\n",
      "\n",
      "query:  Dlaczego warto kupować ubezpieczenie? \n",
      " Dlaczego warto kupować ubyzpieczenie?\n",
      "documents with synonyms and lemmatization:  10\n",
      "nDCG@10:  0.0\n",
      "\n",
      "query:  Dlaczego miałbyś kiedykolwiek odrzucić podwyżkę? \n",
      " Dlaczego miałbyś kiedykolwiek odrzucić podwyżkę?\n",
      "documents with synonyms and lemmatization:  10\n",
      "nDCG@10:  0.9305687780632227\n",
      "\n",
      "query:  Kogo naprawdę stać na luksusowe samochody? \n",
      " Kogo naprawdę żtać na luksusowe samochody?\n",
      "documents with synonyms and lemmatization:  10\n",
      "nDCG@10:  0.31954962756492084\n",
      "\n",
      "query:  Jeśli akcja nie przynosi dywidendy, to dlaczego jest cokolwiek warta? \n",
      " Jeśli akcja nie przynosi dywidendy, to dlaczego jest cokolwiek watta?\n",
      "documents with synonyms and lemmatization:  10\n",
      "nDCG@10:  0.07336392209936005\n",
      "\n",
      "query:  Dlaczego na konkurencyjnym rynku popcorn kinowy jest drogi? \n",
      " Dlaczego na konkarencyjnym rynku popcorn kinowy jest drogi?\n",
      "documents with synonyms and lemmatization:  10\n",
      "nDCG@10:  1.0\n",
      "\n",
      "query:  Jak mądrze jest naprawdę być w 100% bez długów? \n",
      " Jak mądrze jest naprawdę być w 100% beb długów?\n",
      "documents with synonyms and lemmatization:  10\n",
      "nDCG@10:  0.0\n",
      "\n",
      "query:  Czy moi rodzice oszukują mnie tą umową, która nie pozwala mi budować kapitału własnego w moim domu? \n",
      " Czy moi rodzice oszukują mnie tą umową, kśóra nie pozwala mi budować kapitału własnego w moim domu?\n",
      "documents with synonyms and lemmatization:  10\n",
      "nDCG@10:  0.5100691314582919\n",
      "\n",
      "query:  Beztrosko zainwestowałem w akcje, które osiągnęły szczyt w pobliżu ceny szczytowej. Jak mogę uratować moją inwestycję? \n",
      " Beztrosko zainwestowałem w akcje, które osiągnęły szczyt w pobliżu ceny szczytowej. Jak mogę urftować moją inwestycję?\n",
      "documents with synonyms and lemmatization:  10\n",
      "nDCG@10:  0.06625422345438903\n",
      "\n",
      "query:  Czym mogę zastąpić Microsoft Money, skoro MS je porzucił? \n",
      " Czym moga zastąpić Microsoft Money, skoro MS je porzucił?\n",
      "documents with synonyms and lemmatization:  10\n",
      "nDCG@10:  0.2051166673279436\n",
      "\n",
      "query:  Wydaję za dużo pieniędzy. Jak wejść na drogę do oszczędnego stylu życia? \n",
      " Wydaję za dużo pieniędzy. Jak wejść na drogę do oszczędnego stysu życia?\n",
      "documents with synonyms and lemmatization:  10\n",
      "nDCG@10:  0.22009176629808017\n",
      "\n"
     ]
    }
   ],
   "source": [
    "ndcg_for_distored_questions = calculate_ndcg_for_best_queries(distorted_questions, 10)"
   ]
  },
  {
   "cell_type": "markdown",
   "metadata": {},
   "source": [
    "## Install Morfeusz (Binding dla Pythona) and use it to find all words from the queries that do not appear in that dictionary. Only these words should be corected in the next step."
   ]
  },
  {
   "cell_type": "code",
   "execution_count": 74,
   "metadata": {},
   "outputs": [],
   "source": [
    "from morfeusz2 import Morfeusz\n",
    "morfeusz = Morfeusz()"
   ]
  },
  {
   "cell_type": "code",
   "execution_count": 75,
   "metadata": {},
   "outputs": [
    {
     "name": "stdout",
     "output_type": "stream",
     "text": [
      "6648\n"
     ]
    }
   ],
   "source": [
    "print(len(distorted_questions))"
   ]
  },
  {
   "cell_type": "code",
   "execution_count": 76,
   "metadata": {},
   "outputs": [],
   "source": [
    "words_to_correct = dict()\n",
    "\n",
    "for id, text in distorted_questions.items():\n",
    "    analysis = morfeusz.analyse(text)\n",
    "    is_ign = False\n",
    "    for interpretation in analysis:\n",
    "        if (interpretation[2][2] == 'ign'):\n",
    "            words_to_correct[id] = interpretation[2][0]\n",
    "            is_ign = True\n",
    "            break\n",
    "    if not is_ign:\n",
    "        words_to_correct[id] = text.split()[0]"
   ]
  },
  {
   "cell_type": "markdown",
   "metadata": {},
   "source": [
    "## Use Levenshtein distance and the frequency list, to determine the most probable correction of the words in the queries that were identified as invalid. (Note: You don't have to apply the distance directly. Any method that is more efficient than scanning the dictionary will be appreciated.)"
   ]
  },
  {
   "cell_type": "code",
   "execution_count": null,
   "metadata": {},
   "outputs": [],
   "source": [
    "import matplotlib.pyplot as plt\n",
    "from bisect import bisect_left, bisect_right\n",
    "from Levenshtein import distance\n",
    "\n",
    "class DictOfWords:\n",
    "    def __init__(self, frequency_dict):\n",
    "        self.dict = dict()\n",
    "        self.dictionary_of_words = []\n",
    "        for w, no in frequency_dict.items():\n",
    "            self.dictionary_of_words.append((len(w), w))\n",
    "\n",
    "        self.dictionary_of_words = sorted(self.dictionary_of_words, key=lambda x: (x[0],x[1][0]))\n",
    "\n",
    "    def find_similar_word(self, word):\n",
    "        len_w = len(word)\n",
    "        idx_left = bisect_left(self.dictionary_of_words, (len_w-1, word[0]))\n",
    "        idx_right = bisect_right(self.dictionary_of_words, (len_w+1, word[0]))\n",
    "\n",
    "        ranking_of_words = []\n",
    "        for i in range(idx_left, idx_right):\n",
    "            dis = distance(word, self.dictionary_of_words[i][1])\n",
    "            ranking_of_words.append((dis, self.dictionary_of_words[i][1]))\n",
    "\n",
    "        ranking_of_words = sorted(ranking_of_words, key=lambda x: x[0])\n",
    "        return ranking_of_words[0][1]\n",
    "\n",
    "dict_of_words = DictOfWords(frequency_dict)"
   ]
  },
  {
   "cell_type": "code",
   "execution_count": 78,
   "metadata": {},
   "outputs": [
    {
     "name": "stdout",
     "output_type": "stream",
     "text": [
      "6648\n"
     ]
    }
   ],
   "source": [
    "corrected_questions = dict()\n",
    "print(len(words_to_correct))\n",
    "\n",
    "for q_id, malformed_word in words_to_correct.items():\n",
    "    q_words = distorted_questions[q_id].split()\n",
    "    try:\n",
    "        idx_w = q_words.index(malformed_word)\n",
    "    except ValueError:\n",
    "        idx_w = -1\n",
    "        min_dis = 1000\n",
    "        for idx, word in enumerate(q_words):\n",
    "            dis = distance(word, malformed_word)\n",
    "            if dis <= min_dis:\n",
    "                min_dis = dis\n",
    "                idx_w = idx\n",
    "\n",
    "    corrected_word = dict_of_words.find_similar_word(malformed_word)\n",
    "    q_words[idx_w] = corrected_word\n",
    "    corrected_question = ' '.join(q_words)\n",
    "    corrected_questions[q_id] = corrected_question\n"
   ]
  },
  {
   "cell_type": "markdown",
   "metadata": {},
   "source": [
    "## Compute nDCG@10 for your implementation of the spelling correction method."
   ]
  },
  {
   "cell_type": "code",
   "execution_count": 79,
   "metadata": {},
   "outputs": [
    {
     "name": "stdout",
     "output_type": "stream",
     "text": [
      "query:  Jakie mam opcje w wieku 26 lat, z 1,2 miliona USD? \n",
      " Jakie mam opcje w wieku 26 lat, z 1,2 biliona USD?\n",
      "documents with synonyms and lemmatization:  10\n",
      "nDCG@10:  0.22009176629808017\n",
      "\n",
      "query:  Dlaczego warto kupować ubezpieczenie? \n",
      " Dlaczego warto kupować ubezpieczenie\n",
      "documents with synonyms and lemmatization:  10\n",
      "nDCG@10:  0.07839826897867533\n",
      "\n",
      "query:  Dlaczego miałbyś kiedykolwiek odrzucić podwyżkę? \n",
      " Dlaczego miałbyś kiedykolwiek odrzucić podwyżkę?\n",
      "documents with synonyms and lemmatization:  10\n",
      "nDCG@10:  0.9305687780632227\n",
      "\n",
      "query:  Kogo naprawdę stać na luksusowe samochody? \n",
      " Kogo naprawdę Stać na luksusowe samochody?\n",
      "documents with synonyms and lemmatization:  10\n",
      "nDCG@10:  0.3822360008387524\n",
      "\n",
      "query:  Jeśli akcja nie przynosi dywidendy, to dlaczego jest cokolwiek warta? \n",
      " Jeśli akcja nie przynosi dywidendy, to dlaczego jest cokolwiek watta?\n",
      "documents with synonyms and lemmatization:  10\n",
      "nDCG@10:  0.07336392209936005\n",
      "\n",
      "query:  Dlaczego na konkurencyjnym rynku popcorn kinowy jest drogi? \n",
      " Dlaczego na konkurencyjnym rynku popcorn kinowy jest drogi?\n",
      "documents with synonyms and lemmatization:  10\n",
      "nDCG@10:  1.0\n",
      "\n",
      "query:  Jak mądrze jest naprawdę być w 100% bez długów? \n",
      " Jak mądrze jest naprawdę być w 100% beb długów?\n",
      "documents with synonyms and lemmatization:  10\n",
      "nDCG@10:  0.0\n",
      "\n",
      "query:  Czy moi rodzice oszukują mnie tą umową, która nie pozwala mi budować kapitału własnego w moim domu? \n",
      " Czy moi rodzice oszukują mnie tą umową, która nie pozwala mi budować kapitału własnego w moim domu?\n",
      "documents with synonyms and lemmatization:  10\n",
      "nDCG@10:  0.5100691314582919\n",
      "\n",
      "query:  Beztrosko zainwestowałem w akcje, które osiągnęły szczyt w pobliżu ceny szczytowej. Jak mogę uratować moją inwestycję? \n",
      " Beztrosko zainwestowałem w akcje, które osiągnęły szczyt w pobliżu ceny szczytowej. Jak mogę uratować moją inwestycję?\n",
      "documents with synonyms and lemmatization:  10\n",
      "nDCG@10:  0.06625422345438903\n",
      "\n",
      "query:  Czym mogę zastąpić Microsoft Money, skoro MS je porzucił? \n",
      " Czym moga zastąpić Microsoft Money skoro MS je porzucił?\n",
      "documents with synonyms and lemmatization:  10\n",
      "nDCG@10:  0.2051166673279436\n",
      "\n",
      "query:  Wydaję za dużo pieniędzy. Jak wejść na drogę do oszczędnego stylu życia? \n",
      " Wydaję za dużo pieniędzy. Jak wejść na drogę do oszczędnego stylu życia?\n",
      "documents with synonyms and lemmatization:  10\n",
      "nDCG@10:  0.13886244387355454\n",
      "\n"
     ]
    }
   ],
   "source": [
    "ndcg_for_corrected_questions = calculate_ndcg_for_best_queries(corrected_questions, 10)"
   ]
  },
  {
   "cell_type": "markdown",
   "metadata": {},
   "source": [
    "## Use ElasticSearch's fuzzy match and compute nDCG@10 for this approach."
   ]
  },
  {
   "cell_type": "code",
   "execution_count": 80,
   "metadata": {},
   "outputs": [
    {
     "name": "stdout",
     "output_type": "stream",
     "text": [
      "query:  Jakie mam opcje w wieku 26 lat, z 1,2 miliona USD? \n",
      " Jakie mam opcje w wieku 26 lat, z 1,2 ziliona USD?\n",
      "documents with synonyms and lemmatization:  10\n",
      "nDCG@10:  0.07839826897867533\n",
      "\n",
      "query:  Dlaczego warto kupować ubezpieczenie? \n",
      " Dlaczego warto kupować ubyzpieczenie?\n",
      "documents with synonyms and lemmatization:  10\n",
      "nDCG@10:  0.08514311764162098\n",
      "\n",
      "query:  Dlaczego miałbyś kiedykolwiek odrzucić podwyżkę? \n",
      " Dlaczego miałbyś kiedykolwiek odrzucić podwyżkę?\n",
      "documents with synonyms and lemmatization:  10\n",
      "nDCG@10:  0.696162268139923\n",
      "\n",
      "query:  Kogo naprawdę stać na luksusowe samochody? \n",
      " Kogo naprawdę żtać na luksusowe samochody?\n",
      "documents with synonyms and lemmatization:  10\n",
      "nDCG@10:  0.26462022272743835\n",
      "\n",
      "query:  Jeśli akcja nie przynosi dywidendy, to dlaczego jest cokolwiek warta? \n",
      " Jeśli akcja nie przynosi dywidendy, to dlaczego jest cokolwiek watta?\n",
      "documents with synonyms and lemmatization:  10\n",
      "nDCG@10:  0.25880978898961277\n",
      "\n",
      "query:  Dlaczego na konkurencyjnym rynku popcorn kinowy jest drogi? \n",
      " Dlaczego na konkarencyjnym rynku popcorn kinowy jest drogi?\n",
      "documents with synonyms and lemmatization:  10\n",
      "nDCG@10:  1.0\n",
      "\n",
      "query:  Jak mądrze jest naprawdę być w 100% bez długów? \n",
      " Jak mądrze jest naprawdę być w 100% beb długów?\n",
      "documents with synonyms and lemmatization:  10\n",
      "nDCG@10:  0.06943122193677727\n",
      "\n",
      "query:  Czy moi rodzice oszukują mnie tą umową, która nie pozwala mi budować kapitału własnego w moim domu? \n",
      " Czy moi rodzice oszukują mnie tą umową, kśóra nie pozwala mi budować kapitału własnego w moim domu?\n",
      "documents with synonyms and lemmatization:  10\n",
      "nDCG@10:  0.4537425745411855\n",
      "\n",
      "query:  Beztrosko zainwestowałem w akcje, które osiągnęły szczyt w pobliżu ceny szczytowej. Jak mogę uratować moją inwestycję? \n",
      " Beztrosko zainwestowałem w akcje, które osiągnęły szczyt w pobliżu ceny szczytowej. Jak mogę urftować moją inwestycję?\n",
      "documents with synonyms and lemmatization:  10\n",
      "nDCG@10:  0.0\n",
      "\n",
      "query:  Czym mogę zastąpić Microsoft Money, skoro MS je porzucił? \n",
      " Czym moga zastąpić Microsoft Money, skoro MS je porzucił?\n",
      "documents with synonyms and lemmatization:  10\n",
      "nDCG@10:  0.13886244387355454\n",
      "\n",
      "query:  Wydaję za dużo pieniędzy. Jak wejść na drogę do oszczędnego stylu życia? \n",
      " Wydaję za dużo pieniędzy. Jak wejść na drogę do oszczędnego stysu życia?\n",
      "documents with synonyms and lemmatization:  10\n",
      "nDCG@10:  0.22009176629808017\n",
      "\n"
     ]
    }
   ],
   "source": [
    "ndcg_for_distorted_questions_with_fuzziness = calculate_ndcg_for_best_queries(distorted_questions, 10, True)"
   ]
  },
  {
   "cell_type": "markdown",
   "metadata": {},
   "source": [
    "## 13. Compare the results of baseline with the 2 implemented methods. Take into account the nDCG score and the performance of the methods."
   ]
  },
  {
   "cell_type": "code",
   "execution_count": 81,
   "metadata": {},
   "outputs": [
    {
     "name": "stdout",
     "output_type": "stream",
     "text": [
      "nDCG@10 scores:\n",
      "distorted questions | corrected questions | distorted questions with fuzziness\n",
      "0.22   |   0.22   |   0.078\n",
      "0.0   |   0.078   |   0.085\n",
      "0.931   |   0.931   |   0.696\n",
      "0.32   |   0.382   |   0.265\n",
      "0.073   |   0.073   |   0.259\n",
      "1.0   |   1.0   |   1.0\n",
      "0.0   |   0.0   |   0.069\n",
      "0.51   |   0.51   |   0.454\n",
      "0.066   |   0.066   |   0.0\n",
      "0.205   |   0.205   |   0.139\n",
      "0.22   |   0.139   |   0.22\n",
      "means of nDCG@10: \n",
      "0.322   |   0.328   |   0.297\n"
     ]
    }
   ],
   "source": [
    "print(\"nDCG@10 scores:\")\n",
    "print(\"distorted questions | corrected questions | distorted questions with fuzziness\")\n",
    "for (ndcg1, ndcg2, ndcg3) in zip(ndcg_for_distored_questions, ndcg_for_corrected_questions, ndcg_for_distorted_questions_with_fuzziness):\n",
    "    print(round(ndcg1, 3), '  |  ', round(ndcg2, 3), '  |  ', round(ndcg3, 3))\n",
    "print(\"means of nDCG@10: \")\n",
    "print(round(np.mean(ndcg_for_distored_questions), 3), '  |  ', round(np.mean(ndcg_for_corrected_questions), 3), '  |  ', round(np.mean(ndcg_for_distorted_questions_with_fuzziness), 3))"
   ]
  },
  {
   "cell_type": "markdown",
   "metadata": {},
   "source": [
    "Best results are achieved for introduced method that is using Levenshtein. But it has also the worst performance of them all."
   ]
  },
  {
   "cell_type": "markdown",
   "metadata": {},
   "source": [
    "## 14. Use an LLM of your choice (you can use [Bielik](https://chat.bielik.ai/)) to fix 30 first queries from the distorted set and compare the results manually with the method based on the Levenshtein distance."
   ]
  },
  {
   "cell_type": "markdown",
   "metadata": {},
   "source": [
    "I have chosen ChatGPT"
   ]
  },
  {
   "cell_type": "code",
   "execution_count": 82,
   "metadata": {},
   "outputs": [
    {
     "name": "stdout",
     "output_type": "stream",
     "text": [
      "0 Co jest uważane za wydatek służbowy ż podróży służbowej?\n",
      "4 Wydatki służbowe - ubezpieczenie samochodu podlegające odliczeniu za wypadek, który wydarzył się podczas podróży służboweł\n",
      "5 Rozpoczęcie nowego biznesu odline\n",
      "6 „Dzień robocry” i „termin płatności” rachunków\n",
      "7 Nswy właściciel firmy – Jak działają podatki dla firmy i osoby fizycznej?\n",
      "9 Hozby kontra biznes\n",
      "11 Czeki osobiste zampast firmowych\n",
      "12 Czy amerykański kodeks podatkowy wymaga, aby właściciele małych firm liczyli zakupy biznesowe jako docród osobisty?\n",
      "13 Jak mogę zarejestrowau firmę w Wielkiej Brytanii bez podawania adresu firmy?\n",
      "14 Czym sv „podstawy biznesowe”?\n",
      "16 Strata na inwestycjach biznesowych j poprzedniego roku\n",
      "19 Jak mogę oszacować podatki biznesowe / opłaty za zgłoszenie dla firmr, która ma 0 USD dochodu?\n",
      "20 Czy zakup samochodu dla firźy za pomocą kredytu biznesowego zostałby uznany za wydatek biznesowy?\n",
      "21 Odliczanie strat biznesowych z ostatnich ldt (nieudokumentowanych)\n",
      "23 30% uiziału w biznesie\n",
      "25 Odbieranie wydatków służbowycą z osobistej karty kredytowej\n",
      "27 Używanie czeku biznesowego do płłtności w handlu detalicznym\n",
      "28 Podatek przy zakładaniu firmy w pełnym wymiarze czusu pracy\n",
      "30 Czy mogę spłacić saldo karty kredytowej, amy zwolnić dostępny kredyt?\n",
      "31 Powolne rozpoczynanie działalności podocznej\n",
      "32 dlaczego „spieniężanie czeków” jest legalną działalnością?\n",
      "33 Czy biznes to jedyny sposób na zostanie milionesem?\n",
      "35 nycenianie małej firmy, w którą warto zainwestować\n",
      "36 Rozpoczęcie dużego bizęesu z niezbyt dużymi dochodami?\n",
      "37 Wymagania dotycźące rozliczania podatków biznesowych?\n",
      "41 aRA do pracy i mojej firmy\n",
      "43 Doradotwo w zakresie transferu pieniędzy\n",
      "45 Jak przenieść leasing samochodu osobistego dć leasingu samochodu biznesowego?\n",
      "46 Korepetycje z zarządzania płacami biznesowydi\n",
      "47 Czy jako właściciel małej firmy powinienem płacić podatki z mojego osobistego lub fiymowego konta czekowego?\n",
      "48 Czy biznes mojego męża powinien opłacać mój biznes?\n"
     ]
    }
   ],
   "source": [
    "first_30_questions = dict()\n",
    "\n",
    "for idx, q in enumerate(distorted_questions.items()):\n",
    "    first_30_questions[q[0]] = q[1]\n",
    "    print(q[0],q[1])\n",
    "    if idx == 30: break\n"
   ]
  },
  {
   "cell_type": "code",
   "execution_count": 83,
   "metadata": {},
   "outputs": [],
   "source": [
    "corrected_question_with_ChatGPT = [\n",
    "    \"Co jest uważane za wydatek służbowy w podróży służbowej?\",\n",
    "    \"Wydatki służbowe – ubezpieczenie samochodu podlegające odliczeniu za wypadek, który wydarzył się podczas podróży służbowej.\",\n",
    "    \"Rozpoczęcie nowego biznesu online.\",\n",
    "    \"„Dzień roboczy” i „termin płatności” rachunków.\",\n",
    "    \"Nowy właściciel firmy – jak działają podatki dla firmy i osoby fizycznej?\",\n",
    "    \"Hobby kontra biznes.\",\n",
    "    \"Czeki osobiste zamiast firmowych.\",\n",
    "    \"Czy amerykański kodeks podatkowy wymaga, aby właściciele małych firm liczyli zakupy biznesowe jako dochód osobisty?\",\n",
    "    \"Jak mogę zarejestrować firmę w Wielkiej Brytanii bez podawania adresu firmy?\",\n",
    "    \"Czym są „podstawy biznesowe”?\",\n",
    "    \"Strata na inwestycjach biznesowych z poprzedniego roku.\",\n",
    "    \"Jak mogę oszacować podatki biznesowe/opłaty za zgłoszenie dla firmy, która ma 0 USD dochodu?\",\n",
    "    \"Czy zakup samochodu dla firmy za pomocą kredytu biznesowego zostałby uznany za wydatek biznesowy?\",\n",
    "    \"Odliczanie strat biznesowych z ostatnich lat (nieudokumentowanych).\",\n",
    "    \"3% udziału w biznesie.\",\n",
    "    \"Odbieranie wydatków służbowych z osobistej karty kredytowej.\",\n",
    "    \"Używanie czeku biznesowego do płatności w handlu detalicznym.\",\n",
    "    \"Podatek przy zakładaniu firmy na pełen etat.\",\n",
    "    \"Czy mogę spłacić saldo karty kredytowej, aby zwolnić dostępny kredyt?\",\n",
    "    \"Powolne rozpoczynanie działalności pobocznej.\",\n",
    "    \"Dlaczego „spieniężanie czeków” jest legalną działalnością?\",\n",
    "    \"Czy biznes to jedyny sposób na zostanie milionerem?\",\n",
    "    \"Wycena małej firmy, w którą warto zainwestować.\",\n",
    "    \"Rozpoczęcie dużego biznesu z niewielkimi dochodami.\",\n",
    "    \"Wymagania dotyczące rozliczania podatków biznesowych.\",\n",
    "    \"Ubezpieczenie zdrowotne do pracy i mojej firmy.\",\n",
    "    \"Doradztwo w zakresie transferu pieniędzy.\",\n",
    "    \"Jak przenieść leasing samochodu osobistego na leasing samochodu biznesowego?\",\n",
    "    \"Korepetycje z zarządzania płacami biznesowymi.\",\n",
    "    \"Czy jako właściciel małej firmy powinienem płacić podatki z mojego osobistego lub firmowego konta czekowego?\",\n",
    "    \"Czy biznes mojego męża powinien opłacać mój biznes?\"\n",
    "]"
   ]
  },
  {
   "cell_type": "code",
   "execution_count": null,
   "metadata": {},
   "outputs": [],
   "source": [
    "def calculate_ndcg_for_query(query_id, cnt_idx, n):\n",
    "\n",
    "    distorted_question = distorted_questions[query_id]\n",
    "    multi_match_query = {\"multi_match\": {\"query\": distorted_question, \"analyzer\": \"polish_analyzer_synonyms_included\", \"fields\": [\"text\"]}}\n",
    "    result = elasticsearch.search(index=\"fiqa-pl\", size=n, query=multi_match_query)\n",
    "    ndcg = calculate_ndcg(result, query_id, n)\n",
    "\n",
    "    corrected_question = corrected_questions[query_id]\n",
    "    multi_match_query = {\"multi_match\": {\"query\": corrected_question, \"analyzer\": \"polish_analyzer_synonyms_included\", \"fields\": [\"text\"]}}\n",
    "    result = elasticsearch.search(index=\"fiqa-pl\", size=n, query=multi_match_query)\n",
    "    ndcg2 = calculate_ndcg(result, query_id, n)\n",
    "\n",
    "    chatGPT_question = corrected_question_with_ChatGPT[cnt_idx]\n",
    "    multi_match_query = {\"multi_match\": {\"query\": chatGPT_question, \"analyzer\": \"polish_analyzer_synonyms_included\", \"fields\": [\"text\"]}}\n",
    "    result = elasticsearch.search(index=\"fiqa-pl\", size=n, query=multi_match_query)\n",
    "    ndcg3 = calculate_ndcg(result, query_id, n)\n",
    "\n",
    "    return ndcg, ndcg2, ndcg3"
   ]
  },
  {
   "cell_type": "code",
   "execution_count": 85,
   "metadata": {},
   "outputs": [
    {
     "name": "stdout",
     "output_type": "stream",
     "text": [
      "=============================== 0 ====================================\n",
      "Original question: \n",
      " Co jest uważane za wydatek służbowy w podróży służbowej?\n",
      "Question with typo: \n",
      " Co jest uważane za wydatek służbowy ż podróży służbowej?\n",
      "Corrected question with custom algorithm with Levenshtein: \n",
      " Co jest uważane za wydatek służbowy   podróży służbowej?\n",
      "Corrected question with ChatGPT: \n",
      " Co jest uważane za wydatek służbowy w podróży służbowej?\n",
      "\n",
      "nDCG@10 scores:\n",
      "distorted questions | corrected questions | ChatGPT questions\n",
      "0.0   |   0.0   |   0.0\n",
      "\n",
      "=============================== 1 ====================================\n",
      "Original question: \n",
      " Wydatki służbowe - ubezpieczenie samochodu podlegające odliczeniu za wypadek, który wydarzył się podczas podróży służbowej\n",
      "Question with typo: \n",
      " Wydatki służbowe - ubezpieczenie samochodu podlegające odliczeniu za wypadek, który wydarzył się podczas podróży służboweł\n",
      "Corrected question with custom algorithm with Levenshtein: \n",
      " Wydatki służbowe - ubezpieczenie samochodu podlegające odliczeniu za wypadek, który wydarzył się podczas podróży służbowe\n",
      "Corrected question with ChatGPT: \n",
      " Wydatki służbowe – ubezpieczenie samochodu podlegające odliczeniu za wypadek, który wydarzył się podczas podróży służbowej.\n",
      "\n",
      "nDCG@10 scores:\n",
      "distorted questions | corrected questions | ChatGPT questions\n",
      "0.0   |   0.0   |   0.0\n",
      "\n",
      "=============================== 2 ====================================\n",
      "Original question: \n",
      " Rozpoczęcie nowego biznesu online\n",
      "Question with typo: \n",
      " Rozpoczęcie nowego biznesu odline\n",
      "Corrected question with custom algorithm with Levenshtein: \n",
      " Rozpoczęcie nowego biznesu online\n",
      "Corrected question with ChatGPT: \n",
      " Rozpoczęcie nowego biznesu online.\n",
      "\n",
      "nDCG@10 scores:\n",
      "distorted questions | corrected questions | ChatGPT questions\n",
      "0.0   |   0.0   |   0.0\n",
      "\n",
      "=============================== 3 ====================================\n",
      "Original question: \n",
      " „Dzień roboczy” i „termin płatności” rachunków\n",
      "Question with typo: \n",
      " „Dzień robocry” i „termin płatności” rachunków\n",
      "Corrected question with custom algorithm with Levenshtein: \n",
      " „Dzień roboczy i „termin płatności” rachunków\n",
      "Corrected question with ChatGPT: \n",
      " „Dzień roboczy” i „termin płatności” rachunków.\n",
      "\n",
      "nDCG@10 scores:\n",
      "distorted questions | corrected questions | ChatGPT questions\n",
      "0.712   |   1.0   |   1.0\n",
      "\n",
      "=============================== 4 ====================================\n",
      "Original question: \n",
      " Nowy właściciel firmy – Jak działają podatki dla firmy i osoby fizycznej?\n",
      "Question with typo: \n",
      " Nswy właściciel firmy – Jak działają podatki dla firmy i osoby fizycznej?\n",
      "Corrected question with custom algorithm with Levenshtein: \n",
      " Nowy właściciel firmy – Jak działają podatki dla firmy i osoby fizycznej?\n",
      "Corrected question with ChatGPT: \n",
      " Nowy właściciel firmy – jak działają podatki dla firmy i osoby fizycznej?\n",
      "\n",
      "nDCG@10 scores:\n",
      "distorted questions | corrected questions | ChatGPT questions\n",
      "0.0   |   0.0   |   0.0\n",
      "\n",
      "=============================== 5 ====================================\n",
      "Original question: \n",
      " Hobby kontra biznes\n",
      "Question with typo: \n",
      " Hozby kontra biznes\n",
      "Corrected question with custom algorithm with Levenshtein: \n",
      " Hobby kontra biznes\n",
      "Corrected question with ChatGPT: \n",
      " Hobby kontra biznes.\n",
      "\n",
      "nDCG@10 scores:\n",
      "distorted questions | corrected questions | ChatGPT questions\n",
      "0.0   |   0.0   |   0.0\n",
      "\n",
      "=============================== 6 ====================================\n",
      "Original question: \n",
      " Czeki osobiste zamiast firmowych\n",
      "Question with typo: \n",
      " Czeki osobiste zampast firmowych\n",
      "Corrected question with custom algorithm with Levenshtein: \n",
      " Czeki osobiste zamiast firmowych\n",
      "Corrected question with ChatGPT: \n",
      " Czeki osobiste zamiast firmowych.\n",
      "\n",
      "nDCG@10 scores:\n",
      "distorted questions | corrected questions | ChatGPT questions\n",
      "0.0   |   0.0   |   0.0\n",
      "\n",
      "=============================== 7 ====================================\n",
      "Original question: \n",
      " Czy amerykański kodeks podatkowy wymaga, aby właściciele małych firm liczyli zakupy biznesowe jako dochód osobisty?\n",
      "Question with typo: \n",
      " Czy amerykański kodeks podatkowy wymaga, aby właściciele małych firm liczyli zakupy biznesowe jako docród osobisty?\n",
      "Corrected question with custom algorithm with Levenshtein: \n",
      " Czy amerykański kodeks podatkowy wymaga, aby właściciele małych firm liczyli zakupy biznesowe jako dochód osobisty?\n",
      "Corrected question with ChatGPT: \n",
      " Czy amerykański kodeks podatkowy wymaga, aby właściciele małych firm liczyli zakupy biznesowe jako dochód osobisty?\n",
      "\n",
      "nDCG@10 scores:\n",
      "distorted questions | corrected questions | ChatGPT questions\n",
      "0.605   |   0.626   |   0.626\n",
      "\n",
      "=============================== 8 ====================================\n",
      "Original question: \n",
      " Jak mogę zarejestrować firmę w Wielkiej Brytanii bez podawania adresu firmy?\n",
      "Question with typo: \n",
      " Jak mogę zarejestrowau firmę w Wielkiej Brytanii bez podawania adresu firmy?\n",
      "Corrected question with custom algorithm with Levenshtein: \n",
      " Jak mogę zarejestrować firmę w Wielkiej Brytanii bez podawania adresu firmy?\n",
      "Corrected question with ChatGPT: \n",
      " Jak mogę zarejestrować firmę w Wielkiej Brytanii bez podawania adresu firmy?\n",
      "\n",
      "nDCG@10 scores:\n",
      "distorted questions | corrected questions | ChatGPT questions\n",
      "1.0   |   1.0   |   1.0\n",
      "\n",
      "=============================== 9 ====================================\n",
      "Original question: \n",
      " Czym są „podstawy biznesowe”?\n",
      "Question with typo: \n",
      " Czym sv „podstawy biznesowe”?\n",
      "Corrected question with custom algorithm with Levenshtein: \n",
      " Czym s „podstawy biznesowe”?\n",
      "Corrected question with ChatGPT: \n",
      " Czym są „podstawy biznesowe”?\n",
      "\n",
      "nDCG@10 scores:\n",
      "distorted questions | corrected questions | ChatGPT questions\n",
      "0.5   |   0.631   |   0.631\n",
      "\n",
      "=============================== 10 ====================================\n",
      "Original question: \n",
      " Strata na inwestycjach biznesowych z poprzedniego roku\n",
      "Question with typo: \n",
      " Strata na inwestycjach biznesowych j poprzedniego roku\n",
      "Corrected question with custom algorithm with Levenshtein: \n",
      " Strata na inwestycjach biznesowych j poprzedniego roku\n",
      "Corrected question with ChatGPT: \n",
      " Strata na inwestycjach biznesowych z poprzedniego roku.\n",
      "\n",
      "nDCG@10 scores:\n",
      "distorted questions | corrected questions | ChatGPT questions\n",
      "0.0   |   0.0   |   0.0\n",
      "\n",
      "=============================== 11 ====================================\n",
      "Original question: \n",
      " Jak mogę oszacować podatki biznesowe / opłaty za zgłoszenie dla firmy, która ma 0 USD dochodu?\n",
      "Question with typo: \n",
      " Jak mogę oszacować podatki biznesowe / opłaty za zgłoszenie dla firmr, która ma 0 USD dochodu?\n",
      "Corrected question with custom algorithm with Levenshtein: \n",
      " Jak mogę oszacować podatki biznesowe / opłaty za zgłoszenie dla firm która ma 0 USD dochodu?\n",
      "Corrected question with ChatGPT: \n",
      " Jak mogę oszacować podatki biznesowe/opłaty za zgłoszenie dla firmy, która ma 0 USD dochodu?\n",
      "\n",
      "nDCG@10 scores:\n",
      "distorted questions | corrected questions | ChatGPT questions\n",
      "0.0   |   0.0   |   0.0\n",
      "\n",
      "=============================== 12 ====================================\n",
      "Original question: \n",
      " Czy zakup samochodu dla firmy za pomocą kredytu biznesowego zostałby uznany za wydatek biznesowy?\n",
      "Question with typo: \n",
      " Czy zakup samochodu dla firźy za pomocą kredytu biznesowego zostałby uznany za wydatek biznesowy?\n",
      "Corrected question with custom algorithm with Levenshtein: \n",
      " Czy zakup samochodu dla firmy za pomocą kredytu biznesowego zostałby uznany za wydatek biznesowy?\n",
      "Corrected question with ChatGPT: \n",
      " Czy zakup samochodu dla firmy za pomocą kredytu biznesowego zostałby uznany za wydatek biznesowy?\n",
      "\n",
      "nDCG@10 scores:\n",
      "distorted questions | corrected questions | ChatGPT questions\n",
      "0.289   |   0.0   |   0.0\n",
      "\n",
      "=============================== 13 ====================================\n",
      "Original question: \n",
      " Odliczanie strat biznesowych z ostatnich lat (nieudokumentowanych)\n",
      "Question with typo: \n",
      " Odliczanie strat biznesowych z ostatnich ldt (nieudokumentowanych)\n",
      "Corrected question with custom algorithm with Levenshtein: \n",
      " Odliczanie strat biznesowych z ostatnich ld (nieudokumentowanych)\n",
      "Corrected question with ChatGPT: \n",
      " Odliczanie strat biznesowych z ostatnich lat (nieudokumentowanych).\n",
      "\n",
      "nDCG@10 scores:\n",
      "distorted questions | corrected questions | ChatGPT questions\n",
      "0.0   |   0.0   |   0.0\n",
      "\n",
      "=============================== 14 ====================================\n",
      "Original question: \n",
      " 30% udziału w biznesie\n",
      "Question with typo: \n",
      " 30% uiziału w biznesie\n",
      "Corrected question with custom algorithm with Levenshtein: \n",
      " 30% udziału w biznesie\n",
      "Corrected question with ChatGPT: \n",
      " 3% udziału w biznesie.\n",
      "\n",
      "nDCG@10 scores:\n",
      "distorted questions | corrected questions | ChatGPT questions\n",
      "0.0   |   0.264   |   0.0\n",
      "\n",
      "=============================== 15 ====================================\n",
      "Original question: \n",
      " Odbieranie wydatków służbowych z osobistej karty kredytowej\n",
      "Question with typo: \n",
      " Odbieranie wydatków służbowycą z osobistej karty kredytowej\n",
      "Corrected question with custom algorithm with Levenshtein: \n",
      " Odbieranie wydatków służbowych z osobistej karty kredytowej\n",
      "Corrected question with ChatGPT: \n",
      " Odbieranie wydatków służbowych z osobistej karty kredytowej.\n",
      "\n",
      "nDCG@10 scores:\n",
      "distorted questions | corrected questions | ChatGPT questions\n",
      "0.0   |   0.0   |   0.0\n",
      "\n",
      "=============================== 16 ====================================\n",
      "Original question: \n",
      " Używanie czeku biznesowego do płatności w handlu detalicznym\n",
      "Question with typo: \n",
      " Używanie czeku biznesowego do płłtności w handlu detalicznym\n",
      "Corrected question with custom algorithm with Levenshtein: \n",
      " Używanie czeku biznesowego do płatności w handlu detalicznym\n",
      "Corrected question with ChatGPT: \n",
      " Używanie czeku biznesowego do płatności w handlu detalicznym.\n",
      "\n",
      "nDCG@10 scores:\n",
      "distorted questions | corrected questions | ChatGPT questions\n",
      "0.0   |   0.0   |   0.0\n",
      "\n",
      "=============================== 17 ====================================\n",
      "Original question: \n",
      " Podatek przy zakładaniu firmy w pełnym wymiarze czasu pracy\n",
      "Question with typo: \n",
      " Podatek przy zakładaniu firmy w pełnym wymiarze czusu pracy\n",
      "Corrected question with custom algorithm with Levenshtein: \n",
      " Podatek przy zakładaniu firmy w pełnym wymiarze czasu pracy\n",
      "Corrected question with ChatGPT: \n",
      " Podatek przy zakładaniu firmy na pełen etat.\n",
      "\n",
      "nDCG@10 scores:\n",
      "distorted questions | corrected questions | ChatGPT questions\n",
      "0.0   |   0.0   |   0.0\n",
      "\n",
      "=============================== 18 ====================================\n",
      "Original question: \n",
      " Czy mogę spłacić saldo karty kredytowej, aby zwolnić dostępny kredyt?\n",
      "Question with typo: \n",
      " Czy mogę spłacić saldo karty kredytowej, amy zwolnić dostępny kredyt?\n",
      "Corrected question with custom algorithm with Levenshtein: \n",
      " Czy mogę spłacić saldo karty kredytowej, am zwolnić dostępny kredyt?\n",
      "Corrected question with ChatGPT: \n",
      " Czy mogę spłacić saldo karty kredytowej, aby zwolnić dostępny kredyt?\n",
      "\n",
      "nDCG@10 scores:\n",
      "distorted questions | corrected questions | ChatGPT questions\n",
      "0.0   |   0.0   |   0.123\n",
      "\n",
      "=============================== 19 ====================================\n",
      "Original question: \n",
      " Powolne rozpoczynanie działalności pobocznej\n",
      "Question with typo: \n",
      " Powolne rozpoczynanie działalności podocznej\n",
      "Corrected question with custom algorithm with Levenshtein: \n",
      " Powolne rozpoczynanie działalności podocznej\n",
      "Corrected question with ChatGPT: \n",
      " Powolne rozpoczynanie działalności pobocznej.\n",
      "\n",
      "nDCG@10 scores:\n",
      "distorted questions | corrected questions | ChatGPT questions\n",
      "0.0   |   0.0   |   0.0\n",
      "\n",
      "=============================== 20 ====================================\n",
      "Original question: \n",
      " Dlaczego „spieniężanie czeków” jest legalną działalnością?\n",
      "Question with typo: \n",
      " dlaczego „spieniężanie czeków” jest legalną działalnością?\n",
      "Corrected question with custom algorithm with Levenshtein: \n",
      " dlaczego „spieniężanie czeków” jest legalną działalnością?\n",
      "Corrected question with ChatGPT: \n",
      " Dlaczego „spieniężanie czeków” jest legalną działalnością?\n",
      "\n",
      "nDCG@10 scores:\n",
      "distorted questions | corrected questions | ChatGPT questions\n",
      "0.0   |   0.0   |   0.0\n",
      "\n",
      "=============================== 21 ====================================\n",
      "Original question: \n",
      " Czy biznes to jedyny sposób na zostanie milionerem?\n",
      "Question with typo: \n",
      " Czy biznes to jedyny sposób na zostanie milionesem?\n",
      "Corrected question with custom algorithm with Levenshtein: \n",
      " Czy biznes to jedyny sposób na zostanie milionerem\n",
      "Corrected question with ChatGPT: \n",
      " Czy biznes to jedyny sposób na zostanie milionerem?\n",
      "\n",
      "nDCG@10 scores:\n",
      "distorted questions | corrected questions | ChatGPT questions\n",
      "0.0   |   0.613   |   0.613\n",
      "\n",
      "=============================== 22 ====================================\n",
      "Original question: \n",
      " Wycenianie małej firmy, w którą warto zainwestować\n",
      "Question with typo: \n",
      " nycenianie małej firmy, w którą warto zainwestować\n",
      "Corrected question with custom algorithm with Levenshtein: \n",
      " Wycenianie małej firmy, w którą warto zainwestować\n",
      "Corrected question with ChatGPT: \n",
      " Wycena małej firmy, w którą warto zainwestować.\n",
      "\n",
      "nDCG@10 scores:\n",
      "distorted questions | corrected questions | ChatGPT questions\n",
      "0.0   |   0.0   |   0.0\n",
      "\n",
      "=============================== 23 ====================================\n",
      "Original question: \n",
      " Rozpoczęcie dużego biznesu z niezbyt dużymi dochodami?\n",
      "Question with typo: \n",
      " Rozpoczęcie dużego bizęesu z niezbyt dużymi dochodami?\n",
      "Corrected question with custom algorithm with Levenshtein: \n",
      " Rozpoczęcie dużego biznesu z niezbyt dużymi dochodami?\n",
      "Corrected question with ChatGPT: \n",
      " Rozpoczęcie dużego biznesu z niewielkimi dochodami.\n",
      "\n",
      "nDCG@10 scores:\n",
      "distorted questions | corrected questions | ChatGPT questions\n",
      "0.0   |   0.0   |   0.0\n",
      "\n",
      "=============================== 24 ====================================\n",
      "Original question: \n",
      " Wymagania dotyczące rozliczania podatków biznesowych?\n",
      "Question with typo: \n",
      " Wymagania dotycźące rozliczania podatków biznesowych?\n",
      "Corrected question with custom algorithm with Levenshtein: \n",
      " Wymagania dotyczące rozliczania podatków biznesowych?\n",
      "Corrected question with ChatGPT: \n",
      " Wymagania dotyczące rozliczania podatków biznesowych.\n",
      "\n",
      "nDCG@10 scores:\n",
      "distorted questions | corrected questions | ChatGPT questions\n",
      "0.0   |   0.0   |   0.0\n",
      "\n",
      "=============================== 25 ====================================\n",
      "Original question: \n",
      " IRA do pracy i mojej firmy\n",
      "Question with typo: \n",
      " aRA do pracy i mojej firmy\n",
      "Corrected question with custom algorithm with Levenshtein: \n",
      " CRA do pracy i mojej firmy\n",
      "Corrected question with ChatGPT: \n",
      " Ubezpieczenie zdrowotne do pracy i mojej firmy.\n",
      "\n",
      "nDCG@10 scores:\n",
      "distorted questions | corrected questions | ChatGPT questions\n",
      "0.0   |   0.0   |   0.0\n",
      "\n",
      "=============================== 26 ====================================\n",
      "Original question: \n",
      " Doradztwo w zakresie transferu pieniędzy\n",
      "Question with typo: \n",
      " Doradotwo w zakresie transferu pieniędzy\n",
      "Corrected question with custom algorithm with Levenshtein: \n",
      " Doradztwo w zakresie transferu pieniędzy\n",
      "Corrected question with ChatGPT: \n",
      " Doradztwo w zakresie transferu pieniędzy.\n",
      "\n",
      "nDCG@10 scores:\n",
      "distorted questions | corrected questions | ChatGPT questions\n",
      "0.0   |   0.0   |   0.0\n",
      "\n",
      "=============================== 27 ====================================\n",
      "Original question: \n",
      " Jak przenieść leasing samochodu osobistego do leasingu samochodu biznesowego?\n",
      "Question with typo: \n",
      " Jak przenieść leasing samochodu osobistego dć leasingu samochodu biznesowego?\n",
      "Corrected question with custom algorithm with Levenshtein: \n",
      " Jak przenieść leasing samochodu osobistego d leasingu samochodu biznesowego?\n",
      "Corrected question with ChatGPT: \n",
      " Jak przenieść leasing samochodu osobistego na leasing samochodu biznesowego?\n",
      "\n",
      "nDCG@10 scores:\n",
      "distorted questions | corrected questions | ChatGPT questions\n",
      "0.0   |   0.0   |   0.0\n",
      "\n",
      "=============================== 28 ====================================\n",
      "Original question: \n",
      " Korepetycje z zarządzania płacami biznesowymi\n",
      "Question with typo: \n",
      " Korepetycje z zarządzania płacami biznesowydi\n",
      "Corrected question with custom algorithm with Levenshtein: \n",
      " Korepetycje z zarządzania płacami biznesowymi\n",
      "Corrected question with ChatGPT: \n",
      " Korepetycje z zarządzania płacami biznesowymi.\n",
      "\n",
      "nDCG@10 scores:\n",
      "distorted questions | corrected questions | ChatGPT questions\n",
      "0.0   |   0.0   |   0.0\n",
      "\n",
      "=============================== 29 ====================================\n",
      "Original question: \n",
      " Czy jako właściciel małej firmy powinienem płacić podatki z mojego osobistego lub firmowego konta czekowego?\n",
      "Question with typo: \n",
      " Czy jako właściciel małej firmy powinienem płacić podatki z mojego osobistego lub fiymowego konta czekowego?\n",
      "Corrected question with custom algorithm with Levenshtein: \n",
      " Czy jako właściciel małej firmy powinienem płacić podatki z mojego osobistego lub firmowego konta czekowego?\n",
      "Corrected question with ChatGPT: \n",
      " Czy jako właściciel małej firmy powinienem płacić podatki z mojego osobistego lub firmowego konta czekowego?\n",
      "\n",
      "nDCG@10 scores:\n",
      "distorted questions | corrected questions | ChatGPT questions\n",
      "0.301   |   0.356   |   0.356\n",
      "\n",
      "=============================== 30 ====================================\n",
      "Original question: \n",
      " Czy biznes mojego męża powinien opłacać mój biznes?\n",
      "Question with typo: \n",
      " Czy biznes mojego męża powinien opłacać mój biznes?\n",
      "Corrected question with custom algorithm with Levenshtein: \n",
      " Czy biznes mojego męża powinien opłacać mój biznes?\n",
      "Corrected question with ChatGPT: \n",
      " Czy biznes mojego męża powinien opłacać mój biznes?\n",
      "\n",
      "nDCG@10 scores:\n",
      "distorted questions | corrected questions | ChatGPT questions\n",
      "0.0   |   0.0   |   0.0\n",
      "\n",
      "nDCG@10 mean scores:\n",
      "distorted questions | corrected questions | ChatGPT questions\n",
      "0.11   |   0.145   |   0.14\n"
     ]
    }
   ],
   "source": [
    "cnt_idx = 0\n",
    "ndcg1s = []\n",
    "ndcg2s = []\n",
    "ndcg3s = []\n",
    "\n",
    "for q_id in first_30_questions.keys():\n",
    "    print(\"===============================\", cnt_idx, \"====================================\")\n",
    "    print(\"Original question: \\n\", ds_q_dict[q_id])\n",
    "    print(\"Question with typo: \\n\", first_30_questions[q_id])\n",
    "    print(\"Corrected question with custom algorithm with Levenshtein: \\n\", corrected_questions[q_id])\n",
    "    print(\"Corrected question with ChatGPT: \\n\", corrected_question_with_ChatGPT[cnt_idx])\n",
    "    print(\"\")\n",
    "    print(\"nDCG@10 scores:\")\n",
    "    print(\"distorted questions | corrected questions | ChatGPT questions\")\n",
    "    ndcg1, ndcg2, ndcg3 = calculate_ndcg_for_query(q_id, cnt_idx, 10)\n",
    "    ndcg1s.append(ndcg1)\n",
    "    ndcg2s.append(ndcg2)\n",
    "    ndcg3s.append(ndcg3)\n",
    "    print(round(ndcg1, 3), '  |  ', round(ndcg2, 3), '  |  ', round(ndcg3, 3))\n",
    "    print(\"\")\n",
    "    \n",
    "    cnt_idx += 1\n",
    "\n",
    "print(\"nDCG@10 mean scores:\")\n",
    "print(\"distorted questions | corrected questions | ChatGPT questions\")\n",
    "print(round(np.mean(ndcg1s), 3), '  |  ', round(np.mean(ndcg2s), 3), '  |  ', round(np.mean(ndcg3s), 3))\n"
   ]
  },
  {
   "cell_type": "markdown",
   "metadata": {},
   "source": [
    "## Draw conclusions regarding (2 points):\n",
    "  * the distribution of words in the corpus,\\\n",
    "    **There were a lot of different words in the corpus. Most frequent were conjunctions and stop words.\\\n",
    "      It was time-consuming for my method to find the most similar word, because of vast diversity.**\n",
    "\n",
    "  * the performance of your method compared to ElasticSearch,\\\n",
    "    **The performance of the used method takes much more time compared to ElasticSearch. \\\n",
    "      In the introduced method I need to check Levenshtein distance of all words that differed in length at maximum 1 letter.**\n",
    "\n",
    "  * the results provided by your method compared to ElasticSearch,\\\n",
    "    **Considering nDCG my method was better in correcting words. It achieved slightly better results e.g. 0.328 > 0.297.\\\n",
    "    But ES fuzzy-match is more advanced method and could cope with more advanced errors.**\n",
    "\n",
    "  * the validity of the obtained corrections,\\\n",
    "    **My method was more precise but sometimes failed completely. It couldn't recognize mistakes, instead, it took foreign words as flawed.\\\n",
    "      There were also other mistakes. It failed to find a word to correct. It was able to replace a word with a very similar, but still not exact one.**\n",
    "\n",
    "  * ability of an LLM to fix invalid queries.\\\n",
    "    **I used ChatGPT to correct invalid queries. To my surprise, it wasn't as good as I thought, because instead of just correcting words it also\\\n",
    "      rephrased sentences to ones with similar meaning, but with different words. It corrected errors where there was no need to do this.\\\n",
    "      It struggled with predicting numbers because it couldn't guess the correct one.\\\n",
    "      LLMs are not perfect tools with their flaws and always should be taken with a pinch of salt.**\n",
    "    \n"
   ]
  }
 ],
 "metadata": {
  "kernelspec": {
   "display_name": "jup-env",
   "language": "python",
   "name": "python3"
  },
  "language_info": {
   "codemirror_mode": {
    "name": "ipython",
    "version": 3
   },
   "file_extension": ".py",
   "mimetype": "text/x-python",
   "name": "python",
   "nbconvert_exporter": "python",
   "pygments_lexer": "ipython3",
   "version": "3.11.7"
  }
 },
 "nbformat": 4,
 "nbformat_minor": 2
}
